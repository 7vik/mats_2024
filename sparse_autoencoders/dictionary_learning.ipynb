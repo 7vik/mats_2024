{
 "cells": [
  {
   "cell_type": "markdown",
   "metadata": {},
   "source": [
    "Fuck it, gonna do it myself"
   ]
  },
  {
   "cell_type": "code",
   "execution_count": 1,
   "metadata": {},
   "outputs": [],
   "source": [
    "import torch\n",
    "import torch.nn as nn\n",
    "import torch.nn.functional as F\n",
    "import torch.optim as optim\n",
    "import numpy as np\n",
    "import einops\n",
    "from fancy_einsum import einsum\n",
    "import tqdm.notebook as tqdm\n",
    "import random\n",
    "from pathlib import Path\n",
    "import plotly.express as px\n",
    "from torch.utils.data import DataLoader\n",
    "\n",
    "from typing import List, Union, Optional\n",
    "from functools import partial\n",
    "import copy\n",
    "\n",
    "import itertools"
   ]
  },
  {
   "cell_type": "code",
   "execution_count": 20,
   "metadata": {},
   "outputs": [],
   "source": [
    "import plotly.express as px\n",
    "import plotly.graph_objects as go\n",
    "from plotly.subplots import make_subplots\n",
    "from IPython.display import clear_output"
   ]
  },
  {
   "cell_type": "code",
   "execution_count": 2,
   "metadata": {},
   "outputs": [],
   "source": [
    "import transformer_lens\n",
    "import transformer_lens.utils as utils\n",
    "from transformer_lens.hook_points import (HookedRootModule, HookPoint)\n",
    "from transformer_lens import HookedTransformer, HookedTransformerConfig, FactoredMatrix, ActivationCache\n",
    "\n",
    "from datasets import load_dataset"
   ]
  },
  {
   "cell_type": "code",
   "execution_count": 3,
   "metadata": {},
   "outputs": [
    {
     "name": "stderr",
     "output_type": "stream",
     "text": [
      "Special tokens have been added in the vocabulary, make sure the associated word embeddings are fine-tuned or trained.\n"
     ]
    },
    {
     "name": "stdout",
     "output_type": "stream",
     "text": [
      "Loaded pretrained model pythia-70m into HookedTransformer\n"
     ]
    }
   ],
   "source": [
    "model = HookedTransformer.from_pretrained('pythia-70m')"
   ]
  },
  {
   "cell_type": "code",
   "execution_count": 4,
   "metadata": {},
   "outputs": [
    {
     "data": {
      "application/vnd.jupyter.widget-view+json": {
       "model_id": "921cd94876f94175ba57b9c07e30de65",
       "version_major": 2,
       "version_minor": 0
      },
      "text/plain": [
       "Resolving data files:   0%|          | 0/41 [00:00<?, ?it/s]"
      ]
     },
     "metadata": {},
     "output_type": "display_data"
    },
    {
     "data": {
      "application/vnd.jupyter.widget-view+json": {
       "model_id": "30935262ca8d48c7b36889dfefc78201",
       "version_major": 2,
       "version_minor": 0
      },
      "text/plain": [
       "Loading dataset shards:   0%|          | 0/41 [00:00<?, ?it/s]"
      ]
     },
     "metadata": {},
     "output_type": "display_data"
    }
   ],
   "source": [
    "ds = load_dataset(\"wikimedia/wikipedia\", \"20231101.en\")"
   ]
  },
  {
   "cell_type": "code",
   "execution_count": 5,
   "metadata": {},
   "outputs": [
    {
     "data": {
      "text/plain": [
       "6407814"
      ]
     },
     "execution_count": 5,
     "metadata": {},
     "output_type": "execute_result"
    }
   ],
   "source": [
    "len(ds['train']['text'])"
   ]
  },
  {
   "cell_type": "code",
   "execution_count": 6,
   "metadata": {},
   "outputs": [],
   "source": [
    "rows = 10\n",
    "activation_store = []"
   ]
  },
  {
   "cell_type": "code",
   "execution_count": 7,
   "metadata": {},
   "outputs": [
    {
     "data": {
      "application/vnd.jupyter.widget-view+json": {
       "model_id": "e8082a7e86dc457f91b6614c7b869989",
       "version_major": 2,
       "version_minor": 0
      },
      "text/plain": [
       "  0%|          | 0/10 [00:00<?, ?it/s]"
      ]
     },
     "metadata": {},
     "output_type": "display_data"
    }
   ],
   "source": [
    "for i in tqdm.trange(rows):\n",
    "    _, cache = model.run_with_cache(ds['train']['text'][i], names_filter=['blocks.4.hook_resid_pre'])\n",
    "    activations = cache['blocks.4.hook_resid_pre'][0]\n",
    "    activations = activations[torch.randperm(activations.shape[0])]\n",
    "    activation_store.append(activations)"
   ]
  },
  {
   "cell_type": "code",
   "execution_count": 11,
   "metadata": {},
   "outputs": [],
   "source": [
    "activation_store = torch.cat(activation_store, dim=0)\n",
    "# store \n",
    "torch.save(activation_store, 'activation_store.pt')"
   ]
  },
  {
   "cell_type": "code",
   "execution_count": 13,
   "metadata": {},
   "outputs": [
    {
     "data": {
      "text/plain": [
       "torch.Size([18988, 512])"
      ]
     },
     "execution_count": 13,
     "metadata": {},
     "output_type": "execute_result"
    }
   ],
   "source": [
    "activation_store = torch.load('activation_store.pt')\n",
    "activation_store.shape"
   ]
  },
  {
   "cell_type": "code",
   "execution_count": 14,
   "metadata": {},
   "outputs": [],
   "source": [
    "class AutoEncoder(nn.Module):\n",
    "    def __init__(self, hidden_size=4096, device='cuda'):\n",
    "        super().__init__()\n",
    "        self.l1_coeff = 3e-4\n",
    "        self.d_model = 512\n",
    "        self.W_enc = nn.Linear(self.d_model, hidden_size)\n",
    "        self.W_dec = nn.Linear(hidden_size, self.d_model)\n",
    "        self.b_enc = nn.Parameter(torch.zeros(hidden_size))\n",
    "        self.b_dec = nn.Parameter(torch.zeros(self.d_model))\n",
    "        self.W_dec.weight.data = self.W_dec.weight.data / self.W_dec.weight.data.norm(dim=-1, keepdim=True)\n",
    "        self.to(device)\n",
    "\n",
    "    def forward(self, x):\n",
    "        x_cent = x - self.b_dec\n",
    "        acts = F.relu(self.W_enc(x_cent) + self.b_enc)\n",
    "        x_hat = self.W_dec(acts) + self.b_dec\n",
    "        l2_loss = (x - x_hat).pow(2).sum(-1).mean(0)\n",
    "        l1_loss = self.l1_coeff * (acts.float().abs().sum())\n",
    "        loss = l2_loss + l1_loss\n",
    "        return loss, x_hat, acts, l2_loss, l1_loss\n",
    "    \n",
    "    @torch.no_grad()\n",
    "    def make_decoder_weights_and_grad_unit_norm(self):\n",
    "        W_dec_normed = self.W_dec.weight.data / self.W_dec.weight.data.norm(dim=-1, keepdim=True)\n",
    "        W_dec_grad_proj = (self.W_dec.weight.grad * W_dec_normed).sum(-1, keepdim=True) * W_dec_normed\n",
    "        self.W_dec.weight.grad -= W_dec_grad_proj\n",
    "        self.W_dec.data = W_dec_normed"
   ]
  },
  {
   "cell_type": "code",
   "execution_count": 21,
   "metadata": {},
   "outputs": [],
   "source": [
    "def plot_losses(sae_l1_weights, sae_train_losses):\n",
    "    # make two side-by-side plots\n",
    "    fig = make_subplots(rows=1, cols=2, subplot_titles=('L1 weights', 'Train losses'))\n",
    "    fig.add_trace(go.Scatter(y=sae_l1_weights), row=1, col=1)\n",
    "    fig.add_trace(go.Scatter(y=sae_train_losses), row=1, col=2)\n",
    "    fig.update_layout(title='Autoencoder training progress')\n",
    "    fig.show()"
   ]
  },
  {
   "cell_type": "code",
   "execution_count": 26,
   "metadata": {},
   "outputs": [],
   "source": [
    "sae = AutoEncoder()\n",
    "sae_train_losses = []\n",
    "sae_l1_weights = []\n",
    "epochs = 10\n",
    "batch_size = 64\n",
    "optimizer = optim.Adam(sae.parameters(), lr=1e-4)"
   ]
  },
  {
   "cell_type": "code",
   "execution_count": 27,
   "metadata": {},
   "outputs": [
    {
     "data": {
      "application/vnd.plotly.v1+json": {
       "config": {
        "plotlyServerURL": "https://plot.ly"
       },
       "data": [
        {
         "type": "scatter",
         "xaxis": "x",
         "y": [
          0.02210289445806358,
          0.022176684537435147,
          0.022274730706280197,
          0.022351254770473,
          0.02240225607429225,
          0.022428306060161794,
          0.022432220341256727,
          0.02242291851347061,
          0.022391509056744235,
          0.02234581804712471
         ],
         "yaxis": "y"
        },
        {
         "type": "scatter",
         "xaxis": "x2",
         "y": [
          71.22896537194133,
          32.882410583431806,
          22.927525547848067,
          17.971157706409148,
          15.015593749537125,
          13.054728554403603,
          11.864374167597216,
          10.823855587927346,
          9.851618144596053,
          9.32857262061123
         ],
         "yaxis": "y2"
        }
       ],
       "layout": {
        "annotations": [
         {
          "font": {
           "size": 16
          },
          "showarrow": false,
          "text": "L1 weights",
          "x": 0.225,
          "xanchor": "center",
          "xref": "paper",
          "y": 1,
          "yanchor": "bottom",
          "yref": "paper"
         },
         {
          "font": {
           "size": 16
          },
          "showarrow": false,
          "text": "Train losses",
          "x": 0.775,
          "xanchor": "center",
          "xref": "paper",
          "y": 1,
          "yanchor": "bottom",
          "yref": "paper"
         }
        ],
        "template": {
         "data": {
          "bar": [
           {
            "error_x": {
             "color": "#2a3f5f"
            },
            "error_y": {
             "color": "#2a3f5f"
            },
            "marker": {
             "line": {
              "color": "#E5ECF6",
              "width": 0.5
             },
             "pattern": {
              "fillmode": "overlay",
              "size": 10,
              "solidity": 0.2
             }
            },
            "type": "bar"
           }
          ],
          "barpolar": [
           {
            "marker": {
             "line": {
              "color": "#E5ECF6",
              "width": 0.5
             },
             "pattern": {
              "fillmode": "overlay",
              "size": 10,
              "solidity": 0.2
             }
            },
            "type": "barpolar"
           }
          ],
          "carpet": [
           {
            "aaxis": {
             "endlinecolor": "#2a3f5f",
             "gridcolor": "white",
             "linecolor": "white",
             "minorgridcolor": "white",
             "startlinecolor": "#2a3f5f"
            },
            "baxis": {
             "endlinecolor": "#2a3f5f",
             "gridcolor": "white",
             "linecolor": "white",
             "minorgridcolor": "white",
             "startlinecolor": "#2a3f5f"
            },
            "type": "carpet"
           }
          ],
          "choropleth": [
           {
            "colorbar": {
             "outlinewidth": 0,
             "ticks": ""
            },
            "type": "choropleth"
           }
          ],
          "contour": [
           {
            "colorbar": {
             "outlinewidth": 0,
             "ticks": ""
            },
            "colorscale": [
             [
              0,
              "#0d0887"
             ],
             [
              0.1111111111111111,
              "#46039f"
             ],
             [
              0.2222222222222222,
              "#7201a8"
             ],
             [
              0.3333333333333333,
              "#9c179e"
             ],
             [
              0.4444444444444444,
              "#bd3786"
             ],
             [
              0.5555555555555556,
              "#d8576b"
             ],
             [
              0.6666666666666666,
              "#ed7953"
             ],
             [
              0.7777777777777778,
              "#fb9f3a"
             ],
             [
              0.8888888888888888,
              "#fdca26"
             ],
             [
              1,
              "#f0f921"
             ]
            ],
            "type": "contour"
           }
          ],
          "contourcarpet": [
           {
            "colorbar": {
             "outlinewidth": 0,
             "ticks": ""
            },
            "type": "contourcarpet"
           }
          ],
          "heatmap": [
           {
            "colorbar": {
             "outlinewidth": 0,
             "ticks": ""
            },
            "colorscale": [
             [
              0,
              "#0d0887"
             ],
             [
              0.1111111111111111,
              "#46039f"
             ],
             [
              0.2222222222222222,
              "#7201a8"
             ],
             [
              0.3333333333333333,
              "#9c179e"
             ],
             [
              0.4444444444444444,
              "#bd3786"
             ],
             [
              0.5555555555555556,
              "#d8576b"
             ],
             [
              0.6666666666666666,
              "#ed7953"
             ],
             [
              0.7777777777777778,
              "#fb9f3a"
             ],
             [
              0.8888888888888888,
              "#fdca26"
             ],
             [
              1,
              "#f0f921"
             ]
            ],
            "type": "heatmap"
           }
          ],
          "heatmapgl": [
           {
            "colorbar": {
             "outlinewidth": 0,
             "ticks": ""
            },
            "colorscale": [
             [
              0,
              "#0d0887"
             ],
             [
              0.1111111111111111,
              "#46039f"
             ],
             [
              0.2222222222222222,
              "#7201a8"
             ],
             [
              0.3333333333333333,
              "#9c179e"
             ],
             [
              0.4444444444444444,
              "#bd3786"
             ],
             [
              0.5555555555555556,
              "#d8576b"
             ],
             [
              0.6666666666666666,
              "#ed7953"
             ],
             [
              0.7777777777777778,
              "#fb9f3a"
             ],
             [
              0.8888888888888888,
              "#fdca26"
             ],
             [
              1,
              "#f0f921"
             ]
            ],
            "type": "heatmapgl"
           }
          ],
          "histogram": [
           {
            "marker": {
             "pattern": {
              "fillmode": "overlay",
              "size": 10,
              "solidity": 0.2
             }
            },
            "type": "histogram"
           }
          ],
          "histogram2d": [
           {
            "colorbar": {
             "outlinewidth": 0,
             "ticks": ""
            },
            "colorscale": [
             [
              0,
              "#0d0887"
             ],
             [
              0.1111111111111111,
              "#46039f"
             ],
             [
              0.2222222222222222,
              "#7201a8"
             ],
             [
              0.3333333333333333,
              "#9c179e"
             ],
             [
              0.4444444444444444,
              "#bd3786"
             ],
             [
              0.5555555555555556,
              "#d8576b"
             ],
             [
              0.6666666666666666,
              "#ed7953"
             ],
             [
              0.7777777777777778,
              "#fb9f3a"
             ],
             [
              0.8888888888888888,
              "#fdca26"
             ],
             [
              1,
              "#f0f921"
             ]
            ],
            "type": "histogram2d"
           }
          ],
          "histogram2dcontour": [
           {
            "colorbar": {
             "outlinewidth": 0,
             "ticks": ""
            },
            "colorscale": [
             [
              0,
              "#0d0887"
             ],
             [
              0.1111111111111111,
              "#46039f"
             ],
             [
              0.2222222222222222,
              "#7201a8"
             ],
             [
              0.3333333333333333,
              "#9c179e"
             ],
             [
              0.4444444444444444,
              "#bd3786"
             ],
             [
              0.5555555555555556,
              "#d8576b"
             ],
             [
              0.6666666666666666,
              "#ed7953"
             ],
             [
              0.7777777777777778,
              "#fb9f3a"
             ],
             [
              0.8888888888888888,
              "#fdca26"
             ],
             [
              1,
              "#f0f921"
             ]
            ],
            "type": "histogram2dcontour"
           }
          ],
          "mesh3d": [
           {
            "colorbar": {
             "outlinewidth": 0,
             "ticks": ""
            },
            "type": "mesh3d"
           }
          ],
          "parcoords": [
           {
            "line": {
             "colorbar": {
              "outlinewidth": 0,
              "ticks": ""
             }
            },
            "type": "parcoords"
           }
          ],
          "pie": [
           {
            "automargin": true,
            "type": "pie"
           }
          ],
          "scatter": [
           {
            "fillpattern": {
             "fillmode": "overlay",
             "size": 10,
             "solidity": 0.2
            },
            "type": "scatter"
           }
          ],
          "scatter3d": [
           {
            "line": {
             "colorbar": {
              "outlinewidth": 0,
              "ticks": ""
             }
            },
            "marker": {
             "colorbar": {
              "outlinewidth": 0,
              "ticks": ""
             }
            },
            "type": "scatter3d"
           }
          ],
          "scattercarpet": [
           {
            "marker": {
             "colorbar": {
              "outlinewidth": 0,
              "ticks": ""
             }
            },
            "type": "scattercarpet"
           }
          ],
          "scattergeo": [
           {
            "marker": {
             "colorbar": {
              "outlinewidth": 0,
              "ticks": ""
             }
            },
            "type": "scattergeo"
           }
          ],
          "scattergl": [
           {
            "marker": {
             "colorbar": {
              "outlinewidth": 0,
              "ticks": ""
             }
            },
            "type": "scattergl"
           }
          ],
          "scattermapbox": [
           {
            "marker": {
             "colorbar": {
              "outlinewidth": 0,
              "ticks": ""
             }
            },
            "type": "scattermapbox"
           }
          ],
          "scatterpolar": [
           {
            "marker": {
             "colorbar": {
              "outlinewidth": 0,
              "ticks": ""
             }
            },
            "type": "scatterpolar"
           }
          ],
          "scatterpolargl": [
           {
            "marker": {
             "colorbar": {
              "outlinewidth": 0,
              "ticks": ""
             }
            },
            "type": "scatterpolargl"
           }
          ],
          "scatterternary": [
           {
            "marker": {
             "colorbar": {
              "outlinewidth": 0,
              "ticks": ""
             }
            },
            "type": "scatterternary"
           }
          ],
          "surface": [
           {
            "colorbar": {
             "outlinewidth": 0,
             "ticks": ""
            },
            "colorscale": [
             [
              0,
              "#0d0887"
             ],
             [
              0.1111111111111111,
              "#46039f"
             ],
             [
              0.2222222222222222,
              "#7201a8"
             ],
             [
              0.3333333333333333,
              "#9c179e"
             ],
             [
              0.4444444444444444,
              "#bd3786"
             ],
             [
              0.5555555555555556,
              "#d8576b"
             ],
             [
              0.6666666666666666,
              "#ed7953"
             ],
             [
              0.7777777777777778,
              "#fb9f3a"
             ],
             [
              0.8888888888888888,
              "#fdca26"
             ],
             [
              1,
              "#f0f921"
             ]
            ],
            "type": "surface"
           }
          ],
          "table": [
           {
            "cells": {
             "fill": {
              "color": "#EBF0F8"
             },
             "line": {
              "color": "white"
             }
            },
            "header": {
             "fill": {
              "color": "#C8D4E3"
             },
             "line": {
              "color": "white"
             }
            },
            "type": "table"
           }
          ]
         },
         "layout": {
          "annotationdefaults": {
           "arrowcolor": "#2a3f5f",
           "arrowhead": 0,
           "arrowwidth": 1
          },
          "autotypenumbers": "strict",
          "coloraxis": {
           "colorbar": {
            "outlinewidth": 0,
            "ticks": ""
           }
          },
          "colorscale": {
           "diverging": [
            [
             0,
             "#8e0152"
            ],
            [
             0.1,
             "#c51b7d"
            ],
            [
             0.2,
             "#de77ae"
            ],
            [
             0.3,
             "#f1b6da"
            ],
            [
             0.4,
             "#fde0ef"
            ],
            [
             0.5,
             "#f7f7f7"
            ],
            [
             0.6,
             "#e6f5d0"
            ],
            [
             0.7,
             "#b8e186"
            ],
            [
             0.8,
             "#7fbc41"
            ],
            [
             0.9,
             "#4d9221"
            ],
            [
             1,
             "#276419"
            ]
           ],
           "sequential": [
            [
             0,
             "#0d0887"
            ],
            [
             0.1111111111111111,
             "#46039f"
            ],
            [
             0.2222222222222222,
             "#7201a8"
            ],
            [
             0.3333333333333333,
             "#9c179e"
            ],
            [
             0.4444444444444444,
             "#bd3786"
            ],
            [
             0.5555555555555556,
             "#d8576b"
            ],
            [
             0.6666666666666666,
             "#ed7953"
            ],
            [
             0.7777777777777778,
             "#fb9f3a"
            ],
            [
             0.8888888888888888,
             "#fdca26"
            ],
            [
             1,
             "#f0f921"
            ]
           ],
           "sequentialminus": [
            [
             0,
             "#0d0887"
            ],
            [
             0.1111111111111111,
             "#46039f"
            ],
            [
             0.2222222222222222,
             "#7201a8"
            ],
            [
             0.3333333333333333,
             "#9c179e"
            ],
            [
             0.4444444444444444,
             "#bd3786"
            ],
            [
             0.5555555555555556,
             "#d8576b"
            ],
            [
             0.6666666666666666,
             "#ed7953"
            ],
            [
             0.7777777777777778,
             "#fb9f3a"
            ],
            [
             0.8888888888888888,
             "#fdca26"
            ],
            [
             1,
             "#f0f921"
            ]
           ]
          },
          "colorway": [
           "#636efa",
           "#EF553B",
           "#00cc96",
           "#ab63fa",
           "#FFA15A",
           "#19d3f3",
           "#FF6692",
           "#B6E880",
           "#FF97FF",
           "#FECB52"
          ],
          "font": {
           "color": "#2a3f5f"
          },
          "geo": {
           "bgcolor": "white",
           "lakecolor": "white",
           "landcolor": "#E5ECF6",
           "showlakes": true,
           "showland": true,
           "subunitcolor": "white"
          },
          "hoverlabel": {
           "align": "left"
          },
          "hovermode": "closest",
          "mapbox": {
           "style": "light"
          },
          "paper_bgcolor": "white",
          "plot_bgcolor": "#E5ECF6",
          "polar": {
           "angularaxis": {
            "gridcolor": "white",
            "linecolor": "white",
            "ticks": ""
           },
           "bgcolor": "#E5ECF6",
           "radialaxis": {
            "gridcolor": "white",
            "linecolor": "white",
            "ticks": ""
           }
          },
          "scene": {
           "xaxis": {
            "backgroundcolor": "#E5ECF6",
            "gridcolor": "white",
            "gridwidth": 2,
            "linecolor": "white",
            "showbackground": true,
            "ticks": "",
            "zerolinecolor": "white"
           },
           "yaxis": {
            "backgroundcolor": "#E5ECF6",
            "gridcolor": "white",
            "gridwidth": 2,
            "linecolor": "white",
            "showbackground": true,
            "ticks": "",
            "zerolinecolor": "white"
           },
           "zaxis": {
            "backgroundcolor": "#E5ECF6",
            "gridcolor": "white",
            "gridwidth": 2,
            "linecolor": "white",
            "showbackground": true,
            "ticks": "",
            "zerolinecolor": "white"
           }
          },
          "shapedefaults": {
           "line": {
            "color": "#2a3f5f"
           }
          },
          "ternary": {
           "aaxis": {
            "gridcolor": "white",
            "linecolor": "white",
            "ticks": ""
           },
           "baxis": {
            "gridcolor": "white",
            "linecolor": "white",
            "ticks": ""
           },
           "bgcolor": "#E5ECF6",
           "caxis": {
            "gridcolor": "white",
            "linecolor": "white",
            "ticks": ""
           }
          },
          "title": {
           "x": 0.05
          },
          "xaxis": {
           "automargin": true,
           "gridcolor": "white",
           "linecolor": "white",
           "ticks": "",
           "title": {
            "standoff": 15
           },
           "zerolinecolor": "white",
           "zerolinewidth": 2
          },
          "yaxis": {
           "automargin": true,
           "gridcolor": "white",
           "linecolor": "white",
           "ticks": "",
           "title": {
            "standoff": 15
           },
           "zerolinecolor": "white",
           "zerolinewidth": 2
          }
         }
        },
        "title": {
         "text": "Autoencoder training progress"
        },
        "xaxis": {
         "anchor": "y",
         "domain": [
          0,
          0.45
         ]
        },
        "xaxis2": {
         "anchor": "y2",
         "domain": [
          0.55,
          1
         ]
        },
        "yaxis": {
         "anchor": "x",
         "domain": [
          0,
          1
         ]
        },
        "yaxis2": {
         "anchor": "x2",
         "domain": [
          0,
          1
         ]
        }
       }
      },
      "text/html": [
       "<div>                            <div id=\"34a2b505-bd24-4035-a865-121b3696ceb2\" class=\"plotly-graph-div\" style=\"height:525px; width:100%;\"></div>            <script type=\"text/javascript\">                require([\"plotly\"], function(Plotly) {                    window.PLOTLYENV=window.PLOTLYENV || {};                                    if (document.getElementById(\"34a2b505-bd24-4035-a865-121b3696ceb2\")) {                    Plotly.newPlot(                        \"34a2b505-bd24-4035-a865-121b3696ceb2\",                        [{\"y\":[0.02210289445806358,0.022176684537435147,0.022274730706280197,0.022351254770473,0.02240225607429225,0.022428306060161794,0.022432220341256727,0.02242291851347061,0.022391509056744235,0.02234581804712471],\"type\":\"scatter\",\"xaxis\":\"x\",\"yaxis\":\"y\"},{\"y\":[71.22896537194133,32.882410583431806,22.927525547848067,17.971157706409148,15.015593749537125,13.054728554403603,11.864374167597216,10.823855587927346,9.851618144596053,9.32857262061123],\"type\":\"scatter\",\"xaxis\":\"x2\",\"yaxis\":\"y2\"}],                        {\"template\":{\"data\":{\"histogram2dcontour\":[{\"type\":\"histogram2dcontour\",\"colorbar\":{\"outlinewidth\":0,\"ticks\":\"\"},\"colorscale\":[[0.0,\"#0d0887\"],[0.1111111111111111,\"#46039f\"],[0.2222222222222222,\"#7201a8\"],[0.3333333333333333,\"#9c179e\"],[0.4444444444444444,\"#bd3786\"],[0.5555555555555556,\"#d8576b\"],[0.6666666666666666,\"#ed7953\"],[0.7777777777777778,\"#fb9f3a\"],[0.8888888888888888,\"#fdca26\"],[1.0,\"#f0f921\"]]}],\"choropleth\":[{\"type\":\"choropleth\",\"colorbar\":{\"outlinewidth\":0,\"ticks\":\"\"}}],\"histogram2d\":[{\"type\":\"histogram2d\",\"colorbar\":{\"outlinewidth\":0,\"ticks\":\"\"},\"colorscale\":[[0.0,\"#0d0887\"],[0.1111111111111111,\"#46039f\"],[0.2222222222222222,\"#7201a8\"],[0.3333333333333333,\"#9c179e\"],[0.4444444444444444,\"#bd3786\"],[0.5555555555555556,\"#d8576b\"],[0.6666666666666666,\"#ed7953\"],[0.7777777777777778,\"#fb9f3a\"],[0.8888888888888888,\"#fdca26\"],[1.0,\"#f0f921\"]]}],\"heatmap\":[{\"type\":\"heatmap\",\"colorbar\":{\"outlinewidth\":0,\"ticks\":\"\"},\"colorscale\":[[0.0,\"#0d0887\"],[0.1111111111111111,\"#46039f\"],[0.2222222222222222,\"#7201a8\"],[0.3333333333333333,\"#9c179e\"],[0.4444444444444444,\"#bd3786\"],[0.5555555555555556,\"#d8576b\"],[0.6666666666666666,\"#ed7953\"],[0.7777777777777778,\"#fb9f3a\"],[0.8888888888888888,\"#fdca26\"],[1.0,\"#f0f921\"]]}],\"heatmapgl\":[{\"type\":\"heatmapgl\",\"colorbar\":{\"outlinewidth\":0,\"ticks\":\"\"},\"colorscale\":[[0.0,\"#0d0887\"],[0.1111111111111111,\"#46039f\"],[0.2222222222222222,\"#7201a8\"],[0.3333333333333333,\"#9c179e\"],[0.4444444444444444,\"#bd3786\"],[0.5555555555555556,\"#d8576b\"],[0.6666666666666666,\"#ed7953\"],[0.7777777777777778,\"#fb9f3a\"],[0.8888888888888888,\"#fdca26\"],[1.0,\"#f0f921\"]]}],\"contourcarpet\":[{\"type\":\"contourcarpet\",\"colorbar\":{\"outlinewidth\":0,\"ticks\":\"\"}}],\"contour\":[{\"type\":\"contour\",\"colorbar\":{\"outlinewidth\":0,\"ticks\":\"\"},\"colorscale\":[[0.0,\"#0d0887\"],[0.1111111111111111,\"#46039f\"],[0.2222222222222222,\"#7201a8\"],[0.3333333333333333,\"#9c179e\"],[0.4444444444444444,\"#bd3786\"],[0.5555555555555556,\"#d8576b\"],[0.6666666666666666,\"#ed7953\"],[0.7777777777777778,\"#fb9f3a\"],[0.8888888888888888,\"#fdca26\"],[1.0,\"#f0f921\"]]}],\"surface\":[{\"type\":\"surface\",\"colorbar\":{\"outlinewidth\":0,\"ticks\":\"\"},\"colorscale\":[[0.0,\"#0d0887\"],[0.1111111111111111,\"#46039f\"],[0.2222222222222222,\"#7201a8\"],[0.3333333333333333,\"#9c179e\"],[0.4444444444444444,\"#bd3786\"],[0.5555555555555556,\"#d8576b\"],[0.6666666666666666,\"#ed7953\"],[0.7777777777777778,\"#fb9f3a\"],[0.8888888888888888,\"#fdca26\"],[1.0,\"#f0f921\"]]}],\"mesh3d\":[{\"type\":\"mesh3d\",\"colorbar\":{\"outlinewidth\":0,\"ticks\":\"\"}}],\"scatter\":[{\"fillpattern\":{\"fillmode\":\"overlay\",\"size\":10,\"solidity\":0.2},\"type\":\"scatter\"}],\"parcoords\":[{\"type\":\"parcoords\",\"line\":{\"colorbar\":{\"outlinewidth\":0,\"ticks\":\"\"}}}],\"scatterpolargl\":[{\"type\":\"scatterpolargl\",\"marker\":{\"colorbar\":{\"outlinewidth\":0,\"ticks\":\"\"}}}],\"bar\":[{\"error_x\":{\"color\":\"#2a3f5f\"},\"error_y\":{\"color\":\"#2a3f5f\"},\"marker\":{\"line\":{\"color\":\"#E5ECF6\",\"width\":0.5},\"pattern\":{\"fillmode\":\"overlay\",\"size\":10,\"solidity\":0.2}},\"type\":\"bar\"}],\"scattergeo\":[{\"type\":\"scattergeo\",\"marker\":{\"colorbar\":{\"outlinewidth\":0,\"ticks\":\"\"}}}],\"scatterpolar\":[{\"type\":\"scatterpolar\",\"marker\":{\"colorbar\":{\"outlinewidth\":0,\"ticks\":\"\"}}}],\"histogram\":[{\"marker\":{\"pattern\":{\"fillmode\":\"overlay\",\"size\":10,\"solidity\":0.2}},\"type\":\"histogram\"}],\"scattergl\":[{\"type\":\"scattergl\",\"marker\":{\"colorbar\":{\"outlinewidth\":0,\"ticks\":\"\"}}}],\"scatter3d\":[{\"type\":\"scatter3d\",\"line\":{\"colorbar\":{\"outlinewidth\":0,\"ticks\":\"\"}},\"marker\":{\"colorbar\":{\"outlinewidth\":0,\"ticks\":\"\"}}}],\"scattermapbox\":[{\"type\":\"scattermapbox\",\"marker\":{\"colorbar\":{\"outlinewidth\":0,\"ticks\":\"\"}}}],\"scatterternary\":[{\"type\":\"scatterternary\",\"marker\":{\"colorbar\":{\"outlinewidth\":0,\"ticks\":\"\"}}}],\"scattercarpet\":[{\"type\":\"scattercarpet\",\"marker\":{\"colorbar\":{\"outlinewidth\":0,\"ticks\":\"\"}}}],\"carpet\":[{\"aaxis\":{\"endlinecolor\":\"#2a3f5f\",\"gridcolor\":\"white\",\"linecolor\":\"white\",\"minorgridcolor\":\"white\",\"startlinecolor\":\"#2a3f5f\"},\"baxis\":{\"endlinecolor\":\"#2a3f5f\",\"gridcolor\":\"white\",\"linecolor\":\"white\",\"minorgridcolor\":\"white\",\"startlinecolor\":\"#2a3f5f\"},\"type\":\"carpet\"}],\"table\":[{\"cells\":{\"fill\":{\"color\":\"#EBF0F8\"},\"line\":{\"color\":\"white\"}},\"header\":{\"fill\":{\"color\":\"#C8D4E3\"},\"line\":{\"color\":\"white\"}},\"type\":\"table\"}],\"barpolar\":[{\"marker\":{\"line\":{\"color\":\"#E5ECF6\",\"width\":0.5},\"pattern\":{\"fillmode\":\"overlay\",\"size\":10,\"solidity\":0.2}},\"type\":\"barpolar\"}],\"pie\":[{\"automargin\":true,\"type\":\"pie\"}]},\"layout\":{\"autotypenumbers\":\"strict\",\"colorway\":[\"#636efa\",\"#EF553B\",\"#00cc96\",\"#ab63fa\",\"#FFA15A\",\"#19d3f3\",\"#FF6692\",\"#B6E880\",\"#FF97FF\",\"#FECB52\"],\"font\":{\"color\":\"#2a3f5f\"},\"hovermode\":\"closest\",\"hoverlabel\":{\"align\":\"left\"},\"paper_bgcolor\":\"white\",\"plot_bgcolor\":\"#E5ECF6\",\"polar\":{\"bgcolor\":\"#E5ECF6\",\"angularaxis\":{\"gridcolor\":\"white\",\"linecolor\":\"white\",\"ticks\":\"\"},\"radialaxis\":{\"gridcolor\":\"white\",\"linecolor\":\"white\",\"ticks\":\"\"}},\"ternary\":{\"bgcolor\":\"#E5ECF6\",\"aaxis\":{\"gridcolor\":\"white\",\"linecolor\":\"white\",\"ticks\":\"\"},\"baxis\":{\"gridcolor\":\"white\",\"linecolor\":\"white\",\"ticks\":\"\"},\"caxis\":{\"gridcolor\":\"white\",\"linecolor\":\"white\",\"ticks\":\"\"}},\"coloraxis\":{\"colorbar\":{\"outlinewidth\":0,\"ticks\":\"\"}},\"colorscale\":{\"sequential\":[[0.0,\"#0d0887\"],[0.1111111111111111,\"#46039f\"],[0.2222222222222222,\"#7201a8\"],[0.3333333333333333,\"#9c179e\"],[0.4444444444444444,\"#bd3786\"],[0.5555555555555556,\"#d8576b\"],[0.6666666666666666,\"#ed7953\"],[0.7777777777777778,\"#fb9f3a\"],[0.8888888888888888,\"#fdca26\"],[1.0,\"#f0f921\"]],\"sequentialminus\":[[0.0,\"#0d0887\"],[0.1111111111111111,\"#46039f\"],[0.2222222222222222,\"#7201a8\"],[0.3333333333333333,\"#9c179e\"],[0.4444444444444444,\"#bd3786\"],[0.5555555555555556,\"#d8576b\"],[0.6666666666666666,\"#ed7953\"],[0.7777777777777778,\"#fb9f3a\"],[0.8888888888888888,\"#fdca26\"],[1.0,\"#f0f921\"]],\"diverging\":[[0,\"#8e0152\"],[0.1,\"#c51b7d\"],[0.2,\"#de77ae\"],[0.3,\"#f1b6da\"],[0.4,\"#fde0ef\"],[0.5,\"#f7f7f7\"],[0.6,\"#e6f5d0\"],[0.7,\"#b8e186\"],[0.8,\"#7fbc41\"],[0.9,\"#4d9221\"],[1,\"#276419\"]]},\"xaxis\":{\"gridcolor\":\"white\",\"linecolor\":\"white\",\"ticks\":\"\",\"title\":{\"standoff\":15},\"zerolinecolor\":\"white\",\"automargin\":true,\"zerolinewidth\":2},\"yaxis\":{\"gridcolor\":\"white\",\"linecolor\":\"white\",\"ticks\":\"\",\"title\":{\"standoff\":15},\"zerolinecolor\":\"white\",\"automargin\":true,\"zerolinewidth\":2},\"scene\":{\"xaxis\":{\"backgroundcolor\":\"#E5ECF6\",\"gridcolor\":\"white\",\"linecolor\":\"white\",\"showbackground\":true,\"ticks\":\"\",\"zerolinecolor\":\"white\",\"gridwidth\":2},\"yaxis\":{\"backgroundcolor\":\"#E5ECF6\",\"gridcolor\":\"white\",\"linecolor\":\"white\",\"showbackground\":true,\"ticks\":\"\",\"zerolinecolor\":\"white\",\"gridwidth\":2},\"zaxis\":{\"backgroundcolor\":\"#E5ECF6\",\"gridcolor\":\"white\",\"linecolor\":\"white\",\"showbackground\":true,\"ticks\":\"\",\"zerolinecolor\":\"white\",\"gridwidth\":2}},\"shapedefaults\":{\"line\":{\"color\":\"#2a3f5f\"}},\"annotationdefaults\":{\"arrowcolor\":\"#2a3f5f\",\"arrowhead\":0,\"arrowwidth\":1},\"geo\":{\"bgcolor\":\"white\",\"landcolor\":\"#E5ECF6\",\"subunitcolor\":\"white\",\"showland\":true,\"showlakes\":true,\"lakecolor\":\"white\"},\"title\":{\"x\":0.05},\"mapbox\":{\"style\":\"light\"}}},\"xaxis\":{\"anchor\":\"y\",\"domain\":[0.0,0.45]},\"yaxis\":{\"anchor\":\"x\",\"domain\":[0.0,1.0]},\"xaxis2\":{\"anchor\":\"y2\",\"domain\":[0.55,1.0]},\"yaxis2\":{\"anchor\":\"x2\",\"domain\":[0.0,1.0]},\"annotations\":[{\"font\":{\"size\":16},\"showarrow\":false,\"text\":\"L1 weights\",\"x\":0.225,\"xanchor\":\"center\",\"xref\":\"paper\",\"y\":1.0,\"yanchor\":\"bottom\",\"yref\":\"paper\"},{\"font\":{\"size\":16},\"showarrow\":false,\"text\":\"Train losses\",\"x\":0.775,\"xanchor\":\"center\",\"xref\":\"paper\",\"y\":1.0,\"yanchor\":\"bottom\",\"yref\":\"paper\"}],\"title\":{\"text\":\"Autoencoder training progress\"}},                        {\"responsive\": true}                    ).then(function(){\n",
       "                            \n",
       "var gd = document.getElementById('34a2b505-bd24-4035-a865-121b3696ceb2');\n",
       "var x = new MutationObserver(function (mutations, observer) {{\n",
       "        var display = window.getComputedStyle(gd).display;\n",
       "        if (!display || display === 'none') {{\n",
       "            console.log([gd, 'removed!']);\n",
       "            Plotly.purge(gd);\n",
       "            observer.disconnect();\n",
       "        }}\n",
       "}});\n",
       "\n",
       "// Listen for the removal of the full notebook cells\n",
       "var notebookContainer = gd.closest('#notebook-container');\n",
       "if (notebookContainer) {{\n",
       "    x.observe(notebookContainer, {childList: true});\n",
       "}}\n",
       "\n",
       "// Listen for the clearing of the current output cell\n",
       "var outputEl = gd.closest('.output');\n",
       "if (outputEl) {{\n",
       "    x.observe(outputEl, {childList: true});\n",
       "}}\n",
       "\n",
       "                        })                };                });            </script>        </div>"
      ]
     },
     "metadata": {},
     "output_type": "display_data"
    }
   ],
   "source": [
    "for epoch in tqdm.trange(epochs):\n",
    "    epoch_loss = 0\n",
    "    epoch_l1_weight = 0\n",
    "    for i in range(0, len(activation_store), batch_size):\n",
    "        batch = activation_store[i:i+batch_size]\n",
    "        loss, _, _, l2_loss, l1_loss = sae(batch)\n",
    "        optimizer.zero_grad()\n",
    "        loss.backward()\n",
    "        optimizer.step()\n",
    "        epoch_loss += loss.item()\n",
    "        epoch_l1_weight += sae.W_dec.weight.abs().mean().item()\n",
    "    sae_train_losses.append(epoch_loss / (len(activation_store) / batch_size))\n",
    "    sae_l1_weights.append(epoch_l1_weight / (len(activation_store) / batch_size))\n",
    "    plot_losses(sae_l1_weights, sae_train_losses)\n",
    "    clear_output(wait=True)"
   ]
  },
  {
   "cell_type": "code",
   "execution_count": null,
   "metadata": {},
   "outputs": [],
   "source": [
    "for epoch in tqdm.trange(epochs):\n",
    "    epoch_loss = 0\n",
    "    for acts in activation_store:\n",
    "        loss, x_hat, acts_hat, l2_loss, l1_loss = sae(acts)\n",
    "        epoch_loss += loss.item()\n",
    "        loss.backward()\n",
    "        optimizer.step()\n",
    "        sae.make_decoder_weights_and_grad_unit_norm()\n",
    "        optimizer.zero_grad()\n",
    "    l1_weights = sae.W_enc.weight.abs().sum()\n",
    "    sae_l1_weights.append(l1_weights.item())\n",
    "    sae_train_losses.append(epoch_loss / rows)\n",
    "\n",
    "    plot_losses(sae_l1_weights, sae_train_losses)\n",
    "    clear_output(wait=True)"
   ]
  },
  {
   "cell_type": "code",
   "execution_count": 40,
   "metadata": {},
   "outputs": [
    {
     "data": {
      "application/vnd.plotly.v1+json": {
       "config": {
        "plotlyServerURL": "https://plot.ly"
       },
       "data": [
        {
         "hovertemplate": "variable=0<br>index=%{x}<br>value=%{y}<extra></extra>",
         "legendgroup": "0",
         "line": {
          "color": "#636efa",
          "dash": "solid"
         },
         "marker": {
          "symbol": "circle"
         },
         "mode": "lines",
         "name": "0",
         "orientation": "v",
         "showlegend": true,
         "type": "scatter",
         "x": [
          0,
          1,
          2,
          3,
          4,
          5,
          6,
          7,
          8,
          9,
          10,
          11,
          12,
          13,
          14,
          15,
          16,
          17,
          18,
          19,
          20,
          21,
          22,
          23,
          24,
          25,
          26,
          27,
          28,
          29,
          30,
          31,
          32,
          33,
          34,
          35,
          36,
          37,
          38,
          39,
          40,
          41,
          42,
          43,
          44,
          45,
          46,
          47,
          48,
          49,
          50,
          51,
          52,
          53,
          54,
          55,
          56,
          57,
          58,
          59,
          60,
          61,
          62,
          63,
          64,
          65,
          66,
          67,
          68,
          69,
          70,
          71,
          72,
          73,
          74,
          75,
          76,
          77,
          78,
          79,
          80,
          81,
          82,
          83,
          84,
          85,
          86,
          87,
          88,
          89,
          90,
          91,
          92,
          93,
          94,
          95,
          96,
          97,
          98,
          99,
          100,
          101,
          102,
          103,
          104,
          105,
          106,
          107,
          108,
          109,
          110,
          111,
          112,
          113,
          114,
          115,
          116,
          117,
          118,
          119,
          120,
          121,
          122,
          123,
          124,
          125,
          126,
          127,
          128,
          129,
          130,
          131,
          132,
          133,
          134,
          135,
          136,
          137,
          138,
          139,
          140,
          141,
          142,
          143,
          144,
          145,
          146,
          147,
          148,
          149,
          150,
          151,
          152,
          153,
          154,
          155,
          156,
          157,
          158,
          159,
          160,
          161,
          162,
          163,
          164,
          165,
          166,
          167,
          168,
          169,
          170,
          171,
          172,
          173,
          174,
          175,
          176,
          177,
          178,
          179,
          180,
          181,
          182,
          183,
          184,
          185,
          186,
          187,
          188,
          189,
          190,
          191,
          192,
          193,
          194,
          195,
          196,
          197,
          198,
          199,
          200,
          201,
          202,
          203,
          204,
          205,
          206,
          207,
          208,
          209,
          210,
          211,
          212,
          213,
          214,
          215,
          216,
          217,
          218,
          219,
          220,
          221,
          222,
          223,
          224,
          225,
          226,
          227,
          228,
          229,
          230,
          231,
          232,
          233,
          234,
          235,
          236,
          237,
          238,
          239,
          240,
          241,
          242,
          243,
          244,
          245,
          246,
          247,
          248,
          249,
          250,
          251,
          252,
          253,
          254,
          255,
          256,
          257,
          258,
          259,
          260,
          261,
          262,
          263,
          264,
          265,
          266,
          267,
          268,
          269,
          270,
          271,
          272,
          273,
          274,
          275,
          276,
          277,
          278,
          279,
          280,
          281,
          282,
          283,
          284,
          285,
          286,
          287,
          288,
          289,
          290,
          291,
          292,
          293,
          294,
          295,
          296,
          297,
          298,
          299,
          300,
          301,
          302,
          303,
          304,
          305,
          306,
          307,
          308,
          309,
          310,
          311,
          312,
          313,
          314,
          315,
          316,
          317,
          318,
          319,
          320,
          321,
          322,
          323,
          324,
          325,
          326,
          327,
          328,
          329,
          330,
          331,
          332,
          333,
          334,
          335,
          336,
          337,
          338,
          339,
          340,
          341,
          342,
          343,
          344,
          345,
          346,
          347,
          348,
          349,
          350,
          351,
          352,
          353,
          354,
          355,
          356,
          357,
          358,
          359,
          360,
          361,
          362,
          363,
          364,
          365,
          366,
          367,
          368,
          369,
          370,
          371,
          372,
          373,
          374,
          375,
          376,
          377,
          378,
          379,
          380,
          381,
          382,
          383,
          384,
          385,
          386,
          387,
          388,
          389,
          390,
          391,
          392,
          393,
          394,
          395,
          396,
          397,
          398,
          399,
          400,
          401,
          402,
          403,
          404,
          405,
          406,
          407,
          408,
          409,
          410,
          411,
          412,
          413,
          414,
          415,
          416,
          417,
          418,
          419,
          420,
          421,
          422,
          423,
          424,
          425,
          426,
          427,
          428,
          429,
          430,
          431,
          432,
          433,
          434,
          435,
          436,
          437,
          438,
          439,
          440,
          441,
          442,
          443,
          444,
          445,
          446,
          447,
          448,
          449,
          450,
          451,
          452,
          453,
          454,
          455,
          456,
          457,
          458,
          459,
          460,
          461,
          462,
          463,
          464,
          465,
          466,
          467,
          468,
          469,
          470,
          471,
          472,
          473,
          474,
          475,
          476,
          477,
          478,
          479,
          480,
          481,
          482,
          483,
          484,
          485,
          486,
          487,
          488,
          489,
          490,
          491,
          492,
          493,
          494,
          495,
          496,
          497,
          498,
          499,
          500,
          501,
          502,
          503,
          504,
          505,
          506,
          507,
          508,
          509,
          510,
          511,
          512,
          513,
          514,
          515,
          516,
          517,
          518,
          519,
          520,
          521,
          522,
          523,
          524,
          525,
          526,
          527,
          528,
          529,
          530,
          531,
          532,
          533,
          534,
          535,
          536,
          537,
          538,
          539,
          540,
          541,
          542,
          543,
          544,
          545,
          546,
          547,
          548,
          549,
          550,
          551,
          552,
          553,
          554,
          555,
          556,
          557,
          558,
          559,
          560,
          561,
          562,
          563,
          564,
          565,
          566,
          567,
          568,
          569,
          570,
          571,
          572,
          573,
          574,
          575,
          576,
          577,
          578,
          579,
          580,
          581,
          582,
          583,
          584,
          585,
          586,
          587,
          588,
          589,
          590,
          591,
          592,
          593,
          594,
          595,
          596,
          597,
          598,
          599,
          600,
          601,
          602,
          603,
          604,
          605,
          606,
          607,
          608,
          609,
          610,
          611,
          612,
          613,
          614,
          615,
          616,
          617,
          618,
          619,
          620,
          621,
          622,
          623,
          624,
          625,
          626,
          627,
          628,
          629,
          630,
          631,
          632,
          633,
          634,
          635,
          636,
          637,
          638,
          639,
          640,
          641,
          642,
          643,
          644,
          645,
          646,
          647,
          648,
          649,
          650,
          651,
          652,
          653,
          654,
          655,
          656,
          657,
          658,
          659,
          660,
          661,
          662,
          663,
          664,
          665,
          666,
          667,
          668,
          669,
          670,
          671,
          672,
          673,
          674,
          675,
          676,
          677,
          678,
          679,
          680,
          681,
          682,
          683,
          684,
          685,
          686,
          687,
          688,
          689,
          690,
          691,
          692,
          693,
          694,
          695,
          696,
          697,
          698,
          699,
          700,
          701,
          702,
          703,
          704,
          705,
          706,
          707,
          708,
          709,
          710,
          711,
          712,
          713,
          714,
          715,
          716,
          717,
          718,
          719,
          720,
          721,
          722,
          723,
          724,
          725,
          726,
          727,
          728,
          729,
          730,
          731,
          732,
          733,
          734,
          735,
          736,
          737,
          738,
          739,
          740,
          741,
          742,
          743,
          744,
          745,
          746,
          747,
          748,
          749,
          750,
          751,
          752,
          753,
          754,
          755,
          756,
          757,
          758,
          759,
          760,
          761,
          762,
          763,
          764,
          765,
          766,
          767,
          768,
          769,
          770,
          771,
          772,
          773,
          774,
          775,
          776,
          777,
          778,
          779,
          780,
          781,
          782,
          783,
          784,
          785,
          786,
          787,
          788,
          789,
          790,
          791,
          792,
          793,
          794,
          795,
          796,
          797,
          798,
          799,
          800,
          801,
          802,
          803,
          804,
          805,
          806,
          807,
          808,
          809,
          810,
          811,
          812,
          813,
          814,
          815,
          816,
          817,
          818,
          819,
          820,
          821,
          822,
          823,
          824,
          825,
          826,
          827,
          828,
          829,
          830,
          831,
          832,
          833,
          834,
          835,
          836,
          837,
          838,
          839,
          840,
          841,
          842,
          843,
          844,
          845,
          846,
          847,
          848,
          849,
          850,
          851,
          852,
          853,
          854,
          855,
          856,
          857,
          858,
          859,
          860,
          861,
          862,
          863,
          864,
          865,
          866,
          867,
          868,
          869,
          870,
          871,
          872,
          873,
          874,
          875,
          876,
          877,
          878,
          879,
          880,
          881,
          882,
          883,
          884,
          885,
          886,
          887,
          888,
          889,
          890,
          891,
          892,
          893,
          894,
          895,
          896,
          897,
          898,
          899,
          900,
          901,
          902,
          903,
          904,
          905,
          906,
          907,
          908,
          909,
          910,
          911,
          912,
          913,
          914,
          915,
          916,
          917,
          918,
          919,
          920,
          921,
          922,
          923,
          924,
          925,
          926,
          927,
          928,
          929,
          930,
          931,
          932,
          933,
          934,
          935,
          936,
          937,
          938,
          939,
          940,
          941,
          942,
          943,
          944,
          945,
          946,
          947,
          948,
          949,
          950,
          951,
          952,
          953,
          954,
          955,
          956,
          957,
          958,
          959,
          960,
          961,
          962,
          963,
          964,
          965,
          966,
          967,
          968,
          969,
          970,
          971,
          972,
          973,
          974,
          975,
          976,
          977,
          978,
          979,
          980,
          981,
          982,
          983,
          984,
          985,
          986,
          987,
          988,
          989,
          990,
          991,
          992,
          993,
          994,
          995,
          996,
          997,
          998,
          999
         ],
         "xaxis": "x",
         "y": [
          284.64969329833986,
          155.6299789428711,
          129.19234619140624,
          116.30285034179687,
          106.75163497924805,
          99.44795150756836,
          93.38566665649414,
          88.03366889953614,
          83.57459869384766,
          79.72426986694336,
          76.82646865844727,
          74.3454746246338,
          73.79696273803711,
          72.81602554321289,
          72.66036529541016,
          68.68562622070313,
          66.27968254089356,
          63.877630615234374,
          62.12327079772949,
          60.610335159301755,
          59.35902290344238,
          58.433423614501955,
          57.688733673095705,
          57.13570289611816,
          56.2595874786377,
          55.8527114868164,
          55.34844398498535,
          55.34771041870117,
          55.45470142364502,
          53.94858894348145,
          53.77415752410889,
          52.56162528991699,
          51.82216300964355,
          51.048295974731445,
          50.47644157409668,
          49.392337036132815,
          48.74169521331787,
          48.158762741088864,
          47.575616455078126,
          47.20899333953857,
          46.874090576171874,
          46.297055053710935,
          46.05083179473877,
          45.71968994140625,
          45.917717170715335,
          45.701769065856936,
          45.895480728149415,
          46.00481815338135,
          46.27093315124512,
          45.85661163330078,
          46.77130603790283,
          45.804524421691895,
          45.35048980712891,
          44.726799392700194,
          43.93227424621582,
          43.33898868560791,
          42.80424537658691,
          42.17343368530273,
          41.706721496582034,
          41.37716999053955,
          41.19238758087158,
          40.88140983581543,
          40.81215934753418,
          40.40337314605713,
          40.23058815002442,
          40.04665699005127,
          40.107735061645506,
          39.8630313873291,
          39.85701923370361,
          39.44168968200684,
          39.85669631958008,
          39.331932830810544,
          39.57575645446777,
          39.42324428558349,
          39.591207885742186,
          40.16865844726563,
          39.94976291656494,
          40.478342819213864,
          39.631783676147464,
          39.07165679931641,
          39.65233039855957,
          38.34728107452393,
          38.05507411956787,
          37.437211990356445,
          37.143338203430176,
          37.191477584838864,
          36.912567138671875,
          36.78235511779785,
          36.736084938049316,
          36.079483604431154,
          35.75337476730347,
          35.533806228637694,
          35.2343053817749,
          35.03815212249756,
          35.22738838195801,
          35.05050640106201,
          35.738494873046875,
          35.90921630859375,
          35.69193744659424,
          36.35102844238281,
          35.715958976745604,
          35.34270820617676,
          35.580277633666995,
          34.960250282287596,
          34.792236328125,
          34.506666564941405,
          35.00583839416504,
          34.87880506515503,
          34.48218269348145,
          34.608117294311526,
          34.209291744232175,
          33.94110870361328,
          34.40624828338623,
          33.94349641799927,
          33.87189512252807,
          33.03678674697876,
          32.73415184020996,
          32.68968915939331,
          32.62084255218506,
          32.38885202407837,
          32.40108947753906,
          32.25610504150391,
          32.5064356803894,
          32.489770317077635,
          32.38543586730957,
          32.64344930648804,
          32.915978050231935,
          32.611167907714844,
          33.17524871826172,
          32.19954080581665,
          32.045057487487796,
          32.06474723815918,
          31.896720218658448,
          31.952787780761717,
          32.33913745880127,
          31.441064834594727,
          31.178765296936035,
          31.064968872070313,
          30.861254501342774,
          30.931284046173097,
          31.315464782714844,
          30.992974948883056,
          31.010828971862793,
          30.92206687927246,
          31.486155319213868,
          31.706984329223634,
          32.2375994682312,
          31.37388458251953,
          31.122117805480958,
          31.04763889312744,
          30.97618865966797,
          30.24107904434204,
          30.186501884460448,
          29.735883140563963,
          29.427328395843507,
          29.24707374572754,
          29.47020854949951,
          29.33732376098633,
          29.199279689788817,
          29.318361663818358,
          29.357491874694823,
          29.324473190307618,
          30.04291648864746,
          29.593983840942382,
          29.456492137908935,
          29.28462371826172,
          29.059185028076172,
          28.791654872894288,
          29.353474807739257,
          28.892641067504883,
          28.701279163360596,
          28.422327613830568,
          28.179057121276855,
          27.964875984191895,
          28.0732177734375,
          28.168643474578857,
          28.090467834472655,
          28.128780841827393,
          28.048526000976562,
          27.951093101501463,
          27.763172149658203,
          27.841236782073974,
          27.602831172943116,
          27.48488082885742,
          27.675225067138673,
          28.189957332611083,
          28.322659492492676,
          28.945124244689943,
          28.743111419677735,
          28.888727951049805,
          28.98744888305664,
          30.12237682342529,
          29.506257438659667,
          30.204648113250734,
          29.10154447555542,
          28.352159881591795,
          27.943250370025634,
          27.55826120376587,
          27.155317974090575,
          27.184379959106444,
          27.075654315948487,
          26.88097267150879,
          27.10756826400757,
          26.964768409729004,
          26.850115966796874,
          27.20501766204834,
          27.269874382019044,
          27.236514282226562,
          27.59867630004883,
          27.024215507507325,
          26.946807384490967,
          26.861943244934082,
          26.23765697479248,
          26.150675773620605,
          25.806924247741698,
          25.89023952484131,
          25.97599172592163,
          26.3608736038208,
          26.285385036468504,
          26.819083309173585,
          26.323428535461424,
          26.144831466674805,
          26.007509231567383,
          25.967260932922365,
          25.933911895751955,
          26.201872062683105,
          25.953162384033202,
          25.820261669158935,
          25.68802719116211,
          26.071616077423094,
          26.065102767944335,
          26.30507411956787,
          26.076417541503908,
          25.856482601165773,
          25.685711765289305,
          26.080018329620362,
          25.78331069946289,
          25.835644340515138,
          25.92657413482666,
          25.546676445007325,
          25.416060066223146,
          25.378499126434328,
          25.332693672180177,
          25.631625175476074,
          25.443609046936036,
          25.256629180908202,
          25.12321357727051,
          25.172170543670653,
          25.053010749816895,
          25.067220878601074,
          24.769673347473145,
          24.603301525115967,
          24.316332960128783,
          24.297086334228517,
          24.126929426193236,
          24.299364709854125,
          24.305112838745117,
          24.667862701416016,
          24.69090747833252,
          25.380639266967773,
          25.24995365142822,
          26.625091361999512,
          26.159396934509278,
          26.798569869995116,
          25.507116317749023,
          24.996429443359375,
          24.346976947784423,
          24.4118052482605,
          24.31299352645874,
          24.77800416946411,
          24.517697715759276,
          24.497114753723146,
          24.335237979888916,
          24.14349775314331,
          23.932240676879882,
          23.655276393890382,
          23.77180700302124,
          23.730479049682618,
          23.765233755111694,
          23.910199642181396,
          24.351832485198976,
          24.533936309814454,
          25.664478397369386,
          24.991094398498536,
          24.802192306518556,
          24.166815185546874,
          24.70828847885132,
          24.39638042449951,
          24.847619819641114,
          24.130123090744018,
          24.014501953125,
          23.91832551956177,
          23.81110258102417,
          24.00365505218506,
          24.313373565673828,
          24.563119888305664,
          24.246105480194093,
          24.477234268188475,
          23.55175199508667,
          23.39465503692627,
          23.15157814025879,
          22.81830253601074,
          22.739129638671876,
          23.002216625213624,
          23.059074544906615,
          23.56253671646118,
          23.440604209899902,
          23.763793563842775,
          23.39674491882324,
          24.050064754486083,
          23.35414810180664,
          23.469677543640138,
          23.0462975025177,
          23.072135066986085,
          22.700068616867064,
          22.45368847846985,
          22.338096046447752,
          22.499604892730712,
          22.492897176742552,
          23.101299953460693,
          22.81020359992981,
          22.947154235839843,
          22.647271823883056,
          23.156565952301026,
          22.983388137817382,
          23.70569477081299,
          23.01072406768799,
          23.138270092010497,
          22.605812072753906,
          23.059669399261473,
          22.369117546081544,
          22.31192317008972,
          22.158103656768798,
          21.972949600219728,
          21.93116626739502,
          22.162162876129152,
          22.226346063613892,
          22.91236972808838,
          23.21753215789795,
          23.006285190582275,
          23.082933282852174,
          23.05266890525818,
          22.560024452209472,
          22.48348922729492,
          22.638528633117676,
          22.635758113861083,
          23.14388313293457,
          22.582366466522217,
          22.62126398086548,
          22.376504755020143,
          22.258756637573242,
          22.164897537231447,
          23.18165397644043,
          22.882833003997803,
          23.676449680328368,
          22.910917663574217,
          23.324480533599854,
          22.352449226379395,
          22.531783294677734,
          22.285832405090332,
          22.468148612976073,
          21.994415283203125,
          21.97209882736206,
          21.84408950805664,
          21.63843913078308,
          21.676852798461915,
          21.67340569496155,
          21.75023522377014,
          21.75169701576233,
          22.362635231018068,
          22.137065601348876,
          22.628696155548095,
          22.125161838531493,
          22.18766975402832,
          21.769410037994383,
          22.195336437225343,
          21.70328574180603,
          22.107470321655274,
          21.541645860672,
          21.529339122772218,
          21.090568494796752,
          21.10327320098877,
          21.045561265945434,
          21.33661594390869,
          21.320996284484863,
          21.515360879898072,
          21.810323858261107,
          21.735677671432494,
          21.690414094924925,
          21.412507152557374,
          21.221714973449707,
          21.420689201354982,
          21.230205297470093,
          21.20476713180542,
          21.338993072509766,
          21.29380807876587,
          21.8297119140625,
          21.67864809036255,
          21.96821584701538,
          21.325663566589355,
          21.02867202758789,
          20.634044647216797,
          20.57317271232605,
          20.51701898574829,
          20.906371593475342,
          21.06898069381714,
          21.21854166984558,
          21.20492172241211,
          21.37285671234131,
          21.03925256729126,
          21.231539726257324,
          21.400150966644286,
          21.41956024169922,
          21.81061010360718,
          21.44747886657715,
          21.32104206085205,
          21.67738456726074,
          21.461778926849366,
          21.84199504852295,
          21.08715319633484,
          21.1549241065979,
          20.844124221801756,
          20.849047660827637,
          20.69033718109131,
          21.156744146347044,
          21.097382164001466,
          21.56581301689148,
          21.116626262664795,
          21.226443672180174,
          21.184188985824584,
          21.704950046539306,
          21.459443855285645,
          22.627200412750245,
          21.391349649429323,
          21.3789128780365,
          20.659336042404174,
          20.50093545913696,
          20.192123460769654,
          20.218942832946777,
          19.980116510391234,
          20.3177827835083,
          20.330659866333008,
          20.617568588256837,
          20.497831535339355,
          20.447531604766844,
          20.607128143310547,
          20.54930353164673,
          20.452875232696535,
          20.399857330322266,
          20.722157382965086,
          21.052815675735474,
          21.26369104385376,
          21.42162618637085,
          21.664208793640135,
          22.05448818206787,
          22.037688732147217,
          22.626459407806397,
          22.103770637512206,
          22.78273410797119,
          21.774534130096434,
          22.363776302337648,
          21.2603271484375,
          21.08634238243103,
          20.620858192443848,
          20.45592498779297,
          20.149924182891844,
          20.109709167480467,
          20.123138332366942,
          20.091315460205077,
          20.338916873931886,
          20.681780195236207,
          21.32993392944336,
          21.002455139160155,
          21.4484393119812,
          20.685347652435304,
          20.444640350341796,
          20.01613540649414,
          19.988959503173827,
          19.708479595184325,
          19.953215217590333,
          19.87049808502197,
          20.200818729400634,
          20.751325416564942,
          20.716544246673585,
          20.54642872810364,
          20.401332759857176,
          20.3612943649292,
          20.211093425750732,
          20.017129325866698,
          20.164297008514403,
          20.40954122543335,
          20.192293405532837,
          19.96456198692322,
          20.169125366210938,
          19.956838607788086,
          20.098556423187254,
          19.88065137863159,
          20.20694499015808,
          19.77137408256531,
          20.214043617248535,
          19.85945920944214,
          20.054567527770995,
          19.505907344818116,
          19.52153000831604,
          19.273129272460938,
          19.617201375961304,
          19.643799924850462,
          20.70424642562866,
          20.961651659011842,
          22.216950798034667,
          21.179012870788576,
          21.31071243286133,
          20.958919334411622,
          20.980492067337035,
          20.206438636779787,
          20.294311809539796,
          20.123047351837158,
          20.507636976242065,
          20.40457935333252,
          20.20054187774658,
          20.44299554824829,
          20.013378143310547,
          19.996368932724,
          19.76607027053833,
          19.71824164390564,
          19.641600036621092,
          19.68688235282898,
          19.658778715133668,
          20.129462909698486,
          20.265111684799194,
          20.904190921783446,
          20.443396854400635,
          20.58143858909607,
          20.047562742233275,
          20.52616262435913,
          20.013023471832277,
          20.000694608688356,
          19.628087043762207,
          19.764460802078247,
          19.533712291717528,
          19.28587203025818,
          19.155648851394652,
          18.953678035736083,
          18.98060269355774,
          19.10305562019348,
          19.680939817428587,
          19.61358509063721,
          20.019769763946535,
          19.730902242660523,
          20.244657039642334,
          20.083874416351318,
          20.7000111579895,
          19.968856143951417,
          19.991322422027586,
          19.522423648834227,
          19.5298020362854,
          19.14074468612671,
          19.126400423049926,
          18.865118789672852,
          18.954996490478514,
          18.932641220092773,
          18.894533729553224,
          19.143103456497194,
          19.114718103408812,
          19.071090698242188,
          19.092224216461183,
          19.148822641372682,
          19.386287784576417,
          19.247756052017213,
          19.104609394073485,
          19.379156970977782,
          19.322206115722658,
          19.902137899398802,
          19.77837018966675,
          20.312509536743164,
          19.74149532318115,
          20.048733711242676,
          19.589961051940918,
          20.028532314300538,
          19.74076623916626,
          19.992261791229247,
          19.258695220947267,
          19.28557276725769,
          18.898460102081298,
          18.911616945266722,
          18.926185274124144,
          18.91493401527405,
          19.109538078308105,
          19.00688991546631,
          19.068552017211914,
          19.319644260406495,
          19.324575757980348,
          19.40659890174866,
          19.64142370223999,
          19.256589365005492,
          19.37235426902771,
          19.709486198425292,
          20.10338339805603,
          20.013095140457153,
          20.584906387329102,
          20.029513835906982,
          20.594144439697267,
          19.673780345916747,
          19.694776153564455,
          19.26061305999756,
          19.216429233551025,
          19.003460073471068,
          19.28888306617737,
          19.33012137413025,
          19.649327325820924,
          19.838835144042967,
          19.579552745819093,
          19.69066791534424,
          19.36399188041687,
          19.07013177871704,
          18.695907020568846,
          18.674961853027344,
          18.580519008636475,
          18.83883466720581,
          18.69451823234558,
          19.06027054786682,
          18.832020902633666,
          18.949665069580078,
          19.182436370849608,
          19.184817171096803,
          19.62809000015259,
          19.848404312133788,
          20.234300804138183,
          19.90543098449707,
          20.57994203567505,
          19.728533267974854,
          19.834778881073,
          19.025828075408935,
          18.838059186935425,
          18.479436779022215,
          18.476646995544435,
          18.177317810058593,
          18.31139740943909,
          18.237592363357543,
          18.434904718399046,
          18.526848602294923,
          18.486244869232177,
          18.447071313858032,
          18.369273900985718,
          18.32602424621582,
          18.302226114273072,
          18.61150207519531,
          18.441370964050293,
          18.785618209838866,
          18.753100633621216,
          19.218502283096313,
          20.090037250518797,
          21.33002300262451,
          20.4354341506958,
          20.875164031982422,
          20.221348237991332,
          20.286958169937133,
          19.406756973266603,
          19.154908323287962,
          19.180863094329833,
          20.003860187530517,
          19.61624131202698,
          19.615087747573853,
          19.451137638092042,
          19.911578464508057,
          20.035568618774413,
          20.354664945602416,
          20.15521936416626,
          20.237444400787354,
          20.182482624053954,
          20.43128628730774,
          20.594985961914062,
          20.833909606933595,
          20.347280502319336,
          20.1227614402771,
          19.5546594619751,
          19.06851396560669,
          19.16519465446472,
          19.05687894821167,
          19.4825647354126,
          19.01710715293884,
          19.372876405715942,
          18.824086713790894,
          18.8056725025177,
          18.323637008666992,
          18.568967151641846,
          18.184865760803223,
          18.238955163955687,
          18.592088222503662,
          18.187014055252074,
          18.332870054244996,
          18.457030153274538,
          18.376876878738404,
          18.493832874298096,
          18.915421438217162,
          18.52896466255188,
          18.738708209991454,
          18.214167881011964,
          18.19272403717041,
          18.067878913879394,
          18.12713232040405,
          17.91843738555908,
          18.011438512802123,
          18.116549968719482,
          17.887022066116334,
          18.031589460372924,
          18.06268653869629,
          18.307863092422487,
          18.231754207611083,
          18.40395908355713,
          18.638422536849976,
          19.06241617202759,
          19.356629848480225,
          19.80138988494873,
          19.61103982925415,
          19.121494722366332,
          18.927294921875,
          18.420910024642943,
          18.387940835952758,
          18.243230056762695,
          18.426732063293457,
          18.12811460494995,
          17.82563524246216,
          17.697438716888428,
          17.67938961982727,
          17.54342908859253,
          17.694426441192626,
          17.889634990692137,
          17.95817995071411,
          18.322589111328124,
          18.180414295196535,
          18.20801191329956,
          18.31651129722595,
          18.309186935424805,
          18.392879676818847,
          18.282204818725585,
          18.36973171234131,
          18.02402663230896,
          18.127509117126465,
          17.927857398986816,
          17.906664514541625,
          17.92539801597595,
          17.995667362213133,
          18.105412626266478,
          18.43087944984436,
          18.982614707946777,
          18.881055402755738,
          19.920554447174073,
          19.384024620056152,
          19.941849517822266,
          19.50346851348877,
          19.898130893707275,
          19.208062171936035,
          19.726561737060546,
          18.974269580841064,
          19.0086528301239,
          18.468969058990478,
          18.146338605880736,
          18.015507555007936,
          18.030353403091432,
          18.05867290496826,
          18.00970091819763,
          18.271426582336424,
          18.143465948104858,
          18.406038188934325,
          18.059694957733154,
          17.98724913597107,
          17.90507197380066,
          17.97773504257202,
          17.779298782348633,
          17.927970695495606,
          17.929232454299928,
          17.988352012634277,
          18.014971876144408,
          18.209533214569092,
          18.24624376296997,
          18.165293645858764,
          18.42196397781372,
          18.894251823425293,
          18.776783514022828,
          19.033368349075317,
          18.872624731063844,
          19.3735143661499,
          19.33453526496887,
          19.64853744506836,
          19.25041036605835,
          19.10636067390442,
          18.99198160171509,
          18.868691778182985,
          18.853638935089112,
          18.591405582427978,
          18.83472089767456,
          18.331459331512452,
          18.47535309791565,
          18.29868369102478,
          18.8855580329895,
          18.545406103134155,
          18.964712190628052,
          18.360553312301636,
          18.431227111816405,
          17.962539434432983,
          18.041116762161256,
          17.716093873977663,
          17.94925742149353,
          17.844332695007324,
          17.928371620178222,
          17.92079563140869,
          17.755368614196776,
          17.767930507659912,
          18.249822473526002,
          18.61795492172241,
          18.739437580108643,
          19.594209671020508,
          19.018382120132447,
          18.674849605560304,
          18.537081050872803,
          18.496119022369385,
          18.014483785629274,
          18.16156244277954,
          18.015499353408813,
          18.031450510025024,
          18.048914766311647,
          18.19671263694763,
          18.448668241500854,
          18.806585454940794,
          18.611577796936036,
          19.117161417007445,
          18.71270661354065,
          18.327596569061278,
          17.979197025299072,
          17.824847841262816,
          17.6196506023407,
          17.91011724472046,
          17.79552321434021,
          17.866756868362426,
          17.60379614830017,
          17.61352252960205,
          17.419469261169432,
          17.465863466262817,
          17.36316885948181,
          17.40671911239624,
          17.616302585601808,
          17.896173620223998,
          17.97482123374939,
          18.431869125366212,
          18.289861965179444,
          18.179115867614748,
          18.35592179298401,
          18.41967668533325,
          18.291511058807373,
          18.458545303344728,
          18.493107080459595,
          18.354520320892334,
          19.013443803787233,
          18.534269762039184,
          18.840446043014527,
          18.3595778465271,
          18.63456082344055,
          18.284749841690065,
          18.43366160392761,
          18.067947387695312,
          17.95375213623047,
          17.82642230987549,
          18.051672554016115,
          18.065245056152342,
          18.487088537216188,
          18.281414890289305,
          18.0211820602417,
          18.008005905151368,
          17.899220371246336,
          17.765417289733886,
          17.91663212776184,
          18.05777578353882,
          18.66026816368103,
          18.800250816345216,
          18.720124816894533,
          18.615798568725587,
          19.04237937927246,
          18.703428554534913,
          18.762903118133544,
          18.46205849647522,
          18.482416296005248,
          18.45419850349426,
          18.841732788085938,
          18.140473461151124,
          18.287240028381348,
          17.638377285003664,
          17.62923836708069,
          17.40285243988037,
          17.475964546203613,
          17.32632441520691,
          17.47269368171692,
          17.290602731704713,
          17.566210079193116,
          17.50702404975891,
          17.636470794677734,
          17.915961742401123,
          18.20975079536438,
          18.252939796447755,
          18.428326845169067,
          18.391030693054198,
          17.917172145843505,
          18.1599591255188,
          17.862388801574706,
          17.836386489868165,
          17.750542640686035,
          17.83092122077942,
          17.842162704467775,
          17.74456901550293,
          18.127303981781004,
          18.046992683410643,
          18.433015298843383,
          18.119496297836303,
          18.58692388534546,
          18.135785722732543,
          18.09414267539978,
          17.847821140289305,
          17.667121124267577,
          17.44799747467041,
          17.455669927597047,
          17.487615966796874,
          17.665360689163208,
          18.044807195663452,
          18.668438053131105,
          19.283697414398194,
          19.16819143295288,
          19.277159690856934,
          19.022753953933716,
          19.23343358039856,
          19.305553436279297,
          20.302664232254028,
          19.439473581314086,
          19.95495295524597,
          19.0397629737854,
          18.79115424156189,
          18.51310486793518,
          18.028997278213502,
          17.758584022521973,
          17.796262502670288,
          17.721233558654784,
          17.452545642852783,
          17.65114688873291,
          17.562566709518432,
          17.547672986984253,
          17.49443874359131,
          17.56656174659729,
          17.558767795562744,
          17.756757497787476,
          17.40398817062378,
          17.761098098754882,
          17.661938667297363,
          17.50312614440918,
          17.626536417007447,
          17.689088439941408,
          17.699480104446412,
          17.502471256256104,
          17.46213593482971,
          17.377016162872316,
          17.489201831817628,
          17.27257170677185,
          17.58329939842224,
          17.611078453063964,
          17.548634815216065,
          17.905724382400514,
          18.041110610961915,
          18.2024498462677,
          18.032226514816283,
          17.574594497680664,
          17.415073108673095,
          17.241372680664064,
          17.485672616958617,
          17.457673215866087,
          17.935177707672118,
          17.745439291000366,
          17.467876577377318,
          17.407312202453614,
          17.760655021667482,
          17.44005603790283,
          17.80958456993103,
          17.492366361618043,
          17.91230192184448,
          17.84361562728882,
          18.342269086837767,
          18.02731490135193,
          18.607278394699097,
          18.03125042915344,
          17.803384351730347,
          17.880962753295897,
          18.06730890274048,
          17.71679730415344,
          17.740041065216065,
          17.618206310272218,
          17.487592029571534,
          17.90768966674805,
          17.68607449531555,
          18.167590618133545,
          17.974079370498657,
          18.46003637313843,
          18.297968435287476,
          18.736716508865356
         ],
         "yaxis": "y"
        }
       ],
       "layout": {
        "legend": {
         "title": {
          "text": "variable"
         },
         "tracegroupgap": 0
        },
        "template": {
         "data": {
          "bar": [
           {
            "error_x": {
             "color": "#2a3f5f"
            },
            "error_y": {
             "color": "#2a3f5f"
            },
            "marker": {
             "line": {
              "color": "#E5ECF6",
              "width": 0.5
             },
             "pattern": {
              "fillmode": "overlay",
              "size": 10,
              "solidity": 0.2
             }
            },
            "type": "bar"
           }
          ],
          "barpolar": [
           {
            "marker": {
             "line": {
              "color": "#E5ECF6",
              "width": 0.5
             },
             "pattern": {
              "fillmode": "overlay",
              "size": 10,
              "solidity": 0.2
             }
            },
            "type": "barpolar"
           }
          ],
          "carpet": [
           {
            "aaxis": {
             "endlinecolor": "#2a3f5f",
             "gridcolor": "white",
             "linecolor": "white",
             "minorgridcolor": "white",
             "startlinecolor": "#2a3f5f"
            },
            "baxis": {
             "endlinecolor": "#2a3f5f",
             "gridcolor": "white",
             "linecolor": "white",
             "minorgridcolor": "white",
             "startlinecolor": "#2a3f5f"
            },
            "type": "carpet"
           }
          ],
          "choropleth": [
           {
            "colorbar": {
             "outlinewidth": 0,
             "ticks": ""
            },
            "type": "choropleth"
           }
          ],
          "contour": [
           {
            "colorbar": {
             "outlinewidth": 0,
             "ticks": ""
            },
            "colorscale": [
             [
              0,
              "#0d0887"
             ],
             [
              0.1111111111111111,
              "#46039f"
             ],
             [
              0.2222222222222222,
              "#7201a8"
             ],
             [
              0.3333333333333333,
              "#9c179e"
             ],
             [
              0.4444444444444444,
              "#bd3786"
             ],
             [
              0.5555555555555556,
              "#d8576b"
             ],
             [
              0.6666666666666666,
              "#ed7953"
             ],
             [
              0.7777777777777778,
              "#fb9f3a"
             ],
             [
              0.8888888888888888,
              "#fdca26"
             ],
             [
              1,
              "#f0f921"
             ]
            ],
            "type": "contour"
           }
          ],
          "contourcarpet": [
           {
            "colorbar": {
             "outlinewidth": 0,
             "ticks": ""
            },
            "type": "contourcarpet"
           }
          ],
          "heatmap": [
           {
            "colorbar": {
             "outlinewidth": 0,
             "ticks": ""
            },
            "colorscale": [
             [
              0,
              "#0d0887"
             ],
             [
              0.1111111111111111,
              "#46039f"
             ],
             [
              0.2222222222222222,
              "#7201a8"
             ],
             [
              0.3333333333333333,
              "#9c179e"
             ],
             [
              0.4444444444444444,
              "#bd3786"
             ],
             [
              0.5555555555555556,
              "#d8576b"
             ],
             [
              0.6666666666666666,
              "#ed7953"
             ],
             [
              0.7777777777777778,
              "#fb9f3a"
             ],
             [
              0.8888888888888888,
              "#fdca26"
             ],
             [
              1,
              "#f0f921"
             ]
            ],
            "type": "heatmap"
           }
          ],
          "heatmapgl": [
           {
            "colorbar": {
             "outlinewidth": 0,
             "ticks": ""
            },
            "colorscale": [
             [
              0,
              "#0d0887"
             ],
             [
              0.1111111111111111,
              "#46039f"
             ],
             [
              0.2222222222222222,
              "#7201a8"
             ],
             [
              0.3333333333333333,
              "#9c179e"
             ],
             [
              0.4444444444444444,
              "#bd3786"
             ],
             [
              0.5555555555555556,
              "#d8576b"
             ],
             [
              0.6666666666666666,
              "#ed7953"
             ],
             [
              0.7777777777777778,
              "#fb9f3a"
             ],
             [
              0.8888888888888888,
              "#fdca26"
             ],
             [
              1,
              "#f0f921"
             ]
            ],
            "type": "heatmapgl"
           }
          ],
          "histogram": [
           {
            "marker": {
             "pattern": {
              "fillmode": "overlay",
              "size": 10,
              "solidity": 0.2
             }
            },
            "type": "histogram"
           }
          ],
          "histogram2d": [
           {
            "colorbar": {
             "outlinewidth": 0,
             "ticks": ""
            },
            "colorscale": [
             [
              0,
              "#0d0887"
             ],
             [
              0.1111111111111111,
              "#46039f"
             ],
             [
              0.2222222222222222,
              "#7201a8"
             ],
             [
              0.3333333333333333,
              "#9c179e"
             ],
             [
              0.4444444444444444,
              "#bd3786"
             ],
             [
              0.5555555555555556,
              "#d8576b"
             ],
             [
              0.6666666666666666,
              "#ed7953"
             ],
             [
              0.7777777777777778,
              "#fb9f3a"
             ],
             [
              0.8888888888888888,
              "#fdca26"
             ],
             [
              1,
              "#f0f921"
             ]
            ],
            "type": "histogram2d"
           }
          ],
          "histogram2dcontour": [
           {
            "colorbar": {
             "outlinewidth": 0,
             "ticks": ""
            },
            "colorscale": [
             [
              0,
              "#0d0887"
             ],
             [
              0.1111111111111111,
              "#46039f"
             ],
             [
              0.2222222222222222,
              "#7201a8"
             ],
             [
              0.3333333333333333,
              "#9c179e"
             ],
             [
              0.4444444444444444,
              "#bd3786"
             ],
             [
              0.5555555555555556,
              "#d8576b"
             ],
             [
              0.6666666666666666,
              "#ed7953"
             ],
             [
              0.7777777777777778,
              "#fb9f3a"
             ],
             [
              0.8888888888888888,
              "#fdca26"
             ],
             [
              1,
              "#f0f921"
             ]
            ],
            "type": "histogram2dcontour"
           }
          ],
          "mesh3d": [
           {
            "colorbar": {
             "outlinewidth": 0,
             "ticks": ""
            },
            "type": "mesh3d"
           }
          ],
          "parcoords": [
           {
            "line": {
             "colorbar": {
              "outlinewidth": 0,
              "ticks": ""
             }
            },
            "type": "parcoords"
           }
          ],
          "pie": [
           {
            "automargin": true,
            "type": "pie"
           }
          ],
          "scatter": [
           {
            "fillpattern": {
             "fillmode": "overlay",
             "size": 10,
             "solidity": 0.2
            },
            "type": "scatter"
           }
          ],
          "scatter3d": [
           {
            "line": {
             "colorbar": {
              "outlinewidth": 0,
              "ticks": ""
             }
            },
            "marker": {
             "colorbar": {
              "outlinewidth": 0,
              "ticks": ""
             }
            },
            "type": "scatter3d"
           }
          ],
          "scattercarpet": [
           {
            "marker": {
             "colorbar": {
              "outlinewidth": 0,
              "ticks": ""
             }
            },
            "type": "scattercarpet"
           }
          ],
          "scattergeo": [
           {
            "marker": {
             "colorbar": {
              "outlinewidth": 0,
              "ticks": ""
             }
            },
            "type": "scattergeo"
           }
          ],
          "scattergl": [
           {
            "marker": {
             "colorbar": {
              "outlinewidth": 0,
              "ticks": ""
             }
            },
            "type": "scattergl"
           }
          ],
          "scattermapbox": [
           {
            "marker": {
             "colorbar": {
              "outlinewidth": 0,
              "ticks": ""
             }
            },
            "type": "scattermapbox"
           }
          ],
          "scatterpolar": [
           {
            "marker": {
             "colorbar": {
              "outlinewidth": 0,
              "ticks": ""
             }
            },
            "type": "scatterpolar"
           }
          ],
          "scatterpolargl": [
           {
            "marker": {
             "colorbar": {
              "outlinewidth": 0,
              "ticks": ""
             }
            },
            "type": "scatterpolargl"
           }
          ],
          "scatterternary": [
           {
            "marker": {
             "colorbar": {
              "outlinewidth": 0,
              "ticks": ""
             }
            },
            "type": "scatterternary"
           }
          ],
          "surface": [
           {
            "colorbar": {
             "outlinewidth": 0,
             "ticks": ""
            },
            "colorscale": [
             [
              0,
              "#0d0887"
             ],
             [
              0.1111111111111111,
              "#46039f"
             ],
             [
              0.2222222222222222,
              "#7201a8"
             ],
             [
              0.3333333333333333,
              "#9c179e"
             ],
             [
              0.4444444444444444,
              "#bd3786"
             ],
             [
              0.5555555555555556,
              "#d8576b"
             ],
             [
              0.6666666666666666,
              "#ed7953"
             ],
             [
              0.7777777777777778,
              "#fb9f3a"
             ],
             [
              0.8888888888888888,
              "#fdca26"
             ],
             [
              1,
              "#f0f921"
             ]
            ],
            "type": "surface"
           }
          ],
          "table": [
           {
            "cells": {
             "fill": {
              "color": "#EBF0F8"
             },
             "line": {
              "color": "white"
             }
            },
            "header": {
             "fill": {
              "color": "#C8D4E3"
             },
             "line": {
              "color": "white"
             }
            },
            "type": "table"
           }
          ]
         },
         "layout": {
          "annotationdefaults": {
           "arrowcolor": "#2a3f5f",
           "arrowhead": 0,
           "arrowwidth": 1
          },
          "autotypenumbers": "strict",
          "coloraxis": {
           "colorbar": {
            "outlinewidth": 0,
            "ticks": ""
           }
          },
          "colorscale": {
           "diverging": [
            [
             0,
             "#8e0152"
            ],
            [
             0.1,
             "#c51b7d"
            ],
            [
             0.2,
             "#de77ae"
            ],
            [
             0.3,
             "#f1b6da"
            ],
            [
             0.4,
             "#fde0ef"
            ],
            [
             0.5,
             "#f7f7f7"
            ],
            [
             0.6,
             "#e6f5d0"
            ],
            [
             0.7,
             "#b8e186"
            ],
            [
             0.8,
             "#7fbc41"
            ],
            [
             0.9,
             "#4d9221"
            ],
            [
             1,
             "#276419"
            ]
           ],
           "sequential": [
            [
             0,
             "#0d0887"
            ],
            [
             0.1111111111111111,
             "#46039f"
            ],
            [
             0.2222222222222222,
             "#7201a8"
            ],
            [
             0.3333333333333333,
             "#9c179e"
            ],
            [
             0.4444444444444444,
             "#bd3786"
            ],
            [
             0.5555555555555556,
             "#d8576b"
            ],
            [
             0.6666666666666666,
             "#ed7953"
            ],
            [
             0.7777777777777778,
             "#fb9f3a"
            ],
            [
             0.8888888888888888,
             "#fdca26"
            ],
            [
             1,
             "#f0f921"
            ]
           ],
           "sequentialminus": [
            [
             0,
             "#0d0887"
            ],
            [
             0.1111111111111111,
             "#46039f"
            ],
            [
             0.2222222222222222,
             "#7201a8"
            ],
            [
             0.3333333333333333,
             "#9c179e"
            ],
            [
             0.4444444444444444,
             "#bd3786"
            ],
            [
             0.5555555555555556,
             "#d8576b"
            ],
            [
             0.6666666666666666,
             "#ed7953"
            ],
            [
             0.7777777777777778,
             "#fb9f3a"
            ],
            [
             0.8888888888888888,
             "#fdca26"
            ],
            [
             1,
             "#f0f921"
            ]
           ]
          },
          "colorway": [
           "#636efa",
           "#EF553B",
           "#00cc96",
           "#ab63fa",
           "#FFA15A",
           "#19d3f3",
           "#FF6692",
           "#B6E880",
           "#FF97FF",
           "#FECB52"
          ],
          "font": {
           "color": "#2a3f5f"
          },
          "geo": {
           "bgcolor": "white",
           "lakecolor": "white",
           "landcolor": "#E5ECF6",
           "showlakes": true,
           "showland": true,
           "subunitcolor": "white"
          },
          "hoverlabel": {
           "align": "left"
          },
          "hovermode": "closest",
          "mapbox": {
           "style": "light"
          },
          "paper_bgcolor": "white",
          "plot_bgcolor": "#E5ECF6",
          "polar": {
           "angularaxis": {
            "gridcolor": "white",
            "linecolor": "white",
            "ticks": ""
           },
           "bgcolor": "#E5ECF6",
           "radialaxis": {
            "gridcolor": "white",
            "linecolor": "white",
            "ticks": ""
           }
          },
          "scene": {
           "xaxis": {
            "backgroundcolor": "#E5ECF6",
            "gridcolor": "white",
            "gridwidth": 2,
            "linecolor": "white",
            "showbackground": true,
            "ticks": "",
            "zerolinecolor": "white"
           },
           "yaxis": {
            "backgroundcolor": "#E5ECF6",
            "gridcolor": "white",
            "gridwidth": 2,
            "linecolor": "white",
            "showbackground": true,
            "ticks": "",
            "zerolinecolor": "white"
           },
           "zaxis": {
            "backgroundcolor": "#E5ECF6",
            "gridcolor": "white",
            "gridwidth": 2,
            "linecolor": "white",
            "showbackground": true,
            "ticks": "",
            "zerolinecolor": "white"
           }
          },
          "shapedefaults": {
           "line": {
            "color": "#2a3f5f"
           }
          },
          "ternary": {
           "aaxis": {
            "gridcolor": "white",
            "linecolor": "white",
            "ticks": ""
           },
           "baxis": {
            "gridcolor": "white",
            "linecolor": "white",
            "ticks": ""
           },
           "bgcolor": "#E5ECF6",
           "caxis": {
            "gridcolor": "white",
            "linecolor": "white",
            "ticks": ""
           }
          },
          "title": {
           "x": 0.05
          },
          "xaxis": {
           "automargin": true,
           "gridcolor": "white",
           "linecolor": "white",
           "ticks": "",
           "title": {
            "standoff": 15
           },
           "zerolinecolor": "white",
           "zerolinewidth": 2
          },
          "yaxis": {
           "automargin": true,
           "gridcolor": "white",
           "linecolor": "white",
           "ticks": "",
           "title": {
            "standoff": 15
           },
           "zerolinecolor": "white",
           "zerolinewidth": 2
          }
         }
        },
        "title": {
         "text": "SAE Training Loss"
        },
        "xaxis": {
         "anchor": "y",
         "domain": [
          0,
          1
         ],
         "title": {
          "text": "index"
         }
        },
        "yaxis": {
         "anchor": "x",
         "domain": [
          0,
          1
         ],
         "title": {
          "text": "value"
         }
        }
       }
      },
      "text/html": [
       "<div>                            <div id=\"4fcdf70f-e067-4f06-9352-51e6474b12c5\" class=\"plotly-graph-div\" style=\"height:525px; width:100%;\"></div>            <script type=\"text/javascript\">                require([\"plotly\"], function(Plotly) {                    window.PLOTLYENV=window.PLOTLYENV || {};                                    if (document.getElementById(\"4fcdf70f-e067-4f06-9352-51e6474b12c5\")) {                    Plotly.newPlot(                        \"4fcdf70f-e067-4f06-9352-51e6474b12c5\",                        [{\"hovertemplate\":\"variable=0\\u003cbr\\u003eindex=%{x}\\u003cbr\\u003evalue=%{y}\\u003cextra\\u003e\\u003c\\u002fextra\\u003e\",\"legendgroup\":\"0\",\"line\":{\"color\":\"#636efa\",\"dash\":\"solid\"},\"marker\":{\"symbol\":\"circle\"},\"mode\":\"lines\",\"name\":\"0\",\"orientation\":\"v\",\"showlegend\":true,\"x\":[0,1,2,3,4,5,6,7,8,9,10,11,12,13,14,15,16,17,18,19,20,21,22,23,24,25,26,27,28,29,30,31,32,33,34,35,36,37,38,39,40,41,42,43,44,45,46,47,48,49,50,51,52,53,54,55,56,57,58,59,60,61,62,63,64,65,66,67,68,69,70,71,72,73,74,75,76,77,78,79,80,81,82,83,84,85,86,87,88,89,90,91,92,93,94,95,96,97,98,99,100,101,102,103,104,105,106,107,108,109,110,111,112,113,114,115,116,117,118,119,120,121,122,123,124,125,126,127,128,129,130,131,132,133,134,135,136,137,138,139,140,141,142,143,144,145,146,147,148,149,150,151,152,153,154,155,156,157,158,159,160,161,162,163,164,165,166,167,168,169,170,171,172,173,174,175,176,177,178,179,180,181,182,183,184,185,186,187,188,189,190,191,192,193,194,195,196,197,198,199,200,201,202,203,204,205,206,207,208,209,210,211,212,213,214,215,216,217,218,219,220,221,222,223,224,225,226,227,228,229,230,231,232,233,234,235,236,237,238,239,240,241,242,243,244,245,246,247,248,249,250,251,252,253,254,255,256,257,258,259,260,261,262,263,264,265,266,267,268,269,270,271,272,273,274,275,276,277,278,279,280,281,282,283,284,285,286,287,288,289,290,291,292,293,294,295,296,297,298,299,300,301,302,303,304,305,306,307,308,309,310,311,312,313,314,315,316,317,318,319,320,321,322,323,324,325,326,327,328,329,330,331,332,333,334,335,336,337,338,339,340,341,342,343,344,345,346,347,348,349,350,351,352,353,354,355,356,357,358,359,360,361,362,363,364,365,366,367,368,369,370,371,372,373,374,375,376,377,378,379,380,381,382,383,384,385,386,387,388,389,390,391,392,393,394,395,396,397,398,399,400,401,402,403,404,405,406,407,408,409,410,411,412,413,414,415,416,417,418,419,420,421,422,423,424,425,426,427,428,429,430,431,432,433,434,435,436,437,438,439,440,441,442,443,444,445,446,447,448,449,450,451,452,453,454,455,456,457,458,459,460,461,462,463,464,465,466,467,468,469,470,471,472,473,474,475,476,477,478,479,480,481,482,483,484,485,486,487,488,489,490,491,492,493,494,495,496,497,498,499,500,501,502,503,504,505,506,507,508,509,510,511,512,513,514,515,516,517,518,519,520,521,522,523,524,525,526,527,528,529,530,531,532,533,534,535,536,537,538,539,540,541,542,543,544,545,546,547,548,549,550,551,552,553,554,555,556,557,558,559,560,561,562,563,564,565,566,567,568,569,570,571,572,573,574,575,576,577,578,579,580,581,582,583,584,585,586,587,588,589,590,591,592,593,594,595,596,597,598,599,600,601,602,603,604,605,606,607,608,609,610,611,612,613,614,615,616,617,618,619,620,621,622,623,624,625,626,627,628,629,630,631,632,633,634,635,636,637,638,639,640,641,642,643,644,645,646,647,648,649,650,651,652,653,654,655,656,657,658,659,660,661,662,663,664,665,666,667,668,669,670,671,672,673,674,675,676,677,678,679,680,681,682,683,684,685,686,687,688,689,690,691,692,693,694,695,696,697,698,699,700,701,702,703,704,705,706,707,708,709,710,711,712,713,714,715,716,717,718,719,720,721,722,723,724,725,726,727,728,729,730,731,732,733,734,735,736,737,738,739,740,741,742,743,744,745,746,747,748,749,750,751,752,753,754,755,756,757,758,759,760,761,762,763,764,765,766,767,768,769,770,771,772,773,774,775,776,777,778,779,780,781,782,783,784,785,786,787,788,789,790,791,792,793,794,795,796,797,798,799,800,801,802,803,804,805,806,807,808,809,810,811,812,813,814,815,816,817,818,819,820,821,822,823,824,825,826,827,828,829,830,831,832,833,834,835,836,837,838,839,840,841,842,843,844,845,846,847,848,849,850,851,852,853,854,855,856,857,858,859,860,861,862,863,864,865,866,867,868,869,870,871,872,873,874,875,876,877,878,879,880,881,882,883,884,885,886,887,888,889,890,891,892,893,894,895,896,897,898,899,900,901,902,903,904,905,906,907,908,909,910,911,912,913,914,915,916,917,918,919,920,921,922,923,924,925,926,927,928,929,930,931,932,933,934,935,936,937,938,939,940,941,942,943,944,945,946,947,948,949,950,951,952,953,954,955,956,957,958,959,960,961,962,963,964,965,966,967,968,969,970,971,972,973,974,975,976,977,978,979,980,981,982,983,984,985,986,987,988,989,990,991,992,993,994,995,996,997,998,999],\"xaxis\":\"x\",\"y\":[284.64969329833986,155.6299789428711,129.19234619140624,116.30285034179687,106.75163497924805,99.44795150756836,93.38566665649414,88.03366889953614,83.57459869384766,79.72426986694336,76.82646865844727,74.3454746246338,73.79696273803711,72.81602554321289,72.66036529541016,68.68562622070313,66.27968254089356,63.877630615234374,62.12327079772949,60.610335159301755,59.35902290344238,58.433423614501955,57.688733673095705,57.13570289611816,56.2595874786377,55.8527114868164,55.34844398498535,55.34771041870117,55.45470142364502,53.94858894348145,53.77415752410889,52.56162528991699,51.82216300964355,51.048295974731445,50.47644157409668,49.392337036132815,48.74169521331787,48.158762741088864,47.575616455078126,47.20899333953857,46.874090576171874,46.297055053710935,46.05083179473877,45.71968994140625,45.917717170715335,45.701769065856936,45.895480728149415,46.00481815338135,46.27093315124512,45.85661163330078,46.77130603790283,45.804524421691895,45.35048980712891,44.726799392700194,43.93227424621582,43.33898868560791,42.80424537658691,42.17343368530273,41.706721496582034,41.37716999053955,41.19238758087158,40.88140983581543,40.81215934753418,40.40337314605713,40.23058815002442,40.04665699005127,40.107735061645506,39.8630313873291,39.85701923370361,39.44168968200684,39.85669631958008,39.331932830810544,39.57575645446777,39.42324428558349,39.591207885742186,40.16865844726563,39.94976291656494,40.478342819213864,39.631783676147464,39.07165679931641,39.65233039855957,38.34728107452393,38.05507411956787,37.437211990356445,37.143338203430176,37.191477584838864,36.912567138671875,36.78235511779785,36.736084938049316,36.079483604431154,35.75337476730347,35.533806228637694,35.2343053817749,35.03815212249756,35.22738838195801,35.05050640106201,35.738494873046875,35.90921630859375,35.69193744659424,36.35102844238281,35.715958976745604,35.34270820617676,35.580277633666995,34.960250282287596,34.792236328125,34.506666564941405,35.00583839416504,34.87880506515503,34.48218269348145,34.608117294311526,34.209291744232175,33.94110870361328,34.40624828338623,33.94349641799927,33.87189512252807,33.03678674697876,32.73415184020996,32.68968915939331,32.62084255218506,32.38885202407837,32.40108947753906,32.25610504150391,32.5064356803894,32.489770317077635,32.38543586730957,32.64344930648804,32.915978050231935,32.611167907714844,33.17524871826172,32.19954080581665,32.045057487487796,32.06474723815918,31.896720218658448,31.952787780761717,32.33913745880127,31.441064834594727,31.178765296936035,31.064968872070313,30.861254501342774,30.931284046173097,31.315464782714844,30.992974948883056,31.010828971862793,30.92206687927246,31.486155319213868,31.706984329223634,32.2375994682312,31.37388458251953,31.122117805480958,31.04763889312744,30.97618865966797,30.24107904434204,30.186501884460448,29.735883140563963,29.427328395843507,29.24707374572754,29.47020854949951,29.33732376098633,29.199279689788817,29.318361663818358,29.357491874694823,29.324473190307618,30.04291648864746,29.593983840942382,29.456492137908935,29.28462371826172,29.059185028076172,28.791654872894288,29.353474807739257,28.892641067504883,28.701279163360596,28.422327613830568,28.179057121276855,27.964875984191895,28.0732177734375,28.168643474578857,28.090467834472655,28.128780841827393,28.048526000976562,27.951093101501463,27.763172149658203,27.841236782073974,27.602831172943116,27.48488082885742,27.675225067138673,28.189957332611083,28.322659492492676,28.945124244689943,28.743111419677735,28.888727951049805,28.98744888305664,30.12237682342529,29.506257438659667,30.204648113250734,29.10154447555542,28.352159881591795,27.943250370025634,27.55826120376587,27.155317974090575,27.184379959106444,27.075654315948487,26.88097267150879,27.10756826400757,26.964768409729004,26.850115966796874,27.20501766204834,27.269874382019044,27.236514282226562,27.59867630004883,27.024215507507325,26.946807384490967,26.861943244934082,26.23765697479248,26.150675773620605,25.806924247741698,25.89023952484131,25.97599172592163,26.3608736038208,26.285385036468504,26.819083309173585,26.323428535461424,26.144831466674805,26.007509231567383,25.967260932922365,25.933911895751955,26.201872062683105,25.953162384033202,25.820261669158935,25.68802719116211,26.071616077423094,26.065102767944335,26.30507411956787,26.076417541503908,25.856482601165773,25.685711765289305,26.080018329620362,25.78331069946289,25.835644340515138,25.92657413482666,25.546676445007325,25.416060066223146,25.378499126434328,25.332693672180177,25.631625175476074,25.443609046936036,25.256629180908202,25.12321357727051,25.172170543670653,25.053010749816895,25.067220878601074,24.769673347473145,24.603301525115967,24.316332960128783,24.297086334228517,24.126929426193236,24.299364709854125,24.305112838745117,24.667862701416016,24.69090747833252,25.380639266967773,25.24995365142822,26.625091361999512,26.159396934509278,26.798569869995116,25.507116317749023,24.996429443359375,24.346976947784423,24.4118052482605,24.31299352645874,24.77800416946411,24.517697715759276,24.497114753723146,24.335237979888916,24.14349775314331,23.932240676879882,23.655276393890382,23.77180700302124,23.730479049682618,23.765233755111694,23.910199642181396,24.351832485198976,24.533936309814454,25.664478397369386,24.991094398498536,24.802192306518556,24.166815185546874,24.70828847885132,24.39638042449951,24.847619819641114,24.130123090744018,24.014501953125,23.91832551956177,23.81110258102417,24.00365505218506,24.313373565673828,24.563119888305664,24.246105480194093,24.477234268188475,23.55175199508667,23.39465503692627,23.15157814025879,22.81830253601074,22.739129638671876,23.002216625213624,23.059074544906615,23.56253671646118,23.440604209899902,23.763793563842775,23.39674491882324,24.050064754486083,23.35414810180664,23.469677543640138,23.0462975025177,23.072135066986085,22.700068616867064,22.45368847846985,22.338096046447752,22.499604892730712,22.492897176742552,23.101299953460693,22.81020359992981,22.947154235839843,22.647271823883056,23.156565952301026,22.983388137817382,23.70569477081299,23.01072406768799,23.138270092010497,22.605812072753906,23.059669399261473,22.369117546081544,22.31192317008972,22.158103656768798,21.972949600219728,21.93116626739502,22.162162876129152,22.226346063613892,22.91236972808838,23.21753215789795,23.006285190582275,23.082933282852174,23.05266890525818,22.560024452209472,22.48348922729492,22.638528633117676,22.635758113861083,23.14388313293457,22.582366466522217,22.62126398086548,22.376504755020143,22.258756637573242,22.164897537231447,23.18165397644043,22.882833003997803,23.676449680328368,22.910917663574217,23.324480533599854,22.352449226379395,22.531783294677734,22.285832405090332,22.468148612976073,21.994415283203125,21.97209882736206,21.84408950805664,21.63843913078308,21.676852798461915,21.67340569496155,21.75023522377014,21.75169701576233,22.362635231018068,22.137065601348876,22.628696155548095,22.125161838531493,22.18766975402832,21.769410037994383,22.195336437225343,21.70328574180603,22.107470321655274,21.541645860672,21.529339122772218,21.090568494796752,21.10327320098877,21.045561265945434,21.33661594390869,21.320996284484863,21.515360879898072,21.810323858261107,21.735677671432494,21.690414094924925,21.412507152557374,21.221714973449707,21.420689201354982,21.230205297470093,21.20476713180542,21.338993072509766,21.29380807876587,21.8297119140625,21.67864809036255,21.96821584701538,21.325663566589355,21.02867202758789,20.634044647216797,20.57317271232605,20.51701898574829,20.906371593475342,21.06898069381714,21.21854166984558,21.20492172241211,21.37285671234131,21.03925256729126,21.231539726257324,21.400150966644286,21.41956024169922,21.81061010360718,21.44747886657715,21.32104206085205,21.67738456726074,21.461778926849366,21.84199504852295,21.08715319633484,21.1549241065979,20.844124221801756,20.849047660827637,20.69033718109131,21.156744146347044,21.097382164001466,21.56581301689148,21.116626262664795,21.226443672180174,21.184188985824584,21.704950046539306,21.459443855285645,22.627200412750245,21.391349649429323,21.3789128780365,20.659336042404174,20.50093545913696,20.192123460769654,20.218942832946777,19.980116510391234,20.3177827835083,20.330659866333008,20.617568588256837,20.497831535339355,20.447531604766844,20.607128143310547,20.54930353164673,20.452875232696535,20.399857330322266,20.722157382965086,21.052815675735474,21.26369104385376,21.42162618637085,21.664208793640135,22.05448818206787,22.037688732147217,22.626459407806397,22.103770637512206,22.78273410797119,21.774534130096434,22.363776302337648,21.2603271484375,21.08634238243103,20.620858192443848,20.45592498779297,20.149924182891844,20.109709167480467,20.123138332366942,20.091315460205077,20.338916873931886,20.681780195236207,21.32993392944336,21.002455139160155,21.4484393119812,20.685347652435304,20.444640350341796,20.01613540649414,19.988959503173827,19.708479595184325,19.953215217590333,19.87049808502197,20.200818729400634,20.751325416564942,20.716544246673585,20.54642872810364,20.401332759857176,20.3612943649292,20.211093425750732,20.017129325866698,20.164297008514403,20.40954122543335,20.192293405532837,19.96456198692322,20.169125366210938,19.956838607788086,20.098556423187254,19.88065137863159,20.20694499015808,19.77137408256531,20.214043617248535,19.85945920944214,20.054567527770995,19.505907344818116,19.52153000831604,19.273129272460938,19.617201375961304,19.643799924850462,20.70424642562866,20.961651659011842,22.216950798034667,21.179012870788576,21.31071243286133,20.958919334411622,20.980492067337035,20.206438636779787,20.294311809539796,20.123047351837158,20.507636976242065,20.40457935333252,20.20054187774658,20.44299554824829,20.013378143310547,19.996368932724,19.76607027053833,19.71824164390564,19.641600036621092,19.68688235282898,19.658778715133668,20.129462909698486,20.265111684799194,20.904190921783446,20.443396854400635,20.58143858909607,20.047562742233275,20.52616262435913,20.013023471832277,20.000694608688356,19.628087043762207,19.764460802078247,19.533712291717528,19.28587203025818,19.155648851394652,18.953678035736083,18.98060269355774,19.10305562019348,19.680939817428587,19.61358509063721,20.019769763946535,19.730902242660523,20.244657039642334,20.083874416351318,20.7000111579895,19.968856143951417,19.991322422027586,19.522423648834227,19.5298020362854,19.14074468612671,19.126400423049926,18.865118789672852,18.954996490478514,18.932641220092773,18.894533729553224,19.143103456497194,19.114718103408812,19.071090698242188,19.092224216461183,19.148822641372682,19.386287784576417,19.247756052017213,19.104609394073485,19.379156970977782,19.322206115722658,19.902137899398802,19.77837018966675,20.312509536743164,19.74149532318115,20.048733711242676,19.589961051940918,20.028532314300538,19.74076623916626,19.992261791229247,19.258695220947267,19.28557276725769,18.898460102081298,18.911616945266722,18.926185274124144,18.91493401527405,19.109538078308105,19.00688991546631,19.068552017211914,19.319644260406495,19.324575757980348,19.40659890174866,19.64142370223999,19.256589365005492,19.37235426902771,19.709486198425292,20.10338339805603,20.013095140457153,20.584906387329102,20.029513835906982,20.594144439697267,19.673780345916747,19.694776153564455,19.26061305999756,19.216429233551025,19.003460073471068,19.28888306617737,19.33012137413025,19.649327325820924,19.838835144042967,19.579552745819093,19.69066791534424,19.36399188041687,19.07013177871704,18.695907020568846,18.674961853027344,18.580519008636475,18.83883466720581,18.69451823234558,19.06027054786682,18.832020902633666,18.949665069580078,19.182436370849608,19.184817171096803,19.62809000015259,19.848404312133788,20.234300804138183,19.90543098449707,20.57994203567505,19.728533267974854,19.834778881073,19.025828075408935,18.838059186935425,18.479436779022215,18.476646995544435,18.177317810058593,18.31139740943909,18.237592363357543,18.434904718399046,18.526848602294923,18.486244869232177,18.447071313858032,18.369273900985718,18.32602424621582,18.302226114273072,18.61150207519531,18.441370964050293,18.785618209838866,18.753100633621216,19.218502283096313,20.090037250518797,21.33002300262451,20.4354341506958,20.875164031982422,20.221348237991332,20.286958169937133,19.406756973266603,19.154908323287962,19.180863094329833,20.003860187530517,19.61624131202698,19.615087747573853,19.451137638092042,19.911578464508057,20.035568618774413,20.354664945602416,20.15521936416626,20.237444400787354,20.182482624053954,20.43128628730774,20.594985961914062,20.833909606933595,20.347280502319336,20.1227614402771,19.5546594619751,19.06851396560669,19.16519465446472,19.05687894821167,19.4825647354126,19.01710715293884,19.372876405715942,18.824086713790894,18.8056725025177,18.323637008666992,18.568967151641846,18.184865760803223,18.238955163955687,18.592088222503662,18.187014055252074,18.332870054244996,18.457030153274538,18.376876878738404,18.493832874298096,18.915421438217162,18.52896466255188,18.738708209991454,18.214167881011964,18.19272403717041,18.067878913879394,18.12713232040405,17.91843738555908,18.011438512802123,18.116549968719482,17.887022066116334,18.031589460372924,18.06268653869629,18.307863092422487,18.231754207611083,18.40395908355713,18.638422536849976,19.06241617202759,19.356629848480225,19.80138988494873,19.61103982925415,19.121494722366332,18.927294921875,18.420910024642943,18.387940835952758,18.243230056762695,18.426732063293457,18.12811460494995,17.82563524246216,17.697438716888428,17.67938961982727,17.54342908859253,17.694426441192626,17.889634990692137,17.95817995071411,18.322589111328124,18.180414295196535,18.20801191329956,18.31651129722595,18.309186935424805,18.392879676818847,18.282204818725585,18.36973171234131,18.02402663230896,18.127509117126465,17.927857398986816,17.906664514541625,17.92539801597595,17.995667362213133,18.105412626266478,18.43087944984436,18.982614707946777,18.881055402755738,19.920554447174073,19.384024620056152,19.941849517822266,19.50346851348877,19.898130893707275,19.208062171936035,19.726561737060546,18.974269580841064,19.0086528301239,18.468969058990478,18.146338605880736,18.015507555007936,18.030353403091432,18.05867290496826,18.00970091819763,18.271426582336424,18.143465948104858,18.406038188934325,18.059694957733154,17.98724913597107,17.90507197380066,17.97773504257202,17.779298782348633,17.927970695495606,17.929232454299928,17.988352012634277,18.014971876144408,18.209533214569092,18.24624376296997,18.165293645858764,18.42196397781372,18.894251823425293,18.776783514022828,19.033368349075317,18.872624731063844,19.3735143661499,19.33453526496887,19.64853744506836,19.25041036605835,19.10636067390442,18.99198160171509,18.868691778182985,18.853638935089112,18.591405582427978,18.83472089767456,18.331459331512452,18.47535309791565,18.29868369102478,18.8855580329895,18.545406103134155,18.964712190628052,18.360553312301636,18.431227111816405,17.962539434432983,18.041116762161256,17.716093873977663,17.94925742149353,17.844332695007324,17.928371620178222,17.92079563140869,17.755368614196776,17.767930507659912,18.249822473526002,18.61795492172241,18.739437580108643,19.594209671020508,19.018382120132447,18.674849605560304,18.537081050872803,18.496119022369385,18.014483785629274,18.16156244277954,18.015499353408813,18.031450510025024,18.048914766311647,18.19671263694763,18.448668241500854,18.806585454940794,18.611577796936036,19.117161417007445,18.71270661354065,18.327596569061278,17.979197025299072,17.824847841262816,17.6196506023407,17.91011724472046,17.79552321434021,17.866756868362426,17.60379614830017,17.61352252960205,17.419469261169432,17.465863466262817,17.36316885948181,17.40671911239624,17.616302585601808,17.896173620223998,17.97482123374939,18.431869125366212,18.289861965179444,18.179115867614748,18.35592179298401,18.41967668533325,18.291511058807373,18.458545303344728,18.493107080459595,18.354520320892334,19.013443803787233,18.534269762039184,18.840446043014527,18.3595778465271,18.63456082344055,18.284749841690065,18.43366160392761,18.067947387695312,17.95375213623047,17.82642230987549,18.051672554016115,18.065245056152342,18.487088537216188,18.281414890289305,18.0211820602417,18.008005905151368,17.899220371246336,17.765417289733886,17.91663212776184,18.05777578353882,18.66026816368103,18.800250816345216,18.720124816894533,18.615798568725587,19.04237937927246,18.703428554534913,18.762903118133544,18.46205849647522,18.482416296005248,18.45419850349426,18.841732788085938,18.140473461151124,18.287240028381348,17.638377285003664,17.62923836708069,17.40285243988037,17.475964546203613,17.32632441520691,17.47269368171692,17.290602731704713,17.566210079193116,17.50702404975891,17.636470794677734,17.915961742401123,18.20975079536438,18.252939796447755,18.428326845169067,18.391030693054198,17.917172145843505,18.1599591255188,17.862388801574706,17.836386489868165,17.750542640686035,17.83092122077942,17.842162704467775,17.74456901550293,18.127303981781004,18.046992683410643,18.433015298843383,18.119496297836303,18.58692388534546,18.135785722732543,18.09414267539978,17.847821140289305,17.667121124267577,17.44799747467041,17.455669927597047,17.487615966796874,17.665360689163208,18.044807195663452,18.668438053131105,19.283697414398194,19.16819143295288,19.277159690856934,19.022753953933716,19.23343358039856,19.305553436279297,20.302664232254028,19.439473581314086,19.95495295524597,19.0397629737854,18.79115424156189,18.51310486793518,18.028997278213502,17.758584022521973,17.796262502670288,17.721233558654784,17.452545642852783,17.65114688873291,17.562566709518432,17.547672986984253,17.49443874359131,17.56656174659729,17.558767795562744,17.756757497787476,17.40398817062378,17.761098098754882,17.661938667297363,17.50312614440918,17.626536417007447,17.689088439941408,17.699480104446412,17.502471256256104,17.46213593482971,17.377016162872316,17.489201831817628,17.27257170677185,17.58329939842224,17.611078453063964,17.548634815216065,17.905724382400514,18.041110610961915,18.2024498462677,18.032226514816283,17.574594497680664,17.415073108673095,17.241372680664064,17.485672616958617,17.457673215866087,17.935177707672118,17.745439291000366,17.467876577377318,17.407312202453614,17.760655021667482,17.44005603790283,17.80958456993103,17.492366361618043,17.91230192184448,17.84361562728882,18.342269086837767,18.02731490135193,18.607278394699097,18.03125042915344,17.803384351730347,17.880962753295897,18.06730890274048,17.71679730415344,17.740041065216065,17.618206310272218,17.487592029571534,17.90768966674805,17.68607449531555,18.167590618133545,17.974079370498657,18.46003637313843,18.297968435287476,18.736716508865356],\"yaxis\":\"y\",\"type\":\"scatter\"}],                        {\"template\":{\"data\":{\"histogram2dcontour\":[{\"type\":\"histogram2dcontour\",\"colorbar\":{\"outlinewidth\":0,\"ticks\":\"\"},\"colorscale\":[[0.0,\"#0d0887\"],[0.1111111111111111,\"#46039f\"],[0.2222222222222222,\"#7201a8\"],[0.3333333333333333,\"#9c179e\"],[0.4444444444444444,\"#bd3786\"],[0.5555555555555556,\"#d8576b\"],[0.6666666666666666,\"#ed7953\"],[0.7777777777777778,\"#fb9f3a\"],[0.8888888888888888,\"#fdca26\"],[1.0,\"#f0f921\"]]}],\"choropleth\":[{\"type\":\"choropleth\",\"colorbar\":{\"outlinewidth\":0,\"ticks\":\"\"}}],\"histogram2d\":[{\"type\":\"histogram2d\",\"colorbar\":{\"outlinewidth\":0,\"ticks\":\"\"},\"colorscale\":[[0.0,\"#0d0887\"],[0.1111111111111111,\"#46039f\"],[0.2222222222222222,\"#7201a8\"],[0.3333333333333333,\"#9c179e\"],[0.4444444444444444,\"#bd3786\"],[0.5555555555555556,\"#d8576b\"],[0.6666666666666666,\"#ed7953\"],[0.7777777777777778,\"#fb9f3a\"],[0.8888888888888888,\"#fdca26\"],[1.0,\"#f0f921\"]]}],\"heatmap\":[{\"type\":\"heatmap\",\"colorbar\":{\"outlinewidth\":0,\"ticks\":\"\"},\"colorscale\":[[0.0,\"#0d0887\"],[0.1111111111111111,\"#46039f\"],[0.2222222222222222,\"#7201a8\"],[0.3333333333333333,\"#9c179e\"],[0.4444444444444444,\"#bd3786\"],[0.5555555555555556,\"#d8576b\"],[0.6666666666666666,\"#ed7953\"],[0.7777777777777778,\"#fb9f3a\"],[0.8888888888888888,\"#fdca26\"],[1.0,\"#f0f921\"]]}],\"heatmapgl\":[{\"type\":\"heatmapgl\",\"colorbar\":{\"outlinewidth\":0,\"ticks\":\"\"},\"colorscale\":[[0.0,\"#0d0887\"],[0.1111111111111111,\"#46039f\"],[0.2222222222222222,\"#7201a8\"],[0.3333333333333333,\"#9c179e\"],[0.4444444444444444,\"#bd3786\"],[0.5555555555555556,\"#d8576b\"],[0.6666666666666666,\"#ed7953\"],[0.7777777777777778,\"#fb9f3a\"],[0.8888888888888888,\"#fdca26\"],[1.0,\"#f0f921\"]]}],\"contourcarpet\":[{\"type\":\"contourcarpet\",\"colorbar\":{\"outlinewidth\":0,\"ticks\":\"\"}}],\"contour\":[{\"type\":\"contour\",\"colorbar\":{\"outlinewidth\":0,\"ticks\":\"\"},\"colorscale\":[[0.0,\"#0d0887\"],[0.1111111111111111,\"#46039f\"],[0.2222222222222222,\"#7201a8\"],[0.3333333333333333,\"#9c179e\"],[0.4444444444444444,\"#bd3786\"],[0.5555555555555556,\"#d8576b\"],[0.6666666666666666,\"#ed7953\"],[0.7777777777777778,\"#fb9f3a\"],[0.8888888888888888,\"#fdca26\"],[1.0,\"#f0f921\"]]}],\"surface\":[{\"type\":\"surface\",\"colorbar\":{\"outlinewidth\":0,\"ticks\":\"\"},\"colorscale\":[[0.0,\"#0d0887\"],[0.1111111111111111,\"#46039f\"],[0.2222222222222222,\"#7201a8\"],[0.3333333333333333,\"#9c179e\"],[0.4444444444444444,\"#bd3786\"],[0.5555555555555556,\"#d8576b\"],[0.6666666666666666,\"#ed7953\"],[0.7777777777777778,\"#fb9f3a\"],[0.8888888888888888,\"#fdca26\"],[1.0,\"#f0f921\"]]}],\"mesh3d\":[{\"type\":\"mesh3d\",\"colorbar\":{\"outlinewidth\":0,\"ticks\":\"\"}}],\"scatter\":[{\"fillpattern\":{\"fillmode\":\"overlay\",\"size\":10,\"solidity\":0.2},\"type\":\"scatter\"}],\"parcoords\":[{\"type\":\"parcoords\",\"line\":{\"colorbar\":{\"outlinewidth\":0,\"ticks\":\"\"}}}],\"scatterpolargl\":[{\"type\":\"scatterpolargl\",\"marker\":{\"colorbar\":{\"outlinewidth\":0,\"ticks\":\"\"}}}],\"bar\":[{\"error_x\":{\"color\":\"#2a3f5f\"},\"error_y\":{\"color\":\"#2a3f5f\"},\"marker\":{\"line\":{\"color\":\"#E5ECF6\",\"width\":0.5},\"pattern\":{\"fillmode\":\"overlay\",\"size\":10,\"solidity\":0.2}},\"type\":\"bar\"}],\"scattergeo\":[{\"type\":\"scattergeo\",\"marker\":{\"colorbar\":{\"outlinewidth\":0,\"ticks\":\"\"}}}],\"scatterpolar\":[{\"type\":\"scatterpolar\",\"marker\":{\"colorbar\":{\"outlinewidth\":0,\"ticks\":\"\"}}}],\"histogram\":[{\"marker\":{\"pattern\":{\"fillmode\":\"overlay\",\"size\":10,\"solidity\":0.2}},\"type\":\"histogram\"}],\"scattergl\":[{\"type\":\"scattergl\",\"marker\":{\"colorbar\":{\"outlinewidth\":0,\"ticks\":\"\"}}}],\"scatter3d\":[{\"type\":\"scatter3d\",\"line\":{\"colorbar\":{\"outlinewidth\":0,\"ticks\":\"\"}},\"marker\":{\"colorbar\":{\"outlinewidth\":0,\"ticks\":\"\"}}}],\"scattermapbox\":[{\"type\":\"scattermapbox\",\"marker\":{\"colorbar\":{\"outlinewidth\":0,\"ticks\":\"\"}}}],\"scatterternary\":[{\"type\":\"scatterternary\",\"marker\":{\"colorbar\":{\"outlinewidth\":0,\"ticks\":\"\"}}}],\"scattercarpet\":[{\"type\":\"scattercarpet\",\"marker\":{\"colorbar\":{\"outlinewidth\":0,\"ticks\":\"\"}}}],\"carpet\":[{\"aaxis\":{\"endlinecolor\":\"#2a3f5f\",\"gridcolor\":\"white\",\"linecolor\":\"white\",\"minorgridcolor\":\"white\",\"startlinecolor\":\"#2a3f5f\"},\"baxis\":{\"endlinecolor\":\"#2a3f5f\",\"gridcolor\":\"white\",\"linecolor\":\"white\",\"minorgridcolor\":\"white\",\"startlinecolor\":\"#2a3f5f\"},\"type\":\"carpet\"}],\"table\":[{\"cells\":{\"fill\":{\"color\":\"#EBF0F8\"},\"line\":{\"color\":\"white\"}},\"header\":{\"fill\":{\"color\":\"#C8D4E3\"},\"line\":{\"color\":\"white\"}},\"type\":\"table\"}],\"barpolar\":[{\"marker\":{\"line\":{\"color\":\"#E5ECF6\",\"width\":0.5},\"pattern\":{\"fillmode\":\"overlay\",\"size\":10,\"solidity\":0.2}},\"type\":\"barpolar\"}],\"pie\":[{\"automargin\":true,\"type\":\"pie\"}]},\"layout\":{\"autotypenumbers\":\"strict\",\"colorway\":[\"#636efa\",\"#EF553B\",\"#00cc96\",\"#ab63fa\",\"#FFA15A\",\"#19d3f3\",\"#FF6692\",\"#B6E880\",\"#FF97FF\",\"#FECB52\"],\"font\":{\"color\":\"#2a3f5f\"},\"hovermode\":\"closest\",\"hoverlabel\":{\"align\":\"left\"},\"paper_bgcolor\":\"white\",\"plot_bgcolor\":\"#E5ECF6\",\"polar\":{\"bgcolor\":\"#E5ECF6\",\"angularaxis\":{\"gridcolor\":\"white\",\"linecolor\":\"white\",\"ticks\":\"\"},\"radialaxis\":{\"gridcolor\":\"white\",\"linecolor\":\"white\",\"ticks\":\"\"}},\"ternary\":{\"bgcolor\":\"#E5ECF6\",\"aaxis\":{\"gridcolor\":\"white\",\"linecolor\":\"white\",\"ticks\":\"\"},\"baxis\":{\"gridcolor\":\"white\",\"linecolor\":\"white\",\"ticks\":\"\"},\"caxis\":{\"gridcolor\":\"white\",\"linecolor\":\"white\",\"ticks\":\"\"}},\"coloraxis\":{\"colorbar\":{\"outlinewidth\":0,\"ticks\":\"\"}},\"colorscale\":{\"sequential\":[[0.0,\"#0d0887\"],[0.1111111111111111,\"#46039f\"],[0.2222222222222222,\"#7201a8\"],[0.3333333333333333,\"#9c179e\"],[0.4444444444444444,\"#bd3786\"],[0.5555555555555556,\"#d8576b\"],[0.6666666666666666,\"#ed7953\"],[0.7777777777777778,\"#fb9f3a\"],[0.8888888888888888,\"#fdca26\"],[1.0,\"#f0f921\"]],\"sequentialminus\":[[0.0,\"#0d0887\"],[0.1111111111111111,\"#46039f\"],[0.2222222222222222,\"#7201a8\"],[0.3333333333333333,\"#9c179e\"],[0.4444444444444444,\"#bd3786\"],[0.5555555555555556,\"#d8576b\"],[0.6666666666666666,\"#ed7953\"],[0.7777777777777778,\"#fb9f3a\"],[0.8888888888888888,\"#fdca26\"],[1.0,\"#f0f921\"]],\"diverging\":[[0,\"#8e0152\"],[0.1,\"#c51b7d\"],[0.2,\"#de77ae\"],[0.3,\"#f1b6da\"],[0.4,\"#fde0ef\"],[0.5,\"#f7f7f7\"],[0.6,\"#e6f5d0\"],[0.7,\"#b8e186\"],[0.8,\"#7fbc41\"],[0.9,\"#4d9221\"],[1,\"#276419\"]]},\"xaxis\":{\"gridcolor\":\"white\",\"linecolor\":\"white\",\"ticks\":\"\",\"title\":{\"standoff\":15},\"zerolinecolor\":\"white\",\"automargin\":true,\"zerolinewidth\":2},\"yaxis\":{\"gridcolor\":\"white\",\"linecolor\":\"white\",\"ticks\":\"\",\"title\":{\"standoff\":15},\"zerolinecolor\":\"white\",\"automargin\":true,\"zerolinewidth\":2},\"scene\":{\"xaxis\":{\"backgroundcolor\":\"#E5ECF6\",\"gridcolor\":\"white\",\"linecolor\":\"white\",\"showbackground\":true,\"ticks\":\"\",\"zerolinecolor\":\"white\",\"gridwidth\":2},\"yaxis\":{\"backgroundcolor\":\"#E5ECF6\",\"gridcolor\":\"white\",\"linecolor\":\"white\",\"showbackground\":true,\"ticks\":\"\",\"zerolinecolor\":\"white\",\"gridwidth\":2},\"zaxis\":{\"backgroundcolor\":\"#E5ECF6\",\"gridcolor\":\"white\",\"linecolor\":\"white\",\"showbackground\":true,\"ticks\":\"\",\"zerolinecolor\":\"white\",\"gridwidth\":2}},\"shapedefaults\":{\"line\":{\"color\":\"#2a3f5f\"}},\"annotationdefaults\":{\"arrowcolor\":\"#2a3f5f\",\"arrowhead\":0,\"arrowwidth\":1},\"geo\":{\"bgcolor\":\"white\",\"landcolor\":\"#E5ECF6\",\"subunitcolor\":\"white\",\"showland\":true,\"showlakes\":true,\"lakecolor\":\"white\"},\"title\":{\"x\":0.05},\"mapbox\":{\"style\":\"light\"}}},\"xaxis\":{\"anchor\":\"y\",\"domain\":[0.0,1.0],\"title\":{\"text\":\"index\"}},\"yaxis\":{\"anchor\":\"x\",\"domain\":[0.0,1.0],\"title\":{\"text\":\"value\"}},\"legend\":{\"title\":{\"text\":\"variable\"},\"tracegroupgap\":0},\"title\":{\"text\":\"SAE Training Loss\"}},                        {\"responsive\": true}                    ).then(function(){\n",
       "                            \n",
       "var gd = document.getElementById('4fcdf70f-e067-4f06-9352-51e6474b12c5');\n",
       "var x = new MutationObserver(function (mutations, observer) {{\n",
       "        var display = window.getComputedStyle(gd).display;\n",
       "        if (!display || display === 'none') {{\n",
       "            console.log([gd, 'removed!']);\n",
       "            Plotly.purge(gd);\n",
       "            observer.disconnect();\n",
       "        }}\n",
       "}});\n",
       "\n",
       "// Listen for the removal of the full notebook cells\n",
       "var notebookContainer = gd.closest('#notebook-container');\n",
       "if (notebookContainer) {{\n",
       "    x.observe(notebookContainer, {childList: true});\n",
       "}}\n",
       "\n",
       "// Listen for the clearing of the current output cell\n",
       "var outputEl = gd.closest('.output');\n",
       "if (outputEl) {{\n",
       "    x.observe(outputEl, {childList: true});\n",
       "}}\n",
       "\n",
       "                        })                };                });            </script>        </div>"
      ]
     },
     "metadata": {},
     "output_type": "display_data"
    }
   ],
   "source": [
    "fig = px.line(sae_train_losses, title='SAE Training Loss')\n",
    "fig.show()"
   ]
  },
  {
   "cell_type": "code",
   "execution_count": null,
   "metadata": {},
   "outputs": [],
   "source": [
    "sample_text = ds['train']['text'][0]"
   ]
  }
 ],
 "metadata": {
  "kernelspec": {
   "display_name": "alignment",
   "language": "python",
   "name": "python3"
  },
  "language_info": {
   "codemirror_mode": {
    "name": "ipython",
    "version": 3
   },
   "file_extension": ".py",
   "mimetype": "text/x-python",
   "name": "python",
   "nbconvert_exporter": "python",
   "pygments_lexer": "ipython3",
   "version": "3.11.9"
  }
 },
 "nbformat": 4,
 "nbformat_minor": 2
}
