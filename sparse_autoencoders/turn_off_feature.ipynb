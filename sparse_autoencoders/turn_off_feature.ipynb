{
 "cells": [
  {
   "cell_type": "code",
   "execution_count": 3,
   "metadata": {},
   "outputs": [
    {
     "name": "stderr",
     "output_type": "stream",
     "text": [
      "`config.hidden_act` is ignored, you should use `config.hidden_activation` instead.\n",
      "Gemma's activation function will be set to `gelu_pytorch_tanh`. Please, use\n",
      "`config.hidden_activation` if you want to override this behaviour.\n",
      "See https://github.com/huggingface/transformers/pull/29402 for more details.\n"
     ]
    },
    {
     "name": "stdout",
     "output_type": "stream",
     "text": [
      "cuda:0\n"
     ]
    },
    {
     "data": {
      "application/vnd.jupyter.widget-view+json": {
       "model_id": "92a9c9ba79064f0192dbed2b957e3963",
       "version_major": 2,
       "version_minor": 0
      },
      "text/plain": [
       "Loading checkpoint shards:   0%|          | 0/2 [00:00<?, ?it/s]"
      ]
     },
     "metadata": {},
     "output_type": "display_data"
    },
    {
     "name": "stderr",
     "output_type": "stream",
     "text": [
      "WARNING:root:You are not using LayerNorm, so the writing weights can't be centered! Skipping\n"
     ]
    },
    {
     "name": "stdout",
     "output_type": "stream",
     "text": [
      "Loaded pretrained model gemma-2b into HookedTransformer\n",
      "Moving model to device:  cuda:0\n",
      "DonE! Happy InterpreTING!!\n"
     ]
    }
   ],
   "source": [
    "from datasets import load_dataset  \n",
    "from transformer_lens import HookedTransformer\n",
    "from sae_lens import SAE\n",
    "import torch\n",
    "import torch.nn as nn\n",
    "import torch.optim as optim\n",
    "import torch.nn.functional as F\n",
    "import einops\n",
    "import pandas as pd\n",
    "import plotly.express as px\n",
    "import plotly.graph_objects as go\n",
    "device = \"cuda:0\" if torch.cuda.is_available() else \"cpu\"\n",
    "print(f'{device}')\n",
    "model = HookedTransformer.from_pretrained('gemma-2b', device=device)\n",
    "model.to(device)\n",
    "print('DonE! Happy InterpreTING!!')"
   ]
  },
  {
   "cell_type": "code",
   "execution_count": 5,
   "metadata": {},
   "outputs": [],
   "source": [
    "from transformer_lens.utils import tokenize_and_concatenate\n",
    "\n",
    "dataset = load_dataset(\n",
    "    path = \"NeelNanda/pile-10k\",\n",
    "    split=\"train\",\n",
    "    streaming=False,\n",
    ")"
   ]
  },
  {
   "cell_type": "code",
   "execution_count": 6,
   "metadata": {},
   "outputs": [
    {
     "data": {
      "text/plain": [
       "'This application is based upon and claims the benefit of priority from the prior Japanese Patent Application No. 2000-159163, filed Mar. 31, 2000, the entire contents of which are incorporated herein by reference.\\nThe present invention relates to a method of forming a composite member, in which a conductive portion is formed in an insulator, the composite member being used in, for example, a wiring board in the fields of electric appliances, electronic appliances and electric and electronic communication. The present invention also relates to a photosensitive composition and an insulating material that can be suitably used in the manufacturing method of the composite member. Further, the present invention relates to a composite member manufactured by the manufacturing method of the present invention and to a multi-layer wiring board and an electronic package including the particular composite member.\\nIn recent years, increase in the degree of integration and miniaturization of various electric and electronic parts including a semiconductor device are being promoted. The particular tendency will be further promoted in the future without fail. In this connection, various measures are being proposed and tried in an attempt to apply a high density mounting to a printed circuit board including formation of a fine pattern and a fine pitch of a metal wiring and formation of a steric wiring.\\nParticularly, the steric wiring is indispensable to a high density mounting and, thus, various methods are being proposed in an attempt to manufacture a wiring board having a steric wiring. In general, the steric wirings are of a multi-layered structure such as a built-up wiring board prepared by laminating two dimensional printed wiring boards and a multi-layered wiring board. It is difficult to form a steric wiring having a free three dimensional shape. The built-up wiring board or the multi-layered wiring board has a structure that adjacent wiring layers are connected to each other by a conductive column called via. The via is formed by processing an insulating layer by a photolithography process using a photosensitive polyimide or resist, followed by selectively applying a plating to the via or by filling the via with a conductive paste. For forming a via by such a method, it is necessary to repeat a plurality of times the steps of resist coating, light exposure and etching, making the via formation highly laborious. In addition, it is difficult to improve the yield.\\nIt is also possible to form the via by forming a through-hole (via hole) of a predetermined size in an insulating substrate constituting a printed wiring board by using a drill or a CO2 laser, followed by applying plating to the via hole or by filling the via hole with a conductive paste. In these methods, however, it is difficult to form freely a fine via having a size of scores of microns or less at a desired position.\\nIn the method disclosed in Japanese Patent Disclosure No. 7-207450, a compound having a hydrophilic group is introduced into pores of three dimensional porous film such as a PTFE film. Under this condition, the film is subjected to a light exposure in a predetermined pattern by using a low pressure mercury lamp (wave lengths of 185 nm and 254 nm), thereby forming the hydrophilic group on the three dimensional porous film. Further, a metal plating is applied to the three dimensional porous film.\\nIn the conventional method described above, however, the material forming the three dimensional porous film is deteriorated because a light beam having a short wavelength is used for the light exposure. Also, the light for the light exposure is absorbed by the three dimensional porous film and, thus, fails to reach the inner region of the porous body, resulting in failure to form fine vias.\\nFurther, in the conventional method described above, the PTFE forming the three dimensional porous film reacts with the light for the light exposure so as to selectively form hydrophilic groups. However, PTFE is defective in that the molding workability is low and that PTFE is costly.\\nAnother method of forming a via is disclosed in Japanese Patent Disclosure No. 11-24977. In this method, the entire surface of a porous insulating member is impregnated with a photosensitive composition containing, for example, a photosensitive reducing agent and a metal salt. Then, a light exposure is applied in a predetermined pattern to the impregnated insulating member so as to reduce the cation of the metal salt in the light exposed portion to a metal nucleus, followed by removing by washing the photosensitive composition in the non-light exposed portion. Further, an electroless plating or a soldering is applied to the residual metal nuclei so as to form vias of a predetermined pattern.\\nIn the method described above, however, the entire surface of the porous insulating member is impregnated with a photosensitive composition containing a metal salt as described above, making it difficult to remove completely the metal salt adsorbed on the portion corresponding to the non-exposed portion after the light exposure step. As a result, a difficulty is brought about that the metal nuclei are precipitated on undesired portions in the subsequent reducing step. Such an abnormal deposition of the metal nuclei gives rise to a problem in terms of the insulating properties between adjacent vias and between adjacent wiring layers with progress in the fine pulverization of the pattern.\\nAlso, in the via formed in the insulating substrate by the conventional method of manufacturing a wiring board, the insulating body and the conductive portion are brought into a direct contact. In this case, since the adhesion between the insulating body and the conductive portion is poor, a problem is generated that the conductive portion is peeled off the insulating substrate during the use.\\nFurther, where a multi-layered wiring board is prepared by laminating a plurality of wiring boards manufactured by the conventional method of manufacturing a wiring board, it is required to further improve the electrical connection between the wiring layers of the wiring boards and the conductivity of the wiring.\\nAn object of the present invention is to provide a method of manufacturing a composite member, which has a high degree of freedom in the design of a conductive circuit, in which deterioration of the insulating body is not brought about by the light exposure, and which is free from an abnormal deposition of a metal on the insulating body so as to form a conductive portion having a fine pattern.\\nAnother object of the present invention is to provide a method of manufacturing a composite member, which has a high degree of freedom in the design of a conductive circuit, which permits manufacturing a composite member at a low manufacturing cost without giving adverse effects to the selectivity of the material of the insulating portion and to the molding workability, and which is free from an abnormal deposition of a metal on the insulating body so as to form a conductive portion having a fine pattern.\\nAnother object of the present invention is to provide a photosensitive composition and an insulating material used for the manufacturing method of a composite member described above.\\nAnother object of the present invention is to provide a composite member manufactured by the method described above.\\nAnother object of the present invention is to provide a multi-layered wiring board comprising a composite member manufactured by the method described above.\\nStill another object of the present invention is to provide an electronic package using a composite member or a multi-layered wiring board manufactured by the method described above.\\nAccording to a first aspect of the present invention, there is provided a method of manufacturing a composite member in which a conductive portion is selectively formed in an insulating body, comprising:\\n(1) forming a photosensitive composition layer within or on the surface of said insulating body, said photosensitive composition containing a compound forming an ion-exchange group upon irradiation with light having a wavelength not shorter than 280 nm;\\n(2) exposing selectively the photosensitive composition layer to light having a wavelength not shorter than 280 nm so as to form ion-exchange groups in the light exposed portion; and\\n(3) forming the conductive portion by bonding a metal ion or metal to the ion-exchange group formed in the light exposed portion by the exposing.\\nAccording to a second aspect of the present invention, there is provided a method of manufacturing a composite member in which a conductive portion is selectively formed in an insulating body, comprising:\\n(1) forming a photosensitive composition layer within or on the surface of said insulating body, said photosensitive composition containing a compound having an ion-exchange group;\\n(2) exposing selectively the photosensitive composition layer to light having a wavelength not shorter than 280 nm so as to cause ion-exchange groups in the light exposed portion to disappear and to cause the ion-exchange groups to remain in the unexposed portion; and\\n(3) forming the conductive portion by bonding a metal ion or metal to be bonded to the ion-exchange group remaining in the unexposed portion after the exposing.\\nAccording to a third aspect of the present invention, there is provided a method of manufacturing a composite member in which a conductive portion is selectively formed in an insulating body, comprising:\\n(1) forming a photosensitive composition layer within or on the surface of said insulating body, said photosensitive composition containing a compound forming an ion-exchange group upon irradiation with light, and said compound being selected from the group consisting of an onium salt derivative, a sulfonium ester derivative, a carboxylic acid derivative and a naphthoquinone diazide derivative;\\n(2) exposing selectively the photosensitive composition layer to light so as to form ion-exchange groups in the light exposed portion; and\\n(3) forming the conductive portion by bonding a metal ion or metal to the ion-exchange group formed in the light exposed portion by the exposing.\\nAccording to a fourth aspect of the present invention, there is provided a method of manufacturing a composite member in which a conductive portion is selectively formed in an insulating body, comprising:\\n(1) forming a photosensitive composition layer within or on the surface of said insulating body, said photosensitive composition containing a compound having an ion-exchange group;\\n(2) exposing selectively the photosensitive composition layer to light so as to cause ion-exchange groups in the light exposed portion to disappear and to cause the ion-exchange groups to remain in the unexposed portion; and\\n(3) forming the conductive portion by bonding a metal ion or metal to the ion-exchange group remaining in the unexposed portion after the light exposure in a pattern.\\nAccording to a further aspect of the present invention, there is provided a method of manufacturing a composite member in which a conductive portion is selectively formed in an insulating body, comprising:\\n(1) forming a photosensitive composition layer within or on the surface of said insulating body, said photosensitive composition containing a compound forming an ion-exchange group in the presence of acid and a photo acid generating agent;\\n(2) exposing selectively to light and heating the photosensitive composition layer so as to form ion-exchange group in the light exposed portion; and\\n(3) forming the conductive portion by bonding a metal ion or metal to the ion-exchange group formed in the light exposed portion by the exposing.\\nIt is desirable for the method of the present invention to further comprise the step of applying an electroless plating to the surface of the conductive portion formed in the third step.\\nAccording to another embodiment of the present invention, there is provided a photosensitive composition used for manufacturing a composite member, the composition containing a naphthoquinone diazide derivative and a polycarbodiimide derivative.\\nAccording to another embodiment of the present invention, there is provided a porous insulating body having the inner surface of the pore covered with a photosensitive composition containing a naphthoquinone diazide derivative.\\nAccording to another embodiment of the present invention, there is provided a composite member having a conductive portion formed on at least one of the surface and the inner region of a porous insulating body via an organic compound, wherein the amount of the organic compound, which is present between the insulating body and the conductive portion, per unit area of the surface of the insulating body is larger than the amount of the organic compound that is not in contact with the conductive portion.\\nAccording to another embodiment of the present invention, there is provided a multi-layered wiring board including a plurality of substrates that are laminated one upon the other, wherein the substrate comprises a porous insulating body having fine pores and a conductive portion formed on at least one of the surface and the inner region of the fine pore of the porous insulating body, and a layer formed of a conductive body that does not contain the component of the insulating body is formed on the outermost surface of the conductive portion of each substrate.\\nFurther, according to still another embodiment of the present invention, there is provided an electronic package comprising a wiring board consisting of the composite body described above or a multi-layered wiring board described above and an electronic part electrically connected to the wiring board.'"
      ]
     },
     "execution_count": 6,
     "metadata": {},
     "output_type": "execute_result"
    }
   ],
   "source": [
    "dataset['text'][45]"
   ]
  },
  {
   "cell_type": "code",
   "execution_count": 7,
   "metadata": {},
   "outputs": [],
   "source": [
    "import tqdm"
   ]
  },
  {
   "cell_type": "code",
   "execution_count": 8,
   "metadata": {},
   "outputs": [
    {
     "name": "stderr",
     "output_type": "stream",
     "text": [
      "  0%|          | 0/500 [00:00<?, ?it/s]"
     ]
    },
    {
     "name": "stderr",
     "output_type": "stream",
     "text": [
      "100%|██████████| 500/500 [00:18<00:00, 27.65it/s]\n"
     ]
    }
   ],
   "source": [
    "batch_str = []\n",
    "for i in tqdm.trange(len(dataset['text'][:500])):\n",
    "    batch_str.append(dataset['text'][i][:128])\n",
    "\n",
    "name = 'blocks.3.hook_resid_post'"
   ]
  },
  {
   "cell_type": "code",
   "execution_count": 9,
   "metadata": {},
   "outputs": [
    {
     "data": {
      "text/plain": [
       "'Cast metal bases as an economical alternative for the severely resorbed mandible.\\nResorption of the alveolar ridge is a common p'"
      ]
     },
     "execution_count": 9,
     "metadata": {},
     "output_type": "execute_result"
    }
   ],
   "source": [
    "batch_str[423]"
   ]
  },
  {
   "cell_type": "code",
   "execution_count": 10,
   "metadata": {},
   "outputs": [],
   "source": [
    "def activation_filter(name: str) -> bool:\n",
    "    return name.endswith('blocks.3.hook_resid_post')"
   ]
  },
  {
   "cell_type": "code",
   "execution_count": 11,
   "metadata": {},
   "outputs": [],
   "source": [
    "from sae_lens import SAE\n",
    "\n",
    "sae, cfg_dict, sparsity = SAE.from_pretrained(\n",
    "    release = 'gemma-2b-res-jb',\n",
    "    sae_id = 'blocks.6.hook_resid_post',\n",
    "    device = device\n",
    ")"
   ]
  },
  {
   "cell_type": "code",
   "execution_count": 12,
   "metadata": {},
   "outputs": [
    {
     "data": {
      "text/plain": [
       "torch.Size([16384, 2048])"
      ]
     },
     "execution_count": 12,
     "metadata": {},
     "output_type": "execute_result"
    }
   ],
   "source": [
    "sae.W_dec.shape"
   ]
  },
  {
   "cell_type": "code",
   "execution_count": 13,
   "metadata": {},
   "outputs": [],
   "source": [
    "num_features = 10\n",
    "feature_dim = model.cfg.d_model\n",
    "# features = torch.randn(num_features, feature_dim).to(device)\n",
    "# take features from rows of the decoder\n",
    "features = sae.W_dec[:num_features].to(device)\n",
    "features = F.normalize(features, p=2, dim=-1)"
   ]
  },
  {
   "cell_type": "code",
   "execution_count": 14,
   "metadata": {},
   "outputs": [
    {
     "data": {
      "text/plain": [
       "torch.Size([10, 2048])"
      ]
     },
     "execution_count": 14,
     "metadata": {},
     "output_type": "execute_result"
    }
   ],
   "source": [
    "features.shape"
   ]
  },
  {
   "cell_type": "code",
   "execution_count": 12,
   "metadata": {},
   "outputs": [],
   "source": [
    "def activation_turn_off(activations, hook, idx=1):\n",
    "    global features\n",
    "    direction = features[idx]\n",
    "    activations = activations.clone()\n",
    "    component = activations @ direction\n",
    "    activations = activations - component[:, :, None] * direction[None, None, :]\n",
    "    return activations"
   ]
  },
  {
   "cell_type": "code",
   "execution_count": 13,
   "metadata": {},
   "outputs": [],
   "source": [
    "def entropy(probs):\n",
    "    eps = 1e-8\n",
    "    return -torch.sum(probs * torch.log(probs + eps), dim=-1)"
   ]
  },
  {
   "cell_type": "code",
   "execution_count": 14,
   "metadata": {},
   "outputs": [],
   "source": [
    "torch.cuda.empty_cache()"
   ]
  },
  {
   "cell_type": "code",
   "execution_count": 15,
   "metadata": {},
   "outputs": [
    {
     "name": "stderr",
     "output_type": "stream",
     "text": [
      "100%|██████████| 63/63 [00:26<00:00,  2.34it/s]\n",
      "100%|██████████| 63/63 [00:25<00:00,  2.51it/s]\n",
      "100%|██████████| 63/63 [00:25<00:00,  2.49it/s]\n",
      "100%|██████████| 63/63 [00:25<00:00,  2.52it/s]\n",
      "100%|██████████| 63/63 [00:25<00:00,  2.49it/s]\n",
      "100%|██████████| 63/63 [00:25<00:00,  2.50it/s]\n",
      "100%|██████████| 63/63 [00:25<00:00,  2.52it/s]\n",
      "100%|██████████| 63/63 [00:25<00:00,  2.48it/s]\n",
      "100%|██████████| 63/63 [00:25<00:00,  2.46it/s]\n",
      "100%|██████████| 63/63 [00:25<00:00,  2.47it/s]\n",
      "100%|██████████| 10/10 [04:14<00:00, 25.47s/it]\n"
     ]
    }
   ],
   "source": [
    "batch_size = 8\n",
    "information_gains = [0 for _ in range(num_features)]\n",
    "\n",
    "for feature_idx in tqdm.trange(num_features):\n",
    "    for i in tqdm.trange(0, len(batch_str), batch_size):\n",
    "        str_batch = batch_str[i:i + batch_size]\n",
    "        model.reset_hooks()\n",
    "        logits = model.run_with_hooks(str_batch, return_type='logits')\n",
    "        probs = F.softmax(logits, dim=-1)[:, :, :]\n",
    "        entropies_before = entropy(probs)\n",
    "        torch.cuda.empty_cache()\n",
    "        logits_after = model.run_with_hooks(str_batch, return_type='logits', fwd_hooks=[(\n",
    "            activation_filter,\n",
    "            lambda x, hook: activation_turn_off(x, hook, idx=feature_idx)\n",
    "            )])\n",
    "        probs_after = F.softmax(logits_after, dim=-1)[:, :, :]\n",
    "        entropies_after = entropy(probs_after)\n",
    "        torch.cuda.empty_cache()\n",
    "        diff_entropies = entropies_before - entropies_after\n",
    "        feature_importance = - diff_entropies.sum()\n",
    "        information_gains[feature_idx] += feature_importance.item()\n",
    "        torch.cuda.empty_cache()"
   ]
  },
  {
   "cell_type": "code",
   "execution_count": 22,
   "metadata": {},
   "outputs": [],
   "source": [
    "# normalize information gains\n",
    "information_gains_ = [ig / len(batch_str) for ig in information_gains]"
   ]
  },
  {
   "cell_type": "code",
   "execution_count": 24,
   "metadata": {},
   "outputs": [],
   "source": [
    "# store them in a txt file\n",
    "with open('information_gains.txt', 'w') as f:\n",
    "    for ig in information_gains_:\n",
    "        f.write(f'{ig}\\n')"
   ]
  },
  {
   "cell_type": "code",
   "execution_count": 1,
   "metadata": {},
   "outputs": [],
   "source": [
    "# load them up\n",
    "information_gains_ = []\n",
    "with open('information_gains.txt', 'r') as f:\n",
    "    for line in f:\n",
    "        information_gains_.append(float(line))"
   ]
  },
  {
   "cell_type": "code",
   "execution_count": 23,
   "metadata": {},
   "outputs": [
    {
     "data": {
      "application/vnd.plotly.v1+json": {
       "config": {
        "plotlyServerURL": "https://plot.ly"
       },
       "data": [
        {
         "marker": {
          "color": "DarkRed"
         },
         "type": "bar",
         "x": [
          "#0",
          "#1",
          "#2",
          "#3",
          "#4",
          "#5",
          "#6",
          "#7",
          "#8",
          "#9"
         ],
         "y": [
          -3.012960411071777,
          10.736048076629638,
          4.947459966659546,
          27.929177574157716,
          -6.066434889316559,
          -36.87194172668457,
          3.103033676147461,
          69.1261053466797,
          -15.051044687271117,
          0.20636934351921082
         ]
        }
       ],
       "layout": {
        "height": 500,
        "plot_bgcolor": "white",
        "template": {
         "data": {
          "bar": [
           {
            "error_x": {
             "color": "#2a3f5f"
            },
            "error_y": {
             "color": "#2a3f5f"
            },
            "marker": {
             "line": {
              "color": "#E5ECF6",
              "width": 0.5
             },
             "pattern": {
              "fillmode": "overlay",
              "size": 10,
              "solidity": 0.2
             }
            },
            "type": "bar"
           }
          ],
          "barpolar": [
           {
            "marker": {
             "line": {
              "color": "#E5ECF6",
              "width": 0.5
             },
             "pattern": {
              "fillmode": "overlay",
              "size": 10,
              "solidity": 0.2
             }
            },
            "type": "barpolar"
           }
          ],
          "carpet": [
           {
            "aaxis": {
             "endlinecolor": "#2a3f5f",
             "gridcolor": "white",
             "linecolor": "white",
             "minorgridcolor": "white",
             "startlinecolor": "#2a3f5f"
            },
            "baxis": {
             "endlinecolor": "#2a3f5f",
             "gridcolor": "white",
             "linecolor": "white",
             "minorgridcolor": "white",
             "startlinecolor": "#2a3f5f"
            },
            "type": "carpet"
           }
          ],
          "choropleth": [
           {
            "colorbar": {
             "outlinewidth": 0,
             "ticks": ""
            },
            "type": "choropleth"
           }
          ],
          "contour": [
           {
            "colorbar": {
             "outlinewidth": 0,
             "ticks": ""
            },
            "colorscale": [
             [
              0,
              "#0d0887"
             ],
             [
              0.1111111111111111,
              "#46039f"
             ],
             [
              0.2222222222222222,
              "#7201a8"
             ],
             [
              0.3333333333333333,
              "#9c179e"
             ],
             [
              0.4444444444444444,
              "#bd3786"
             ],
             [
              0.5555555555555556,
              "#d8576b"
             ],
             [
              0.6666666666666666,
              "#ed7953"
             ],
             [
              0.7777777777777778,
              "#fb9f3a"
             ],
             [
              0.8888888888888888,
              "#fdca26"
             ],
             [
              1,
              "#f0f921"
             ]
            ],
            "type": "contour"
           }
          ],
          "contourcarpet": [
           {
            "colorbar": {
             "outlinewidth": 0,
             "ticks": ""
            },
            "type": "contourcarpet"
           }
          ],
          "heatmap": [
           {
            "colorbar": {
             "outlinewidth": 0,
             "ticks": ""
            },
            "colorscale": [
             [
              0,
              "#0d0887"
             ],
             [
              0.1111111111111111,
              "#46039f"
             ],
             [
              0.2222222222222222,
              "#7201a8"
             ],
             [
              0.3333333333333333,
              "#9c179e"
             ],
             [
              0.4444444444444444,
              "#bd3786"
             ],
             [
              0.5555555555555556,
              "#d8576b"
             ],
             [
              0.6666666666666666,
              "#ed7953"
             ],
             [
              0.7777777777777778,
              "#fb9f3a"
             ],
             [
              0.8888888888888888,
              "#fdca26"
             ],
             [
              1,
              "#f0f921"
             ]
            ],
            "type": "heatmap"
           }
          ],
          "heatmapgl": [
           {
            "colorbar": {
             "outlinewidth": 0,
             "ticks": ""
            },
            "colorscale": [
             [
              0,
              "#0d0887"
             ],
             [
              0.1111111111111111,
              "#46039f"
             ],
             [
              0.2222222222222222,
              "#7201a8"
             ],
             [
              0.3333333333333333,
              "#9c179e"
             ],
             [
              0.4444444444444444,
              "#bd3786"
             ],
             [
              0.5555555555555556,
              "#d8576b"
             ],
             [
              0.6666666666666666,
              "#ed7953"
             ],
             [
              0.7777777777777778,
              "#fb9f3a"
             ],
             [
              0.8888888888888888,
              "#fdca26"
             ],
             [
              1,
              "#f0f921"
             ]
            ],
            "type": "heatmapgl"
           }
          ],
          "histogram": [
           {
            "marker": {
             "pattern": {
              "fillmode": "overlay",
              "size": 10,
              "solidity": 0.2
             }
            },
            "type": "histogram"
           }
          ],
          "histogram2d": [
           {
            "colorbar": {
             "outlinewidth": 0,
             "ticks": ""
            },
            "colorscale": [
             [
              0,
              "#0d0887"
             ],
             [
              0.1111111111111111,
              "#46039f"
             ],
             [
              0.2222222222222222,
              "#7201a8"
             ],
             [
              0.3333333333333333,
              "#9c179e"
             ],
             [
              0.4444444444444444,
              "#bd3786"
             ],
             [
              0.5555555555555556,
              "#d8576b"
             ],
             [
              0.6666666666666666,
              "#ed7953"
             ],
             [
              0.7777777777777778,
              "#fb9f3a"
             ],
             [
              0.8888888888888888,
              "#fdca26"
             ],
             [
              1,
              "#f0f921"
             ]
            ],
            "type": "histogram2d"
           }
          ],
          "histogram2dcontour": [
           {
            "colorbar": {
             "outlinewidth": 0,
             "ticks": ""
            },
            "colorscale": [
             [
              0,
              "#0d0887"
             ],
             [
              0.1111111111111111,
              "#46039f"
             ],
             [
              0.2222222222222222,
              "#7201a8"
             ],
             [
              0.3333333333333333,
              "#9c179e"
             ],
             [
              0.4444444444444444,
              "#bd3786"
             ],
             [
              0.5555555555555556,
              "#d8576b"
             ],
             [
              0.6666666666666666,
              "#ed7953"
             ],
             [
              0.7777777777777778,
              "#fb9f3a"
             ],
             [
              0.8888888888888888,
              "#fdca26"
             ],
             [
              1,
              "#f0f921"
             ]
            ],
            "type": "histogram2dcontour"
           }
          ],
          "mesh3d": [
           {
            "colorbar": {
             "outlinewidth": 0,
             "ticks": ""
            },
            "type": "mesh3d"
           }
          ],
          "parcoords": [
           {
            "line": {
             "colorbar": {
              "outlinewidth": 0,
              "ticks": ""
             }
            },
            "type": "parcoords"
           }
          ],
          "pie": [
           {
            "automargin": true,
            "type": "pie"
           }
          ],
          "scatter": [
           {
            "fillpattern": {
             "fillmode": "overlay",
             "size": 10,
             "solidity": 0.2
            },
            "type": "scatter"
           }
          ],
          "scatter3d": [
           {
            "line": {
             "colorbar": {
              "outlinewidth": 0,
              "ticks": ""
             }
            },
            "marker": {
             "colorbar": {
              "outlinewidth": 0,
              "ticks": ""
             }
            },
            "type": "scatter3d"
           }
          ],
          "scattercarpet": [
           {
            "marker": {
             "colorbar": {
              "outlinewidth": 0,
              "ticks": ""
             }
            },
            "type": "scattercarpet"
           }
          ],
          "scattergeo": [
           {
            "marker": {
             "colorbar": {
              "outlinewidth": 0,
              "ticks": ""
             }
            },
            "type": "scattergeo"
           }
          ],
          "scattergl": [
           {
            "marker": {
             "colorbar": {
              "outlinewidth": 0,
              "ticks": ""
             }
            },
            "type": "scattergl"
           }
          ],
          "scattermapbox": [
           {
            "marker": {
             "colorbar": {
              "outlinewidth": 0,
              "ticks": ""
             }
            },
            "type": "scattermapbox"
           }
          ],
          "scatterpolar": [
           {
            "marker": {
             "colorbar": {
              "outlinewidth": 0,
              "ticks": ""
             }
            },
            "type": "scatterpolar"
           }
          ],
          "scatterpolargl": [
           {
            "marker": {
             "colorbar": {
              "outlinewidth": 0,
              "ticks": ""
             }
            },
            "type": "scatterpolargl"
           }
          ],
          "scatterternary": [
           {
            "marker": {
             "colorbar": {
              "outlinewidth": 0,
              "ticks": ""
             }
            },
            "type": "scatterternary"
           }
          ],
          "surface": [
           {
            "colorbar": {
             "outlinewidth": 0,
             "ticks": ""
            },
            "colorscale": [
             [
              0,
              "#0d0887"
             ],
             [
              0.1111111111111111,
              "#46039f"
             ],
             [
              0.2222222222222222,
              "#7201a8"
             ],
             [
              0.3333333333333333,
              "#9c179e"
             ],
             [
              0.4444444444444444,
              "#bd3786"
             ],
             [
              0.5555555555555556,
              "#d8576b"
             ],
             [
              0.6666666666666666,
              "#ed7953"
             ],
             [
              0.7777777777777778,
              "#fb9f3a"
             ],
             [
              0.8888888888888888,
              "#fdca26"
             ],
             [
              1,
              "#f0f921"
             ]
            ],
            "type": "surface"
           }
          ],
          "table": [
           {
            "cells": {
             "fill": {
              "color": "#EBF0F8"
             },
             "line": {
              "color": "white"
             }
            },
            "header": {
             "fill": {
              "color": "#C8D4E3"
             },
             "line": {
              "color": "white"
             }
            },
            "type": "table"
           }
          ]
         },
         "layout": {
          "annotationdefaults": {
           "arrowcolor": "#2a3f5f",
           "arrowhead": 0,
           "arrowwidth": 1
          },
          "autotypenumbers": "strict",
          "coloraxis": {
           "colorbar": {
            "outlinewidth": 0,
            "ticks": ""
           }
          },
          "colorscale": {
           "diverging": [
            [
             0,
             "#8e0152"
            ],
            [
             0.1,
             "#c51b7d"
            ],
            [
             0.2,
             "#de77ae"
            ],
            [
             0.3,
             "#f1b6da"
            ],
            [
             0.4,
             "#fde0ef"
            ],
            [
             0.5,
             "#f7f7f7"
            ],
            [
             0.6,
             "#e6f5d0"
            ],
            [
             0.7,
             "#b8e186"
            ],
            [
             0.8,
             "#7fbc41"
            ],
            [
             0.9,
             "#4d9221"
            ],
            [
             1,
             "#276419"
            ]
           ],
           "sequential": [
            [
             0,
             "#0d0887"
            ],
            [
             0.1111111111111111,
             "#46039f"
            ],
            [
             0.2222222222222222,
             "#7201a8"
            ],
            [
             0.3333333333333333,
             "#9c179e"
            ],
            [
             0.4444444444444444,
             "#bd3786"
            ],
            [
             0.5555555555555556,
             "#d8576b"
            ],
            [
             0.6666666666666666,
             "#ed7953"
            ],
            [
             0.7777777777777778,
             "#fb9f3a"
            ],
            [
             0.8888888888888888,
             "#fdca26"
            ],
            [
             1,
             "#f0f921"
            ]
           ],
           "sequentialminus": [
            [
             0,
             "#0d0887"
            ],
            [
             0.1111111111111111,
             "#46039f"
            ],
            [
             0.2222222222222222,
             "#7201a8"
            ],
            [
             0.3333333333333333,
             "#9c179e"
            ],
            [
             0.4444444444444444,
             "#bd3786"
            ],
            [
             0.5555555555555556,
             "#d8576b"
            ],
            [
             0.6666666666666666,
             "#ed7953"
            ],
            [
             0.7777777777777778,
             "#fb9f3a"
            ],
            [
             0.8888888888888888,
             "#fdca26"
            ],
            [
             1,
             "#f0f921"
            ]
           ]
          },
          "colorway": [
           "#636efa",
           "#EF553B",
           "#00cc96",
           "#ab63fa",
           "#FFA15A",
           "#19d3f3",
           "#FF6692",
           "#B6E880",
           "#FF97FF",
           "#FECB52"
          ],
          "font": {
           "color": "#2a3f5f"
          },
          "geo": {
           "bgcolor": "white",
           "lakecolor": "white",
           "landcolor": "#E5ECF6",
           "showlakes": true,
           "showland": true,
           "subunitcolor": "white"
          },
          "hoverlabel": {
           "align": "left"
          },
          "hovermode": "closest",
          "mapbox": {
           "style": "light"
          },
          "paper_bgcolor": "white",
          "plot_bgcolor": "#E5ECF6",
          "polar": {
           "angularaxis": {
            "gridcolor": "white",
            "linecolor": "white",
            "ticks": ""
           },
           "bgcolor": "#E5ECF6",
           "radialaxis": {
            "gridcolor": "white",
            "linecolor": "white",
            "ticks": ""
           }
          },
          "scene": {
           "xaxis": {
            "backgroundcolor": "#E5ECF6",
            "gridcolor": "white",
            "gridwidth": 2,
            "linecolor": "white",
            "showbackground": true,
            "ticks": "",
            "zerolinecolor": "white"
           },
           "yaxis": {
            "backgroundcolor": "#E5ECF6",
            "gridcolor": "white",
            "gridwidth": 2,
            "linecolor": "white",
            "showbackground": true,
            "ticks": "",
            "zerolinecolor": "white"
           },
           "zaxis": {
            "backgroundcolor": "#E5ECF6",
            "gridcolor": "white",
            "gridwidth": 2,
            "linecolor": "white",
            "showbackground": true,
            "ticks": "",
            "zerolinecolor": "white"
           }
          },
          "shapedefaults": {
           "line": {
            "color": "#2a3f5f"
           }
          },
          "ternary": {
           "aaxis": {
            "gridcolor": "white",
            "linecolor": "white",
            "ticks": ""
           },
           "baxis": {
            "gridcolor": "white",
            "linecolor": "white",
            "ticks": ""
           },
           "bgcolor": "#E5ECF6",
           "caxis": {
            "gridcolor": "white",
            "linecolor": "white",
            "ticks": ""
           }
          },
          "title": {
           "x": 0.05
          },
          "xaxis": {
           "automargin": true,
           "gridcolor": "white",
           "linecolor": "white",
           "ticks": "",
           "title": {
            "standoff": 15
           },
           "zerolinecolor": "white",
           "zerolinewidth": 2
          },
          "yaxis": {
           "automargin": true,
           "gridcolor": "white",
           "linecolor": "white",
           "ticks": "",
           "title": {
            "standoff": 15
           },
           "zerolinecolor": "white",
           "zerolinewidth": 2
          }
         }
        },
        "title": {
         "text": "Information Gain from first 10 SAE features"
        },
        "width": 800,
        "xaxis": {
         "title": {
          "text": "Feature #"
         }
        },
        "yaxis": {
         "gridcolor": "DarkGray",
         "gridwidth": 2,
         "showgrid": true,
         "title": {
          "text": "Information Gain"
         },
         "zeroline": true,
         "zerolinecolor": "Black",
         "zerolinewidth": 2
        }
       }
      },
      "text/html": [
       "<div>                            <div id=\"f9dcd40f-f77f-40e9-8ad6-d3586ebcb727\" class=\"plotly-graph-div\" style=\"height:500px; width:800px;\"></div>            <script type=\"text/javascript\">                require([\"plotly\"], function(Plotly) {                    window.PLOTLYENV=window.PLOTLYENV || {};                                    if (document.getElementById(\"f9dcd40f-f77f-40e9-8ad6-d3586ebcb727\")) {                    Plotly.newPlot(                        \"f9dcd40f-f77f-40e9-8ad6-d3586ebcb727\",                        [{\"marker\":{\"color\":\"DarkRed\"},\"x\":[\"#0\",\"#1\",\"#2\",\"#3\",\"#4\",\"#5\",\"#6\",\"#7\",\"#8\",\"#9\"],\"y\":[-3.012960411071777,10.736048076629638,4.947459966659546,27.929177574157716,-6.066434889316559,-36.87194172668457,3.103033676147461,69.1261053466797,-15.051044687271117,0.20636934351921082],\"type\":\"bar\"}],                        {\"template\":{\"data\":{\"histogram2dcontour\":[{\"type\":\"histogram2dcontour\",\"colorbar\":{\"outlinewidth\":0,\"ticks\":\"\"},\"colorscale\":[[0.0,\"#0d0887\"],[0.1111111111111111,\"#46039f\"],[0.2222222222222222,\"#7201a8\"],[0.3333333333333333,\"#9c179e\"],[0.4444444444444444,\"#bd3786\"],[0.5555555555555556,\"#d8576b\"],[0.6666666666666666,\"#ed7953\"],[0.7777777777777778,\"#fb9f3a\"],[0.8888888888888888,\"#fdca26\"],[1.0,\"#f0f921\"]]}],\"choropleth\":[{\"type\":\"choropleth\",\"colorbar\":{\"outlinewidth\":0,\"ticks\":\"\"}}],\"histogram2d\":[{\"type\":\"histogram2d\",\"colorbar\":{\"outlinewidth\":0,\"ticks\":\"\"},\"colorscale\":[[0.0,\"#0d0887\"],[0.1111111111111111,\"#46039f\"],[0.2222222222222222,\"#7201a8\"],[0.3333333333333333,\"#9c179e\"],[0.4444444444444444,\"#bd3786\"],[0.5555555555555556,\"#d8576b\"],[0.6666666666666666,\"#ed7953\"],[0.7777777777777778,\"#fb9f3a\"],[0.8888888888888888,\"#fdca26\"],[1.0,\"#f0f921\"]]}],\"heatmap\":[{\"type\":\"heatmap\",\"colorbar\":{\"outlinewidth\":0,\"ticks\":\"\"},\"colorscale\":[[0.0,\"#0d0887\"],[0.1111111111111111,\"#46039f\"],[0.2222222222222222,\"#7201a8\"],[0.3333333333333333,\"#9c179e\"],[0.4444444444444444,\"#bd3786\"],[0.5555555555555556,\"#d8576b\"],[0.6666666666666666,\"#ed7953\"],[0.7777777777777778,\"#fb9f3a\"],[0.8888888888888888,\"#fdca26\"],[1.0,\"#f0f921\"]]}],\"heatmapgl\":[{\"type\":\"heatmapgl\",\"colorbar\":{\"outlinewidth\":0,\"ticks\":\"\"},\"colorscale\":[[0.0,\"#0d0887\"],[0.1111111111111111,\"#46039f\"],[0.2222222222222222,\"#7201a8\"],[0.3333333333333333,\"#9c179e\"],[0.4444444444444444,\"#bd3786\"],[0.5555555555555556,\"#d8576b\"],[0.6666666666666666,\"#ed7953\"],[0.7777777777777778,\"#fb9f3a\"],[0.8888888888888888,\"#fdca26\"],[1.0,\"#f0f921\"]]}],\"contourcarpet\":[{\"type\":\"contourcarpet\",\"colorbar\":{\"outlinewidth\":0,\"ticks\":\"\"}}],\"contour\":[{\"type\":\"contour\",\"colorbar\":{\"outlinewidth\":0,\"ticks\":\"\"},\"colorscale\":[[0.0,\"#0d0887\"],[0.1111111111111111,\"#46039f\"],[0.2222222222222222,\"#7201a8\"],[0.3333333333333333,\"#9c179e\"],[0.4444444444444444,\"#bd3786\"],[0.5555555555555556,\"#d8576b\"],[0.6666666666666666,\"#ed7953\"],[0.7777777777777778,\"#fb9f3a\"],[0.8888888888888888,\"#fdca26\"],[1.0,\"#f0f921\"]]}],\"surface\":[{\"type\":\"surface\",\"colorbar\":{\"outlinewidth\":0,\"ticks\":\"\"},\"colorscale\":[[0.0,\"#0d0887\"],[0.1111111111111111,\"#46039f\"],[0.2222222222222222,\"#7201a8\"],[0.3333333333333333,\"#9c179e\"],[0.4444444444444444,\"#bd3786\"],[0.5555555555555556,\"#d8576b\"],[0.6666666666666666,\"#ed7953\"],[0.7777777777777778,\"#fb9f3a\"],[0.8888888888888888,\"#fdca26\"],[1.0,\"#f0f921\"]]}],\"mesh3d\":[{\"type\":\"mesh3d\",\"colorbar\":{\"outlinewidth\":0,\"ticks\":\"\"}}],\"scatter\":[{\"fillpattern\":{\"fillmode\":\"overlay\",\"size\":10,\"solidity\":0.2},\"type\":\"scatter\"}],\"parcoords\":[{\"type\":\"parcoords\",\"line\":{\"colorbar\":{\"outlinewidth\":0,\"ticks\":\"\"}}}],\"scatterpolargl\":[{\"type\":\"scatterpolargl\",\"marker\":{\"colorbar\":{\"outlinewidth\":0,\"ticks\":\"\"}}}],\"bar\":[{\"error_x\":{\"color\":\"#2a3f5f\"},\"error_y\":{\"color\":\"#2a3f5f\"},\"marker\":{\"line\":{\"color\":\"#E5ECF6\",\"width\":0.5},\"pattern\":{\"fillmode\":\"overlay\",\"size\":10,\"solidity\":0.2}},\"type\":\"bar\"}],\"scattergeo\":[{\"type\":\"scattergeo\",\"marker\":{\"colorbar\":{\"outlinewidth\":0,\"ticks\":\"\"}}}],\"scatterpolar\":[{\"type\":\"scatterpolar\",\"marker\":{\"colorbar\":{\"outlinewidth\":0,\"ticks\":\"\"}}}],\"histogram\":[{\"marker\":{\"pattern\":{\"fillmode\":\"overlay\",\"size\":10,\"solidity\":0.2}},\"type\":\"histogram\"}],\"scattergl\":[{\"type\":\"scattergl\",\"marker\":{\"colorbar\":{\"outlinewidth\":0,\"ticks\":\"\"}}}],\"scatter3d\":[{\"type\":\"scatter3d\",\"line\":{\"colorbar\":{\"outlinewidth\":0,\"ticks\":\"\"}},\"marker\":{\"colorbar\":{\"outlinewidth\":0,\"ticks\":\"\"}}}],\"scattermapbox\":[{\"type\":\"scattermapbox\",\"marker\":{\"colorbar\":{\"outlinewidth\":0,\"ticks\":\"\"}}}],\"scatterternary\":[{\"type\":\"scatterternary\",\"marker\":{\"colorbar\":{\"outlinewidth\":0,\"ticks\":\"\"}}}],\"scattercarpet\":[{\"type\":\"scattercarpet\",\"marker\":{\"colorbar\":{\"outlinewidth\":0,\"ticks\":\"\"}}}],\"carpet\":[{\"aaxis\":{\"endlinecolor\":\"#2a3f5f\",\"gridcolor\":\"white\",\"linecolor\":\"white\",\"minorgridcolor\":\"white\",\"startlinecolor\":\"#2a3f5f\"},\"baxis\":{\"endlinecolor\":\"#2a3f5f\",\"gridcolor\":\"white\",\"linecolor\":\"white\",\"minorgridcolor\":\"white\",\"startlinecolor\":\"#2a3f5f\"},\"type\":\"carpet\"}],\"table\":[{\"cells\":{\"fill\":{\"color\":\"#EBF0F8\"},\"line\":{\"color\":\"white\"}},\"header\":{\"fill\":{\"color\":\"#C8D4E3\"},\"line\":{\"color\":\"white\"}},\"type\":\"table\"}],\"barpolar\":[{\"marker\":{\"line\":{\"color\":\"#E5ECF6\",\"width\":0.5},\"pattern\":{\"fillmode\":\"overlay\",\"size\":10,\"solidity\":0.2}},\"type\":\"barpolar\"}],\"pie\":[{\"automargin\":true,\"type\":\"pie\"}]},\"layout\":{\"autotypenumbers\":\"strict\",\"colorway\":[\"#636efa\",\"#EF553B\",\"#00cc96\",\"#ab63fa\",\"#FFA15A\",\"#19d3f3\",\"#FF6692\",\"#B6E880\",\"#FF97FF\",\"#FECB52\"],\"font\":{\"color\":\"#2a3f5f\"},\"hovermode\":\"closest\",\"hoverlabel\":{\"align\":\"left\"},\"paper_bgcolor\":\"white\",\"plot_bgcolor\":\"#E5ECF6\",\"polar\":{\"bgcolor\":\"#E5ECF6\",\"angularaxis\":{\"gridcolor\":\"white\",\"linecolor\":\"white\",\"ticks\":\"\"},\"radialaxis\":{\"gridcolor\":\"white\",\"linecolor\":\"white\",\"ticks\":\"\"}},\"ternary\":{\"bgcolor\":\"#E5ECF6\",\"aaxis\":{\"gridcolor\":\"white\",\"linecolor\":\"white\",\"ticks\":\"\"},\"baxis\":{\"gridcolor\":\"white\",\"linecolor\":\"white\",\"ticks\":\"\"},\"caxis\":{\"gridcolor\":\"white\",\"linecolor\":\"white\",\"ticks\":\"\"}},\"coloraxis\":{\"colorbar\":{\"outlinewidth\":0,\"ticks\":\"\"}},\"colorscale\":{\"sequential\":[[0.0,\"#0d0887\"],[0.1111111111111111,\"#46039f\"],[0.2222222222222222,\"#7201a8\"],[0.3333333333333333,\"#9c179e\"],[0.4444444444444444,\"#bd3786\"],[0.5555555555555556,\"#d8576b\"],[0.6666666666666666,\"#ed7953\"],[0.7777777777777778,\"#fb9f3a\"],[0.8888888888888888,\"#fdca26\"],[1.0,\"#f0f921\"]],\"sequentialminus\":[[0.0,\"#0d0887\"],[0.1111111111111111,\"#46039f\"],[0.2222222222222222,\"#7201a8\"],[0.3333333333333333,\"#9c179e\"],[0.4444444444444444,\"#bd3786\"],[0.5555555555555556,\"#d8576b\"],[0.6666666666666666,\"#ed7953\"],[0.7777777777777778,\"#fb9f3a\"],[0.8888888888888888,\"#fdca26\"],[1.0,\"#f0f921\"]],\"diverging\":[[0,\"#8e0152\"],[0.1,\"#c51b7d\"],[0.2,\"#de77ae\"],[0.3,\"#f1b6da\"],[0.4,\"#fde0ef\"],[0.5,\"#f7f7f7\"],[0.6,\"#e6f5d0\"],[0.7,\"#b8e186\"],[0.8,\"#7fbc41\"],[0.9,\"#4d9221\"],[1,\"#276419\"]]},\"xaxis\":{\"gridcolor\":\"white\",\"linecolor\":\"white\",\"ticks\":\"\",\"title\":{\"standoff\":15},\"zerolinecolor\":\"white\",\"automargin\":true,\"zerolinewidth\":2},\"yaxis\":{\"gridcolor\":\"white\",\"linecolor\":\"white\",\"ticks\":\"\",\"title\":{\"standoff\":15},\"zerolinecolor\":\"white\",\"automargin\":true,\"zerolinewidth\":2},\"scene\":{\"xaxis\":{\"backgroundcolor\":\"#E5ECF6\",\"gridcolor\":\"white\",\"linecolor\":\"white\",\"showbackground\":true,\"ticks\":\"\",\"zerolinecolor\":\"white\",\"gridwidth\":2},\"yaxis\":{\"backgroundcolor\":\"#E5ECF6\",\"gridcolor\":\"white\",\"linecolor\":\"white\",\"showbackground\":true,\"ticks\":\"\",\"zerolinecolor\":\"white\",\"gridwidth\":2},\"zaxis\":{\"backgroundcolor\":\"#E5ECF6\",\"gridcolor\":\"white\",\"linecolor\":\"white\",\"showbackground\":true,\"ticks\":\"\",\"zerolinecolor\":\"white\",\"gridwidth\":2}},\"shapedefaults\":{\"line\":{\"color\":\"#2a3f5f\"}},\"annotationdefaults\":{\"arrowcolor\":\"#2a3f5f\",\"arrowhead\":0,\"arrowwidth\":1},\"geo\":{\"bgcolor\":\"white\",\"landcolor\":\"#E5ECF6\",\"subunitcolor\":\"white\",\"showland\":true,\"showlakes\":true,\"lakecolor\":\"white\"},\"title\":{\"x\":0.05},\"mapbox\":{\"style\":\"light\"}}},\"title\":{\"text\":\"Information Gain from first 10 SAE features\"},\"plot_bgcolor\":\"white\",\"xaxis\":{\"title\":{\"text\":\"Feature #\"}},\"yaxis\":{\"title\":{\"text\":\"Information Gain\"},\"showgrid\":true,\"gridwidth\":2,\"gridcolor\":\"DarkGray\",\"zeroline\":true,\"zerolinewidth\":2,\"zerolinecolor\":\"Black\"},\"width\":800,\"height\":500},                        {\"responsive\": true}                    ).then(function(){\n",
       "                            \n",
       "var gd = document.getElementById('f9dcd40f-f77f-40e9-8ad6-d3586ebcb727');\n",
       "var x = new MutationObserver(function (mutations, observer) {{\n",
       "        var display = window.getComputedStyle(gd).display;\n",
       "        if (!display || display === 'none') {{\n",
       "            console.log([gd, 'removed!']);\n",
       "            Plotly.purge(gd);\n",
       "            observer.disconnect();\n",
       "        }}\n",
       "}});\n",
       "\n",
       "// Listen for the removal of the full notebook cells\n",
       "var notebookContainer = gd.closest('#notebook-container');\n",
       "if (notebookContainer) {{\n",
       "    x.observe(notebookContainer, {childList: true});\n",
       "}}\n",
       "\n",
       "// Listen for the clearing of the current output cell\n",
       "var outputEl = gd.closest('.output');\n",
       "if (outputEl) {{\n",
       "    x.observe(outputEl, {childList: true});\n",
       "}}\n",
       "\n",
       "                        })                };                });            </script>        </div>"
      ]
     },
     "metadata": {},
     "output_type": "display_data"
    }
   ],
   "source": [
    "fig = go.Figure()\n",
    "fig.add_trace(go.Bar(x=[f'#{i}' for i in range(num_features)], y=information_gains_, marker_color='DarkRed'))\n",
    "fig.update_layout(title='Information Gain from first 10 SAE features')\n",
    "fig.update_layout(plot_bgcolor='white')\n",
    "fig.update_xaxes(title_text='Feature #')\n",
    "fig.update_yaxes(title_text='Information Gain')\n",
    "fig.update_layout(width=800, height=500)\n",
    "# y-axis grid lines\n",
    "fig.update_yaxes(showgrid=True, gridwidth=2, gridcolor='DarkGray')\n",
    "# show zero line\n",
    "fig.update_yaxes(zeroline=True, zerolinewidth=2, zerolinecolor='Black')\n",
    "fig.show()"
   ]
  },
  {
   "cell_type": "code",
   "execution_count": 29,
   "metadata": {},
   "outputs": [
    {
     "data": {
      "application/vnd.plotly.v1+json": {
       "config": {
        "plotlyServerURL": "https://plot.ly"
       },
       "data": [
        {
         "marker": {
          "color": "DarkRed"
         },
         "type": "bar",
         "width": 2,
         "x": [
          "#0",
          "#1",
          "#2",
          "#3",
          "#4",
          "#5",
          "#6",
          "#7",
          "#8",
          "#9",
          "#10",
          "#11",
          "#12",
          "#13",
          "#14",
          "#15",
          "#16",
          "#17",
          "#18",
          "#19",
          "#20",
          "#21",
          "#22",
          "#23",
          "#24",
          "#25",
          "#26",
          "#27",
          "#28",
          "#29",
          "#30",
          "#31",
          "#32",
          "#33",
          "#34",
          "#35",
          "#36",
          "#37",
          "#38",
          "#39",
          "#40",
          "#41",
          "#42",
          "#43",
          "#44",
          "#45",
          "#46",
          "#47",
          "#48",
          "#49",
          "#50",
          "#51",
          "#52",
          "#53",
          "#54",
          "#55",
          "#56",
          "#57",
          "#58",
          "#59",
          "#60",
          "#61",
          "#62",
          "#63",
          "#64",
          "#65",
          "#66",
          "#67",
          "#68",
          "#69",
          "#70",
          "#71",
          "#72",
          "#73",
          "#74",
          "#75",
          "#76",
          "#77",
          "#78",
          "#79",
          "#80",
          "#81",
          "#82",
          "#83",
          "#84",
          "#85",
          "#86",
          "#87",
          "#88",
          "#89",
          "#90",
          "#91",
          "#92",
          "#93",
          "#94",
          "#95",
          "#96",
          "#97",
          "#98",
          "#99",
          "#100",
          "#101",
          "#102",
          "#103",
          "#104",
          "#105",
          "#106",
          "#107",
          "#108",
          "#109",
          "#110",
          "#111",
          "#112",
          "#113",
          "#114",
          "#115",
          "#116",
          "#117",
          "#118",
          "#119",
          "#120",
          "#121",
          "#122",
          "#123",
          "#124",
          "#125",
          "#126",
          "#127",
          "#128",
          "#129",
          "#130",
          "#131",
          "#132",
          "#133",
          "#134",
          "#135",
          "#136",
          "#137",
          "#138",
          "#139",
          "#140",
          "#141",
          "#142",
          "#143",
          "#144",
          "#145",
          "#146",
          "#147",
          "#148",
          "#149",
          "#150",
          "#151",
          "#152",
          "#153",
          "#154",
          "#155",
          "#156",
          "#157",
          "#158",
          "#159",
          "#160",
          "#161",
          "#162",
          "#163",
          "#164",
          "#165",
          "#166",
          "#167",
          "#168",
          "#169",
          "#170",
          "#171",
          "#172",
          "#173",
          "#174",
          "#175",
          "#176",
          "#177",
          "#178",
          "#179",
          "#180",
          "#181",
          "#182",
          "#183",
          "#184",
          "#185",
          "#186",
          "#187",
          "#188",
          "#189",
          "#190",
          "#191",
          "#192",
          "#193",
          "#194",
          "#195",
          "#196",
          "#197",
          "#198",
          "#199",
          "#200",
          "#201",
          "#202",
          "#203",
          "#204",
          "#205",
          "#206",
          "#207",
          "#208",
          "#209",
          "#210",
          "#211",
          "#212",
          "#213",
          "#214",
          "#215",
          "#216",
          "#217",
          "#218",
          "#219",
          "#220",
          "#221",
          "#222",
          "#223",
          "#224",
          "#225",
          "#226",
          "#227",
          "#228",
          "#229",
          "#230",
          "#231",
          "#232",
          "#233",
          "#234",
          "#235",
          "#236",
          "#237",
          "#238",
          "#239",
          "#240",
          "#241",
          "#242",
          "#243",
          "#244",
          "#245",
          "#246",
          "#247",
          "#248",
          "#249",
          "#250",
          "#251",
          "#252",
          "#253",
          "#254",
          "#255",
          "#256",
          "#257",
          "#258",
          "#259",
          "#260",
          "#261",
          "#262",
          "#263",
          "#264",
          "#265",
          "#266",
          "#267",
          "#268",
          "#269",
          "#270",
          "#271",
          "#272",
          "#273",
          "#274",
          "#275",
          "#276",
          "#277",
          "#278",
          "#279",
          "#280",
          "#281",
          "#282",
          "#283",
          "#284",
          "#285",
          "#286",
          "#287",
          "#288",
          "#289",
          "#290",
          "#291",
          "#292",
          "#293",
          "#294",
          "#295",
          "#296",
          "#297",
          "#298",
          "#299",
          "#300",
          "#301",
          "#302",
          "#303",
          "#304",
          "#305",
          "#306",
          "#307",
          "#308",
          "#309",
          "#310",
          "#311",
          "#312",
          "#313",
          "#314",
          "#315",
          "#316",
          "#317",
          "#318",
          "#319",
          "#320",
          "#321",
          "#322",
          "#323",
          "#324",
          "#325",
          "#326",
          "#327",
          "#328",
          "#329",
          "#330",
          "#331",
          "#332",
          "#333",
          "#334",
          "#335",
          "#336",
          "#337",
          "#338",
          "#339",
          "#340",
          "#341",
          "#342",
          "#343",
          "#344",
          "#345",
          "#346",
          "#347",
          "#348",
          "#349",
          "#350",
          "#351",
          "#352",
          "#353",
          "#354",
          "#355",
          "#356",
          "#357",
          "#358",
          "#359",
          "#360",
          "#361",
          "#362",
          "#363",
          "#364",
          "#365",
          "#366",
          "#367",
          "#368",
          "#369",
          "#370",
          "#371",
          "#372",
          "#373",
          "#374",
          "#375",
          "#376",
          "#377",
          "#378",
          "#379",
          "#380",
          "#381",
          "#382",
          "#383",
          "#384",
          "#385",
          "#386",
          "#387",
          "#388",
          "#389",
          "#390",
          "#391",
          "#392",
          "#393",
          "#394",
          "#395",
          "#396",
          "#397",
          "#398",
          "#399",
          "#400",
          "#401",
          "#402",
          "#403",
          "#404",
          "#405",
          "#406",
          "#407",
          "#408",
          "#409",
          "#410",
          "#411",
          "#412",
          "#413",
          "#414",
          "#415",
          "#416",
          "#417",
          "#418",
          "#419",
          "#420",
          "#421",
          "#422",
          "#423",
          "#424",
          "#425",
          "#426",
          "#427",
          "#428",
          "#429",
          "#430",
          "#431",
          "#432",
          "#433",
          "#434",
          "#435",
          "#436",
          "#437",
          "#438",
          "#439",
          "#440",
          "#441",
          "#442",
          "#443",
          "#444",
          "#445",
          "#446",
          "#447",
          "#448",
          "#449",
          "#450",
          "#451",
          "#452",
          "#453",
          "#454",
          "#455",
          "#456",
          "#457",
          "#458",
          "#459",
          "#460",
          "#461",
          "#462",
          "#463",
          "#464",
          "#465",
          "#466",
          "#467",
          "#468",
          "#469",
          "#470",
          "#471",
          "#472",
          "#473",
          "#474",
          "#475",
          "#476",
          "#477",
          "#478",
          "#479",
          "#480",
          "#481",
          "#482",
          "#483",
          "#484",
          "#485",
          "#486",
          "#487",
          "#488",
          "#489",
          "#490",
          "#491",
          "#492",
          "#493",
          "#494",
          "#495",
          "#496",
          "#497",
          "#498",
          "#499",
          "#500",
          "#501",
          "#502",
          "#503",
          "#504",
          "#505",
          "#506",
          "#507",
          "#508",
          "#509",
          "#510",
          "#511",
          "#512",
          "#513",
          "#514",
          "#515",
          "#516",
          "#517",
          "#518",
          "#519",
          "#520",
          "#521",
          "#522",
          "#523",
          "#524",
          "#525",
          "#526",
          "#527",
          "#528",
          "#529",
          "#530",
          "#531",
          "#532",
          "#533",
          "#534",
          "#535",
          "#536",
          "#537",
          "#538",
          "#539",
          "#540",
          "#541",
          "#542",
          "#543",
          "#544",
          "#545",
          "#546",
          "#547",
          "#548",
          "#549",
          "#550",
          "#551",
          "#552",
          "#553",
          "#554",
          "#555",
          "#556",
          "#557",
          "#558",
          "#559",
          "#560",
          "#561",
          "#562",
          "#563",
          "#564",
          "#565",
          "#566",
          "#567",
          "#568",
          "#569",
          "#570",
          "#571",
          "#572",
          "#573",
          "#574",
          "#575",
          "#576",
          "#577",
          "#578",
          "#579",
          "#580",
          "#581",
          "#582",
          "#583",
          "#584",
          "#585",
          "#586",
          "#587",
          "#588",
          "#589",
          "#590",
          "#591",
          "#592",
          "#593",
          "#594",
          "#595",
          "#596",
          "#597",
          "#598",
          "#599",
          "#600",
          "#601",
          "#602",
          "#603",
          "#604",
          "#605",
          "#606",
          "#607",
          "#608",
          "#609",
          "#610",
          "#611",
          "#612",
          "#613",
          "#614",
          "#615",
          "#616",
          "#617",
          "#618",
          "#619",
          "#620",
          "#621",
          "#622",
          "#623",
          "#624",
          "#625",
          "#626",
          "#627",
          "#628",
          "#629",
          "#630",
          "#631",
          "#632",
          "#633",
          "#634",
          "#635",
          "#636",
          "#637",
          "#638",
          "#639",
          "#640",
          "#641",
          "#642",
          "#643",
          "#644",
          "#645",
          "#646",
          "#647",
          "#648",
          "#649",
          "#650",
          "#651",
          "#652",
          "#653",
          "#654",
          "#655",
          "#656",
          "#657",
          "#658",
          "#659",
          "#660",
          "#661",
          "#662",
          "#663",
          "#664",
          "#665",
          "#666",
          "#667",
          "#668",
          "#669",
          "#670",
          "#671",
          "#672",
          "#673",
          "#674",
          "#675",
          "#676",
          "#677",
          "#678",
          "#679",
          "#680",
          "#681",
          "#682",
          "#683",
          "#684",
          "#685",
          "#686",
          "#687",
          "#688",
          "#689",
          "#690",
          "#691",
          "#692",
          "#693",
          "#694",
          "#695",
          "#696",
          "#697",
          "#698",
          "#699",
          "#700",
          "#701",
          "#702",
          "#703",
          "#704",
          "#705",
          "#706",
          "#707",
          "#708",
          "#709",
          "#710",
          "#711",
          "#712",
          "#713",
          "#714",
          "#715",
          "#716",
          "#717",
          "#718",
          "#719",
          "#720",
          "#721",
          "#722",
          "#723",
          "#724",
          "#725",
          "#726",
          "#727",
          "#728",
          "#729",
          "#730",
          "#731",
          "#732",
          "#733",
          "#734",
          "#735",
          "#736",
          "#737",
          "#738",
          "#739",
          "#740",
          "#741",
          "#742",
          "#743",
          "#744",
          "#745",
          "#746",
          "#747",
          "#748",
          "#749",
          "#750",
          "#751",
          "#752",
          "#753",
          "#754",
          "#755",
          "#756",
          "#757",
          "#758",
          "#759",
          "#760",
          "#761",
          "#762",
          "#763",
          "#764",
          "#765",
          "#766",
          "#767",
          "#768",
          "#769",
          "#770",
          "#771",
          "#772",
          "#773",
          "#774",
          "#775",
          "#776",
          "#777",
          "#778",
          "#779",
          "#780",
          "#781",
          "#782",
          "#783",
          "#784",
          "#785",
          "#786",
          "#787",
          "#788",
          "#789",
          "#790",
          "#791",
          "#792",
          "#793",
          "#794",
          "#795",
          "#796",
          "#797",
          "#798",
          "#799",
          "#800",
          "#801",
          "#802",
          "#803",
          "#804",
          "#805",
          "#806",
          "#807",
          "#808",
          "#809",
          "#810",
          "#811",
          "#812",
          "#813",
          "#814",
          "#815",
          "#816",
          "#817",
          "#818",
          "#819",
          "#820",
          "#821",
          "#822",
          "#823",
          "#824",
          "#825",
          "#826",
          "#827",
          "#828",
          "#829",
          "#830",
          "#831",
          "#832",
          "#833",
          "#834",
          "#835",
          "#836",
          "#837",
          "#838",
          "#839",
          "#840",
          "#841",
          "#842",
          "#843",
          "#844",
          "#845",
          "#846",
          "#847",
          "#848",
          "#849",
          "#850",
          "#851",
          "#852",
          "#853",
          "#854",
          "#855",
          "#856",
          "#857",
          "#858",
          "#859",
          "#860",
          "#861",
          "#862",
          "#863",
          "#864",
          "#865",
          "#866",
          "#867",
          "#868",
          "#869",
          "#870",
          "#871",
          "#872",
          "#873",
          "#874",
          "#875",
          "#876",
          "#877",
          "#878",
          "#879",
          "#880",
          "#881",
          "#882",
          "#883",
          "#884",
          "#885",
          "#886",
          "#887",
          "#888",
          "#889",
          "#890",
          "#891",
          "#892",
          "#893",
          "#894",
          "#895",
          "#896",
          "#897",
          "#898",
          "#899",
          "#900",
          "#901",
          "#902",
          "#903",
          "#904",
          "#905",
          "#906",
          "#907",
          "#908",
          "#909",
          "#910",
          "#911",
          "#912",
          "#913",
          "#914",
          "#915",
          "#916",
          "#917",
          "#918",
          "#919",
          "#920",
          "#921",
          "#922",
          "#923",
          "#924",
          "#925",
          "#926",
          "#927",
          "#928",
          "#929",
          "#930",
          "#931",
          "#932",
          "#933",
          "#934",
          "#935",
          "#936",
          "#937",
          "#938",
          "#939",
          "#940",
          "#941",
          "#942",
          "#943",
          "#944",
          "#945",
          "#946",
          "#947",
          "#948",
          "#949",
          "#950",
          "#951",
          "#952",
          "#953",
          "#954",
          "#955",
          "#956",
          "#957",
          "#958",
          "#959",
          "#960",
          "#961",
          "#962",
          "#963",
          "#964",
          "#965",
          "#966",
          "#967",
          "#968",
          "#969",
          "#970",
          "#971",
          "#972",
          "#973",
          "#974",
          "#975",
          "#976",
          "#977",
          "#978",
          "#979",
          "#980",
          "#981",
          "#982",
          "#983",
          "#984",
          "#985",
          "#986",
          "#987",
          "#988",
          "#989",
          "#990",
          "#991",
          "#992",
          "#993",
          "#994",
          "#995",
          "#996",
          "#997",
          "#998",
          "#999"
         ],
         "y": [
          95.4289651184082,
          90.37055743408203,
          89.33388391113282,
          89.25090075683593,
          87.66433575439453,
          82.218896484375,
          81.802345703125,
          80.95896047973633,
          80.60480368041992,
          79.09310131835937,
          78.73687298583984,
          77.16919458007813,
          76.931724609375,
          76.83486990356445,
          75.78750817871094,
          75.50454614257812,
          73.98928598022461,
          73.05777938842773,
          72.47374771118164,
          72.336228515625,
          72.27674127197265,
          70.82257501220703,
          70.8011287689209,
          70.44489840698242,
          69.79581408691406,
          69.22678875732421,
          69.13209002685547,
          69.1261053466797,
          68.92093627929688,
          68.92039277648925,
          68.78690689086915,
          68.77249877929688,
          68.40550469970704,
          68.1696552734375,
          68.11146380615234,
          68.02282769775391,
          67.83297204589844,
          67.23224359130859,
          66.90304681396485,
          66.75474475097656,
          66.65238473510742,
          66.31173773193359,
          66.11876751708985,
          65.92213827514648,
          65.8301577758789,
          65.79303020477295,
          65.46646685791016,
          65.36699786376953,
          65.23176443481445,
          64.72799685668946,
          64.64772625732422,
          63.79378582763672,
          63.512448486328125,
          62.79179248046875,
          62.44190606689453,
          62.35151281738281,
          62.15190362548828,
          62.03664288330078,
          61.99058096313477,
          61.672759635925296,
          61.6305498046875,
          61.62756832885742,
          61.41641416168213,
          61.264792510986325,
          61.229476379394534,
          60.8181921081543,
          60.289041320800784,
          58.83905462646484,
          58.7821882019043,
          58.475750205993656,
          58.26097351074219,
          58.12410864257812,
          57.76078108215332,
          57.287423095703126,
          57.18972540283203,
          56.65433526611328,
          56.57311141967774,
          56.50240026855469,
          55.728591812133786,
          55.48798101806641,
          55.39706747436524,
          55.20512168884277,
          54.8552776184082,
          54.506521484375,
          54.5038225402832,
          54.19453198242188,
          54.15593468475342,
          53.981206268310544,
          53.853137634277346,
          53.689394676208494,
          53.5553462524414,
          53.151678955078125,
          52.642782104492184,
          51.83779113769531,
          51.82102326202393,
          51.4541431427002,
          51.01358874511719,
          50.972242980957034,
          50.93437147521973,
          50.78548115539551,
          50.556372283935545,
          50.4479782409668,
          50.17111654663086,
          50.03859950256348,
          49.81199592590332,
          49.32980499267578,
          49.32423541259766,
          49.1906722946167,
          48.33843882751465,
          48.16989957427978,
          48.15348899078369,
          47.48606927490234,
          47.47078610229492,
          47.2150450592041,
          47.21488104248047,
          46.97715689086914,
          46.87897201538086,
          46.630374603271484,
          46.09887406921387,
          46.01092392730713,
          45.832703229904176,
          45.345898582458496,
          45.1195106048584,
          45.026859375,
          44.812682518005374,
          44.642739620208744,
          44.585449005126954,
          44.5313568725586,
          44.516817321777346,
          44.35342497253418,
          44.09761979675293,
          43.91593803405762,
          43.63200733184814,
          43.345819549560545,
          43.335400802612305,
          42.98401978302002,
          42.971193908691404,
          42.86106056976318,
          42.26275765991211,
          41.92299966430664,
          41.528521423339846,
          41.4342029876709,
          40.977011520385744,
          40.87450082397461,
          40.48162205505371,
          40.47263180541992,
          40.206232040405276,
          39.91085871887207,
          39.68749732971192,
          39.20927642822266,
          39.0588443145752,
          38.61466863059997,
          38.446883277893065,
          38.444845558166506,
          38.317090278625486,
          38.223189140319825,
          38.02244746398926,
          37.8808860168457,
          37.47782914352417,
          36.79895257568359,
          36.70558917236328,
          36.10132341766357,
          35.62112194824219,
          35.323348182678224,
          35.28072457885742,
          35.20794966125488,
          35.02558293151856,
          34.83536949920654,
          34.75788746643067,
          34.70227018737793,
          34.546613632202146,
          34.424012741088866,
          34.23332847595215,
          33.93303818511963,
          33.820891761779784,
          33.791660217285155,
          33.61846069717407,
          33.33627349090576,
          33.32907080841064,
          33.31501238250733,
          33.31331242370605,
          32.84073062133789,
          32.3642124710083,
          32.28965285491943,
          31.30359814453125,
          30.794884201049804,
          30.620787773132324,
          30.521925415039064,
          30.324405250549315,
          30.25061388015747,
          30.241710037231446,
          30.03846041870117,
          29.791846282958986,
          29.614824127197267,
          29.428308311462402,
          29.289018295288084,
          29.21949459075928,
          29.219354175567627,
          29.14760637664795,
          29.044880348205567,
          28.820702499389647,
          28.689159034729006,
          28.240657997131347,
          28.091689270019533,
          27.929177574157716,
          27.214344673156738,
          27.125213176727296,
          27.097485694885254,
          26.61593250274658,
          26.366078788757324,
          26.10263512992859,
          25.957569721221923,
          25.922443801879883,
          25.910788913726808,
          25.548912506103516,
          25.520004707336426,
          25.173147911071776,
          25.028467384338377,
          24.99940565490723,
          24.670268558502197,
          24.653873447418214,
          24.41777498626709,
          24.18789310836792,
          24.179437580108644,
          24.11297537231445,
          24.101068298339843,
          24.067562309265135,
          24.039510097503662,
          23.945262031555174,
          23.822068252563476,
          23.626537178039552,
          23.53837976837158,
          23.030142974853515,
          22.871373306274414,
          22.285943435668944,
          22.151464096069336,
          22.029614723205565,
          21.95216423034668,
          21.909361015319824,
          21.549561210632323,
          21.350568771362305,
          21.10936865615845,
          20.916673599243165,
          20.868253112792967,
          20.131147987365722,
          20.06124252319336,
          19.658044258117677,
          19.648331535339356,
          19.56305828857422,
          19.547367767333984,
          19.39114170074463,
          18.908525955200194,
          18.611837684631347,
          18.434003341674806,
          18.358584936141966,
          18.12548028564453,
          17.974274600982667,
          17.874773204803468,
          17.787929679870604,
          17.63832074356079,
          17.39637061691284,
          17.384409713745118,
          17.27834297180176,
          17.0890883102417,
          16.722126991271974,
          16.65845902633667,
          16.61971061325073,
          16.467609413146974,
          16.382699615478515,
          16.16492293548584,
          16.062441146850585,
          15.817521347045899,
          15.349772483825683,
          15.243107692718507,
          15.165420402526856,
          14.866489246368408,
          14.78422315979004,
          14.364519821166992,
          14.339660194396973,
          14.33889868927002,
          14.296664497375488,
          13.719080680847169,
          13.587047458648682,
          13.30723991394043,
          13.119360752105713,
          12.932337211608887,
          12.622369638442994,
          12.508466102600098,
          12.405568061828614,
          12.01580616760254,
          11.69291614151001,
          11.473668184280395,
          11.334290050506592,
          10.963002033233643,
          10.736045387268067,
          10.684428840637207,
          10.228629680633546,
          10.141254852294923,
          9.841149311065674,
          9.573542205810547,
          9.212966934204102,
          9.20711962890625,
          9.116756217956542,
          8.764822235107422,
          8.758484607696532,
          8.750790790557861,
          8.727879341125488,
          8.691016876220703,
          8.659072347640992,
          8.615096933364867,
          8.562337329864501,
          8.530459030151366,
          8.511537200927734,
          8.383608722686768,
          7.889677865982056,
          7.867766434669495,
          7.3082513389587405,
          7.146467858314514,
          6.828084156990052,
          6.772745040893555,
          6.707217952728271,
          6.523409118652344,
          6.370110496520996,
          6.2908341455459595,
          6.163750190734863,
          6.1523428153991695,
          6.093178153991699,
          5.993316019058228,
          5.96752733039856,
          5.894166206359864,
          5.813806907653809,
          5.752363204956055,
          5.676823921203614,
          5.667901840209961,
          5.652578508377075,
          5.523251997947693,
          5.4630690231323245,
          5.391850238800049,
          5.341525852203369,
          5.22793607711792,
          5.206910179138184,
          5.123920959472656,
          5.107540578842163,
          5.0701447095870975,
          5.06893660736084,
          4.955360343933106,
          4.948625247955322,
          4.947454397201538,
          4.904180154323578,
          4.889505779266357,
          4.861081508636475,
          4.755438241958618,
          4.745090705871582,
          4.718012687683106,
          4.678062126159668,
          4.6724422092437745,
          4.538424540042877,
          4.472776395797729,
          4.282561100006103,
          4.2645423059463505,
          4.243038908004761,
          4.213623794555664,
          4.175231705665588,
          4.153831886291504,
          4.137850714683533,
          4.059773637771606,
          3.999785270690918,
          3.9946680574417113,
          3.876045142173767,
          3.82050346326828,
          3.804029622554779,
          3.7618273229599,
          3.666436360359192,
          3.6475232944488525,
          3.6140606372356414,
          3.5901290926933287,
          3.5397428073883055,
          3.5222564635276794,
          3.5052881679534913,
          3.499921619415283,
          3.499571430683136,
          3.4275419549942017,
          3.397847286224365,
          3.3759870772361755,
          3.301870431423187,
          3.280644268989563,
          3.175288053035736,
          3.103033676147461,
          3.084121777534485,
          2.997654929637909,
          2.9192716813087465,
          2.8538691711425783,
          2.831510516166687,
          2.813426206588745,
          2.8024575357437134,
          2.785014657020569,
          2.7847926750183105,
          2.74924444437027,
          2.656633771896362,
          2.6184661922454833,
          2.6116499195098877,
          2.592880295753479,
          2.5907305159568788,
          2.5663217742443085,
          2.5239927949905394,
          2.522777512550354,
          2.5163684186935424,
          2.450191615819931,
          2.39790434217453,
          2.3719428482055664,
          2.358004472732544,
          2.326816821575165,
          2.3075998644828797,
          2.294876260280609,
          2.2748411774635313,
          2.2732033383846284,
          2.245473228931427,
          2.1899704666137696,
          2.1862364311218263,
          2.148995931148529,
          2.1232981643676756,
          2.1097241916656495,
          2.073560465812683,
          2.0597473213672637,
          1.9977660682201386,
          1.942669345855713,
          1.9361323156356811,
          1.898620616197586,
          1.8948687489032745,
          1.836458490371704,
          1.7621553883552552,
          1.7491937856674193,
          1.7470836188793182,
          1.740718930363655,
          1.732532211303711,
          1.7125578532218932,
          1.698877067565918,
          1.6905855301618575,
          1.6702512628436088,
          1.634361801624298,
          1.615158263683319,
          1.6052048482894898,
          1.5959546132087707,
          1.5775228452682495,
          1.5470450897216796,
          1.5344534330368043,
          1.5244510750770568,
          1.5196548795700073,
          1.5189138479232789,
          1.5157498931884765,
          1.482710830450058,
          1.4595325303077697,
          1.4172297979593278,
          1.4161992288827896,
          1.414658086180687,
          1.3551192512512207,
          1.3419207634925843,
          1.3381508374214173,
          1.3136982336044312,
          1.3073273763656617,
          1.2951052292585372,
          1.27921018242836,
          1.259782329082489,
          1.2528103747367858,
          1.252714942932129,
          1.2484580600559712,
          1.2416716331243516,
          1.2396422913074494,
          1.2311215875148773,
          1.222578887939453,
          1.2018989748954774,
          1.1742505865097046,
          1.1700312268137931,
          1.1653256993293761,
          1.1057524299621582,
          1.0587202852964401,
          1.0497762105464936,
          1.0440719281435014,
          0.976894127368927,
          0.9129528653621674,
          0.8902292860746384,
          0.8884367128014564,
          0.8714957253932953,
          0.8328051080703736,
          0.823459315776825,
          0.8090962709188462,
          0.7873243079781532,
          0.77892098903656,
          0.7744632537364959,
          0.7707729663848877,
          0.7647236062288284,
          0.7391925054192543,
          0.7321733865737915,
          0.6952161794900894,
          0.6936784400939942,
          0.6729408578276634,
          0.6613223814368248,
          0.644683498620987,
          0.6411708798408509,
          0.6209188823699952,
          0.5928002773523331,
          0.5794129518270492,
          0.572803974032402,
          0.523907859325409,
          0.49838210558891294,
          0.49557564067840576,
          0.4781517241001129,
          0.4591459338665009,
          0.4322271032333374,
          0.42450223755836486,
          0.38180309677124025,
          0.37180165243148805,
          0.35747519254684446,
          0.33770700201392173,
          0.3307009599804878,
          0.32716231444478033,
          0.31738610339164736,
          0.29940300858020785,
          0.28580780667066574,
          0.2568687617778778,
          0.25450611126422884,
          0.25286127531528474,
          0.2442295014858246,
          0.23226194524765015,
          0.22854997944831848,
          0.221611753821373,
          0.2145821256637573,
          0.21334993395209312,
          0.21288771820068358,
          0.20636934351921082,
          0.1875578963458538,
          0.1726970738172531,
          0.16470608067512513,
          0.15541915893554686,
          0.15432868421077728,
          0.13167355236411094,
          0.10527889680862426,
          0.10395590256154537,
          0.10148867505788803,
          0.07407416486740112,
          0.0636715817451477,
          0.06053233337402344,
          0.050591691195964815,
          0.02236707901954651,
          0.020367775440216066,
          0.017445187747478486,
          0.012942274332046508,
          -0.020154692590236663,
          -0.04080291050672531,
          -0.06565645217895508,
          -0.06590371942520142,
          -0.07472225868701934,
          -0.08071858568489551,
          -0.08740657368302346,
          -0.0902454652786255,
          -0.14174189448356628,
          -0.14302405166625975,
          -0.1516971606016159,
          -0.16138363575935363,
          -0.18993125441670416,
          -0.19945712661743165,
          -0.2070806565284729,
          -0.22231917119026184,
          -0.2288340504169464,
          -0.23009043395519257,
          -0.241220529705286,
          -0.2652613508105278,
          -0.31799176931381223,
          -0.340665212392807,
          -0.34574552756547927,
          -0.3473145087957382,
          -0.41627614784240724,
          -0.45047136056423187,
          -0.4533648343086243,
          -0.47252143478393555,
          -0.47350625252723694,
          -0.47465807723999026,
          -0.47487075424194336,
          -0.4760395241379738,
          -0.48418861228227617,
          -0.48474486339092254,
          -0.4912482380270958,
          -0.5050829410552978,
          -0.5071541357040406,
          -0.5107231957316398,
          -0.5507740664482117,
          -0.5564555543661117,
          -0.5823321444988251,
          -0.6415190458297729,
          -0.6511148492097855,
          -0.651575004696846,
          -0.6699313930273056,
          -0.6718937798738479,
          -0.6798668599128723,
          -0.6855787880420685,
          -0.7122948247194291,
          -0.7475807700157165,
          -0.7635506365299225,
          -0.7810615849494934,
          -0.7832677053809166,
          -0.7856910643577576,
          -0.7893626333475113,
          -0.7936939567327499,
          -0.7946612565517426,
          -0.8296333105564118,
          -0.8450393445491791,
          -0.8488653802871704,
          -0.8755981712341309,
          -0.8980301380753517,
          -0.9113164670467376,
          -0.9115048339366912,
          -0.9159354557991027,
          -0.929650988459587,
          -0.9368883829116821,
          -0.9494938061237336,
          -0.9950437355041504,
          -1.0003918223381043,
          -1.0036116421222687,
          -1.0185085972547532,
          -1.03338629424572,
          -1.037287035226822,
          -1.047177536547184,
          -1.0475154342651367,
          -1.087132742524147,
          -1.0928760759830476,
          -1.1095518615841866,
          -1.165619390964508,
          -1.1785448725223542,
          -1.1787249965667725,
          -1.2279340324401855,
          -1.2325020544528962,
          -1.2687620396614074,
          -1.330269541501999,
          -1.3896826002597809,
          -1.3985266137123107,
          -1.4358932826519013,
          -1.4889209396839143,
          -1.489860511302948,
          -1.5239897487163543,
          -1.5306358413696288,
          -1.5365836384296416,
          -1.5505695724487305,
          -1.5594023811817168,
          -1.5847773022651672,
          -1.5981624813079833,
          -1.603719678401947,
          -1.6521425058841706,
          -1.6908157631158829,
          -1.6915339679718018,
          -1.7269533190727233,
          -1.7695728917121887,
          -1.7802769508361815,
          -1.7915887579917908,
          -1.7960936747193337,
          -1.813672110080719,
          -1.8359579448699952,
          -1.8463378708362579,
          -1.8830178773403168,
          -1.9152377407550811,
          -1.9489586632251739,
          -1.9501922447681428,
          -1.9647899575233458,
          -1.9808957796096802,
          -1.983546169281006,
          -2.008742569446564,
          -2.0175235855579374,
          -2.060721458673477,
          -2.0759850406646727,
          -2.1148378858566286,
          -2.1253556784391403,
          -2.144038131713867,
          -2.1508230217695234,
          -2.2051783303022385,
          -2.2309221992492674,
          -2.253336260318756,
          -2.2821394169330596,
          -2.2828306541442873,
          -2.314746804475784,
          -2.3153673136234283,
          -2.4429581129550932,
          -2.5602415163516996,
          -2.60773064661026,
          -2.6425151264667512,
          -2.6792511863708497,
          -2.6878825845718386,
          -2.7323093502521516,
          -2.7324711670875548,
          -2.7679658765792845,
          -2.798724654197693,
          -2.9184716703891755,
          -2.9321051511764527,
          -2.934433709979057,
          -2.940283899784088,
          -2.9504596407413484,
          -2.9890861237049102,
          -3.012960411071777,
          -3.1183451273441314,
          -3.1245127577781675,
          -3.163804485321045,
          -3.2066043317317963,
          -3.2090148804187772,
          -3.2129086265563966,
          -3.2593100290298462,
          -3.26857963180542,
          -3.2802953324317934,
          -3.285200843811035,
          -3.3115913701057433,
          -3.3266622378826143,
          -3.342039475440979,
          -3.346536201715469,
          -3.42664173412323,
          -3.5441666193008423,
          -3.5798654778003693,
          -3.6917839288711547,
          -3.7308797991275786,
          -3.9168605394363403,
          -4.062912749767303,
          -4.067371438980103,
          -4.069719045400619,
          -4.096343982696533,
          -4.1335046072006225,
          -4.167631722211838,
          -4.1909200401306155,
          -4.201336692810059,
          -4.231955020904541,
          -4.258938007354736,
          -4.317106694221496,
          -4.340937072753906,
          -4.348442450046539,
          -4.419045127868652,
          -4.57113157081604,
          -4.612492017745971,
          -4.639318877696991,
          -4.676877977848053,
          -4.695341887950897,
          -4.781912338495254,
          -4.785682693481445,
          -4.875723257541656,
          -4.905726840972901,
          -4.912179664611816,
          -4.96185099029541,
          -4.965763618588448,
          -5.052232079982757,
          -5.229871130943298,
          -5.340439967632293,
          -5.3948760044574735,
          -5.415411883354187,
          -5.438705786466598,
          -5.520595712661743,
          -5.573915504455567,
          -5.579439819335938,
          -5.600876792192459,
          -5.715922290802002,
          -5.738800246715545,
          -5.766741180419922,
          -5.790677475452423,
          -5.8174111213684085,
          -5.818364283561706,
          -5.845622746944428,
          -6.0080690741539,
          -6.01121065044403,
          -6.062285469055176,
          -6.066434889316559,
          -6.076092147827149,
          -6.107827850341797,
          -6.24781814956665,
          -6.288539709568024,
          -6.298977319478989,
          -6.420263121843338,
          -6.5181331615447995,
          -6.527817407608032,
          -6.530517829418183,
          -6.540150022983551,
          -6.61707539176941,
          -6.830706961631775,
          -6.908744430541992,
          -6.935400440216064,
          -6.967354987859726,
          -7.015421321868897,
          -7.081837085723877,
          -7.086080108642578,
          -7.196715087890625,
          -7.205955104827881,
          -7.3173488464355465,
          -7.342370188236236,
          -7.35007874417305,
          -7.407536051750183,
          -7.414419866085052,
          -7.462567916870118,
          -7.467317977428436,
          -7.622751968383789,
          -7.718338681221009,
          -7.794228731155395,
          -7.848239944458008,
          -7.987608858108521,
          -8.008163903236388,
          -8.040126213550568,
          -8.071638977050782,
          -8.190516792297363,
          -8.223572438240051,
          -8.530185836315155,
          -8.594520306587219,
          -8.8411071434021,
          -9.037976192474366,
          -9.062868282318115,
          -9.066565654754639,
          -9.124607830047607,
          -9.32003991508484,
          -9.365560522556304,
          -9.441865250110625,
          -9.577179497718811,
          -9.606749374389649,
          -9.732737125396728,
          -9.823096862077714,
          -10.124711280822753,
          -10.215149267196654,
          -10.2424460439682,
          -10.244849296569825,
          -10.337215791225434,
          -10.3492112159729,
          -10.382792320251465,
          -10.409428485870361,
          -10.425976276397705,
          -10.449292552947998,
          -10.52830026960373,
          -10.556091697692871,
          -10.613878374099732,
          -11.1636946849823,
          -11.352098782539368,
          -11.508255499362946,
          -11.533061225891114,
          -11.662750605583192,
          -11.662794582366944,
          -11.776800659179688,
          -11.789836078643798,
          -11.796787466049194,
          -11.912976557254792,
          -12.062431344509125,
          -12.791192874908447,
          -12.84148936843872,
          -12.948514099121093,
          -12.958643184900284,
          -13.03275802898407,
          -13.057977203369141,
          -13.100669445037841,
          -13.168916850090026,
          -13.628933332920074,
          -13.652248843193053,
          -13.703073817253113,
          -13.761722801208496,
          -13.798823863983154,
          -13.86181360244751,
          -14.026485954284668,
          -14.064635522842407,
          -14.150361000061036,
          -14.197399002075196,
          -14.328333618164063,
          -14.60123747253418,
          -15.048908660888673,
          -15.051044687271117,
          -15.182759712219239,
          -15.211710540771485,
          -15.24143506526947,
          -15.265646427154541,
          -15.50993647956848,
          -15.544746486663819,
          -15.660958061218262,
          -15.675900583267213,
          -16.41521533203125,
          -16.72249722290039,
          -17.203171350479128,
          -17.225850649356843,
          -17.2849055839777,
          -18.044473121643065,
          -18.126417949676515,
          -18.423533939361572,
          -18.480768262863158,
          -18.615956676483155,
          -19.12593235397339,
          -19.245575216293336,
          -19.258566680908203,
          -19.508853635787965,
          -19.814758087158204,
          -20.113638229370117,
          -20.359784173965455,
          -20.399084032058717,
          -20.63333025741577,
          -20.84991215133667,
          -21.599256622314453,
          -21.768016313552856,
          -21.78223415660858,
          -22.00487497138977,
          -22.07393698310852,
          -22.08909218597412,
          -22.3246142539978,
          -22.582735424995423,
          -22.880843264579774,
          -22.994460887908936,
          -23.21498437690735,
          -23.337623212814332,
          -24.152019867897035,
          -24.289184520721435,
          -24.474642597198486,
          -24.58725778579712,
          -24.961473526000976,
          -25.014809695243834,
          -25.146849891662598,
          -25.356223258972168,
          -25.586708602905272,
          -25.62930115890503,
          -25.73133694267273,
          -25.899046484947206,
          -26.58018141746521,
          -26.647818284034727,
          -26.710804012298585,
          -26.853343695640564,
          -26.921542213439942,
          -26.924155389785767,
          -27.13667419242859,
          -27.844690291404724,
          -28.994562404632568,
          -29.063835626602174,
          -29.73139744567871,
          -29.941253242492675,
          -30.47730525970459,
          -30.610425760269166,
          -30.637159929275512,
          -30.973668796539307,
          -31.09669903373718,
          -31.96913751220703,
          -32.04394038105011,
          -32.162368927955626,
          -32.36425898361206,
          -32.692470539093016,
          -33.0679059343338,
          -33.68051300430298,
          -33.87852057647705,
          -34.013333784103395,
          -34.26657956123352,
          -34.34744107437134,
          -34.593008644104,
          -35.36259997749329,
          -35.42347177124024,
          -35.629915534973144,
          -35.75523022460938,
          -35.939338367462156,
          -36.09939532852173,
          -36.44433548164368,
          -36.49502592086792,
          -36.61625845336914,
          -36.87194172668457,
          -37.2829613494873,
          -38.17205982112885,
          -38.594085105896,
          -38.8225578289032,
          -39.60971277618408,
          -40.64761577606201,
          -40.68795061302185,
          -40.818321710586545,
          -41.40181144714356,
          -41.614942314147946,
          -41.70152715682983,
          -42.37023218154907,
          -42.42229664611816,
          -42.63125218009949,
          -43.455936721801756,
          -44.19516198348999,
          -44.61502576637268,
          -47.53115470695496,
          -47.91792207336426,
          -48.000219476699826,
          -48.03715140151978,
          -48.57764341545105,
          -48.81311037445068,
          -48.97639471817017,
          -49.75311089134216,
          -49.7967438545227,
          -53.09281264877319,
          -54.6739995880127,
          -55.05256126403808,
          -56.213299758911134,
          -56.59571976470947,
          -58.03406681823731,
          -58.80442178344727,
          -59.12192886352539,
          -61.07859064292908,
          -62.03099290466309,
          -64.19116162109376,
          -65.3230429763794,
          -65.40108087158202,
          -66.18817706298829,
          -67.12476425170898,
          -71.44405865478515,
          -72.00143618774415,
          -72.6482607574463,
          -91.64076065063476,
          -100.10920989990234,
          -107.72450512695312,
          -130.64685668945313,
          -131.7764916381836
         ]
        }
       ],
       "layout": {
        "height": 500,
        "plot_bgcolor": "white",
        "template": {
         "data": {
          "bar": [
           {
            "error_x": {
             "color": "#2a3f5f"
            },
            "error_y": {
             "color": "#2a3f5f"
            },
            "marker": {
             "line": {
              "color": "#E5ECF6",
              "width": 0.5
             },
             "pattern": {
              "fillmode": "overlay",
              "size": 10,
              "solidity": 0.2
             }
            },
            "type": "bar"
           }
          ],
          "barpolar": [
           {
            "marker": {
             "line": {
              "color": "#E5ECF6",
              "width": 0.5
             },
             "pattern": {
              "fillmode": "overlay",
              "size": 10,
              "solidity": 0.2
             }
            },
            "type": "barpolar"
           }
          ],
          "carpet": [
           {
            "aaxis": {
             "endlinecolor": "#2a3f5f",
             "gridcolor": "white",
             "linecolor": "white",
             "minorgridcolor": "white",
             "startlinecolor": "#2a3f5f"
            },
            "baxis": {
             "endlinecolor": "#2a3f5f",
             "gridcolor": "white",
             "linecolor": "white",
             "minorgridcolor": "white",
             "startlinecolor": "#2a3f5f"
            },
            "type": "carpet"
           }
          ],
          "choropleth": [
           {
            "colorbar": {
             "outlinewidth": 0,
             "ticks": ""
            },
            "type": "choropleth"
           }
          ],
          "contour": [
           {
            "colorbar": {
             "outlinewidth": 0,
             "ticks": ""
            },
            "colorscale": [
             [
              0,
              "#0d0887"
             ],
             [
              0.1111111111111111,
              "#46039f"
             ],
             [
              0.2222222222222222,
              "#7201a8"
             ],
             [
              0.3333333333333333,
              "#9c179e"
             ],
             [
              0.4444444444444444,
              "#bd3786"
             ],
             [
              0.5555555555555556,
              "#d8576b"
             ],
             [
              0.6666666666666666,
              "#ed7953"
             ],
             [
              0.7777777777777778,
              "#fb9f3a"
             ],
             [
              0.8888888888888888,
              "#fdca26"
             ],
             [
              1,
              "#f0f921"
             ]
            ],
            "type": "contour"
           }
          ],
          "contourcarpet": [
           {
            "colorbar": {
             "outlinewidth": 0,
             "ticks": ""
            },
            "type": "contourcarpet"
           }
          ],
          "heatmap": [
           {
            "colorbar": {
             "outlinewidth": 0,
             "ticks": ""
            },
            "colorscale": [
             [
              0,
              "#0d0887"
             ],
             [
              0.1111111111111111,
              "#46039f"
             ],
             [
              0.2222222222222222,
              "#7201a8"
             ],
             [
              0.3333333333333333,
              "#9c179e"
             ],
             [
              0.4444444444444444,
              "#bd3786"
             ],
             [
              0.5555555555555556,
              "#d8576b"
             ],
             [
              0.6666666666666666,
              "#ed7953"
             ],
             [
              0.7777777777777778,
              "#fb9f3a"
             ],
             [
              0.8888888888888888,
              "#fdca26"
             ],
             [
              1,
              "#f0f921"
             ]
            ],
            "type": "heatmap"
           }
          ],
          "heatmapgl": [
           {
            "colorbar": {
             "outlinewidth": 0,
             "ticks": ""
            },
            "colorscale": [
             [
              0,
              "#0d0887"
             ],
             [
              0.1111111111111111,
              "#46039f"
             ],
             [
              0.2222222222222222,
              "#7201a8"
             ],
             [
              0.3333333333333333,
              "#9c179e"
             ],
             [
              0.4444444444444444,
              "#bd3786"
             ],
             [
              0.5555555555555556,
              "#d8576b"
             ],
             [
              0.6666666666666666,
              "#ed7953"
             ],
             [
              0.7777777777777778,
              "#fb9f3a"
             ],
             [
              0.8888888888888888,
              "#fdca26"
             ],
             [
              1,
              "#f0f921"
             ]
            ],
            "type": "heatmapgl"
           }
          ],
          "histogram": [
           {
            "marker": {
             "pattern": {
              "fillmode": "overlay",
              "size": 10,
              "solidity": 0.2
             }
            },
            "type": "histogram"
           }
          ],
          "histogram2d": [
           {
            "colorbar": {
             "outlinewidth": 0,
             "ticks": ""
            },
            "colorscale": [
             [
              0,
              "#0d0887"
             ],
             [
              0.1111111111111111,
              "#46039f"
             ],
             [
              0.2222222222222222,
              "#7201a8"
             ],
             [
              0.3333333333333333,
              "#9c179e"
             ],
             [
              0.4444444444444444,
              "#bd3786"
             ],
             [
              0.5555555555555556,
              "#d8576b"
             ],
             [
              0.6666666666666666,
              "#ed7953"
             ],
             [
              0.7777777777777778,
              "#fb9f3a"
             ],
             [
              0.8888888888888888,
              "#fdca26"
             ],
             [
              1,
              "#f0f921"
             ]
            ],
            "type": "histogram2d"
           }
          ],
          "histogram2dcontour": [
           {
            "colorbar": {
             "outlinewidth": 0,
             "ticks": ""
            },
            "colorscale": [
             [
              0,
              "#0d0887"
             ],
             [
              0.1111111111111111,
              "#46039f"
             ],
             [
              0.2222222222222222,
              "#7201a8"
             ],
             [
              0.3333333333333333,
              "#9c179e"
             ],
             [
              0.4444444444444444,
              "#bd3786"
             ],
             [
              0.5555555555555556,
              "#d8576b"
             ],
             [
              0.6666666666666666,
              "#ed7953"
             ],
             [
              0.7777777777777778,
              "#fb9f3a"
             ],
             [
              0.8888888888888888,
              "#fdca26"
             ],
             [
              1,
              "#f0f921"
             ]
            ],
            "type": "histogram2dcontour"
           }
          ],
          "mesh3d": [
           {
            "colorbar": {
             "outlinewidth": 0,
             "ticks": ""
            },
            "type": "mesh3d"
           }
          ],
          "parcoords": [
           {
            "line": {
             "colorbar": {
              "outlinewidth": 0,
              "ticks": ""
             }
            },
            "type": "parcoords"
           }
          ],
          "pie": [
           {
            "automargin": true,
            "type": "pie"
           }
          ],
          "scatter": [
           {
            "fillpattern": {
             "fillmode": "overlay",
             "size": 10,
             "solidity": 0.2
            },
            "type": "scatter"
           }
          ],
          "scatter3d": [
           {
            "line": {
             "colorbar": {
              "outlinewidth": 0,
              "ticks": ""
             }
            },
            "marker": {
             "colorbar": {
              "outlinewidth": 0,
              "ticks": ""
             }
            },
            "type": "scatter3d"
           }
          ],
          "scattercarpet": [
           {
            "marker": {
             "colorbar": {
              "outlinewidth": 0,
              "ticks": ""
             }
            },
            "type": "scattercarpet"
           }
          ],
          "scattergeo": [
           {
            "marker": {
             "colorbar": {
              "outlinewidth": 0,
              "ticks": ""
             }
            },
            "type": "scattergeo"
           }
          ],
          "scattergl": [
           {
            "marker": {
             "colorbar": {
              "outlinewidth": 0,
              "ticks": ""
             }
            },
            "type": "scattergl"
           }
          ],
          "scattermapbox": [
           {
            "marker": {
             "colorbar": {
              "outlinewidth": 0,
              "ticks": ""
             }
            },
            "type": "scattermapbox"
           }
          ],
          "scatterpolar": [
           {
            "marker": {
             "colorbar": {
              "outlinewidth": 0,
              "ticks": ""
             }
            },
            "type": "scatterpolar"
           }
          ],
          "scatterpolargl": [
           {
            "marker": {
             "colorbar": {
              "outlinewidth": 0,
              "ticks": ""
             }
            },
            "type": "scatterpolargl"
           }
          ],
          "scatterternary": [
           {
            "marker": {
             "colorbar": {
              "outlinewidth": 0,
              "ticks": ""
             }
            },
            "type": "scatterternary"
           }
          ],
          "surface": [
           {
            "colorbar": {
             "outlinewidth": 0,
             "ticks": ""
            },
            "colorscale": [
             [
              0,
              "#0d0887"
             ],
             [
              0.1111111111111111,
              "#46039f"
             ],
             [
              0.2222222222222222,
              "#7201a8"
             ],
             [
              0.3333333333333333,
              "#9c179e"
             ],
             [
              0.4444444444444444,
              "#bd3786"
             ],
             [
              0.5555555555555556,
              "#d8576b"
             ],
             [
              0.6666666666666666,
              "#ed7953"
             ],
             [
              0.7777777777777778,
              "#fb9f3a"
             ],
             [
              0.8888888888888888,
              "#fdca26"
             ],
             [
              1,
              "#f0f921"
             ]
            ],
            "type": "surface"
           }
          ],
          "table": [
           {
            "cells": {
             "fill": {
              "color": "#EBF0F8"
             },
             "line": {
              "color": "white"
             }
            },
            "header": {
             "fill": {
              "color": "#C8D4E3"
             },
             "line": {
              "color": "white"
             }
            },
            "type": "table"
           }
          ]
         },
         "layout": {
          "annotationdefaults": {
           "arrowcolor": "#2a3f5f",
           "arrowhead": 0,
           "arrowwidth": 1
          },
          "autotypenumbers": "strict",
          "coloraxis": {
           "colorbar": {
            "outlinewidth": 0,
            "ticks": ""
           }
          },
          "colorscale": {
           "diverging": [
            [
             0,
             "#8e0152"
            ],
            [
             0.1,
             "#c51b7d"
            ],
            [
             0.2,
             "#de77ae"
            ],
            [
             0.3,
             "#f1b6da"
            ],
            [
             0.4,
             "#fde0ef"
            ],
            [
             0.5,
             "#f7f7f7"
            ],
            [
             0.6,
             "#e6f5d0"
            ],
            [
             0.7,
             "#b8e186"
            ],
            [
             0.8,
             "#7fbc41"
            ],
            [
             0.9,
             "#4d9221"
            ],
            [
             1,
             "#276419"
            ]
           ],
           "sequential": [
            [
             0,
             "#0d0887"
            ],
            [
             0.1111111111111111,
             "#46039f"
            ],
            [
             0.2222222222222222,
             "#7201a8"
            ],
            [
             0.3333333333333333,
             "#9c179e"
            ],
            [
             0.4444444444444444,
             "#bd3786"
            ],
            [
             0.5555555555555556,
             "#d8576b"
            ],
            [
             0.6666666666666666,
             "#ed7953"
            ],
            [
             0.7777777777777778,
             "#fb9f3a"
            ],
            [
             0.8888888888888888,
             "#fdca26"
            ],
            [
             1,
             "#f0f921"
            ]
           ],
           "sequentialminus": [
            [
             0,
             "#0d0887"
            ],
            [
             0.1111111111111111,
             "#46039f"
            ],
            [
             0.2222222222222222,
             "#7201a8"
            ],
            [
             0.3333333333333333,
             "#9c179e"
            ],
            [
             0.4444444444444444,
             "#bd3786"
            ],
            [
             0.5555555555555556,
             "#d8576b"
            ],
            [
             0.6666666666666666,
             "#ed7953"
            ],
            [
             0.7777777777777778,
             "#fb9f3a"
            ],
            [
             0.8888888888888888,
             "#fdca26"
            ],
            [
             1,
             "#f0f921"
            ]
           ]
          },
          "colorway": [
           "#636efa",
           "#EF553B",
           "#00cc96",
           "#ab63fa",
           "#FFA15A",
           "#19d3f3",
           "#FF6692",
           "#B6E880",
           "#FF97FF",
           "#FECB52"
          ],
          "font": {
           "color": "#2a3f5f"
          },
          "geo": {
           "bgcolor": "white",
           "lakecolor": "white",
           "landcolor": "#E5ECF6",
           "showlakes": true,
           "showland": true,
           "subunitcolor": "white"
          },
          "hoverlabel": {
           "align": "left"
          },
          "hovermode": "closest",
          "mapbox": {
           "style": "light"
          },
          "paper_bgcolor": "white",
          "plot_bgcolor": "#E5ECF6",
          "polar": {
           "angularaxis": {
            "gridcolor": "white",
            "linecolor": "white",
            "ticks": ""
           },
           "bgcolor": "#E5ECF6",
           "radialaxis": {
            "gridcolor": "white",
            "linecolor": "white",
            "ticks": ""
           }
          },
          "scene": {
           "xaxis": {
            "backgroundcolor": "#E5ECF6",
            "gridcolor": "white",
            "gridwidth": 2,
            "linecolor": "white",
            "showbackground": true,
            "ticks": "",
            "zerolinecolor": "white"
           },
           "yaxis": {
            "backgroundcolor": "#E5ECF6",
            "gridcolor": "white",
            "gridwidth": 2,
            "linecolor": "white",
            "showbackground": true,
            "ticks": "",
            "zerolinecolor": "white"
           },
           "zaxis": {
            "backgroundcolor": "#E5ECF6",
            "gridcolor": "white",
            "gridwidth": 2,
            "linecolor": "white",
            "showbackground": true,
            "ticks": "",
            "zerolinecolor": "white"
           }
          },
          "shapedefaults": {
           "line": {
            "color": "#2a3f5f"
           }
          },
          "ternary": {
           "aaxis": {
            "gridcolor": "white",
            "linecolor": "white",
            "ticks": ""
           },
           "baxis": {
            "gridcolor": "white",
            "linecolor": "white",
            "ticks": ""
           },
           "bgcolor": "#E5ECF6",
           "caxis": {
            "gridcolor": "white",
            "linecolor": "white",
            "ticks": ""
           }
          },
          "title": {
           "x": 0.05
          },
          "xaxis": {
           "automargin": true,
           "gridcolor": "white",
           "linecolor": "white",
           "ticks": "",
           "title": {
            "standoff": 15
           },
           "zerolinecolor": "white",
           "zerolinewidth": 2
          },
          "yaxis": {
           "automargin": true,
           "gridcolor": "white",
           "linecolor": "white",
           "ticks": "",
           "title": {
            "standoff": 15
           },
           "zerolinecolor": "white",
           "zerolinewidth": 2
          }
         }
        },
        "title": {
         "text": "Information Gain from first 1000 SAE features"
        },
        "width": 800,
        "xaxis": {
         "title": {
          "text": "Feature #"
         }
        },
        "yaxis": {
         "gridcolor": "DarkGray",
         "gridwidth": 2,
         "showgrid": true,
         "title": {
          "text": "Information Gain"
         },
         "zeroline": true,
         "zerolinecolor": "Black",
         "zerolinewidth": 2
        }
       }
      },
      "text/html": [
       "<div>                            <div id=\"282b78db-be22-458c-8f48-e7dc107de15a\" class=\"plotly-graph-div\" style=\"height:500px; width:800px;\"></div>            <script type=\"text/javascript\">                require([\"plotly\"], function(Plotly) {                    window.PLOTLYENV=window.PLOTLYENV || {};                                    if (document.getElementById(\"282b78db-be22-458c-8f48-e7dc107de15a\")) {                    Plotly.newPlot(                        \"282b78db-be22-458c-8f48-e7dc107de15a\",                        [{\"marker\":{\"color\":\"DarkRed\"},\"width\":2,\"x\":[\"#0\",\"#1\",\"#2\",\"#3\",\"#4\",\"#5\",\"#6\",\"#7\",\"#8\",\"#9\",\"#10\",\"#11\",\"#12\",\"#13\",\"#14\",\"#15\",\"#16\",\"#17\",\"#18\",\"#19\",\"#20\",\"#21\",\"#22\",\"#23\",\"#24\",\"#25\",\"#26\",\"#27\",\"#28\",\"#29\",\"#30\",\"#31\",\"#32\",\"#33\",\"#34\",\"#35\",\"#36\",\"#37\",\"#38\",\"#39\",\"#40\",\"#41\",\"#42\",\"#43\",\"#44\",\"#45\",\"#46\",\"#47\",\"#48\",\"#49\",\"#50\",\"#51\",\"#52\",\"#53\",\"#54\",\"#55\",\"#56\",\"#57\",\"#58\",\"#59\",\"#60\",\"#61\",\"#62\",\"#63\",\"#64\",\"#65\",\"#66\",\"#67\",\"#68\",\"#69\",\"#70\",\"#71\",\"#72\",\"#73\",\"#74\",\"#75\",\"#76\",\"#77\",\"#78\",\"#79\",\"#80\",\"#81\",\"#82\",\"#83\",\"#84\",\"#85\",\"#86\",\"#87\",\"#88\",\"#89\",\"#90\",\"#91\",\"#92\",\"#93\",\"#94\",\"#95\",\"#96\",\"#97\",\"#98\",\"#99\",\"#100\",\"#101\",\"#102\",\"#103\",\"#104\",\"#105\",\"#106\",\"#107\",\"#108\",\"#109\",\"#110\",\"#111\",\"#112\",\"#113\",\"#114\",\"#115\",\"#116\",\"#117\",\"#118\",\"#119\",\"#120\",\"#121\",\"#122\",\"#123\",\"#124\",\"#125\",\"#126\",\"#127\",\"#128\",\"#129\",\"#130\",\"#131\",\"#132\",\"#133\",\"#134\",\"#135\",\"#136\",\"#137\",\"#138\",\"#139\",\"#140\",\"#141\",\"#142\",\"#143\",\"#144\",\"#145\",\"#146\",\"#147\",\"#148\",\"#149\",\"#150\",\"#151\",\"#152\",\"#153\",\"#154\",\"#155\",\"#156\",\"#157\",\"#158\",\"#159\",\"#160\",\"#161\",\"#162\",\"#163\",\"#164\",\"#165\",\"#166\",\"#167\",\"#168\",\"#169\",\"#170\",\"#171\",\"#172\",\"#173\",\"#174\",\"#175\",\"#176\",\"#177\",\"#178\",\"#179\",\"#180\",\"#181\",\"#182\",\"#183\",\"#184\",\"#185\",\"#186\",\"#187\",\"#188\",\"#189\",\"#190\",\"#191\",\"#192\",\"#193\",\"#194\",\"#195\",\"#196\",\"#197\",\"#198\",\"#199\",\"#200\",\"#201\",\"#202\",\"#203\",\"#204\",\"#205\",\"#206\",\"#207\",\"#208\",\"#209\",\"#210\",\"#211\",\"#212\",\"#213\",\"#214\",\"#215\",\"#216\",\"#217\",\"#218\",\"#219\",\"#220\",\"#221\",\"#222\",\"#223\",\"#224\",\"#225\",\"#226\",\"#227\",\"#228\",\"#229\",\"#230\",\"#231\",\"#232\",\"#233\",\"#234\",\"#235\",\"#236\",\"#237\",\"#238\",\"#239\",\"#240\",\"#241\",\"#242\",\"#243\",\"#244\",\"#245\",\"#246\",\"#247\",\"#248\",\"#249\",\"#250\",\"#251\",\"#252\",\"#253\",\"#254\",\"#255\",\"#256\",\"#257\",\"#258\",\"#259\",\"#260\",\"#261\",\"#262\",\"#263\",\"#264\",\"#265\",\"#266\",\"#267\",\"#268\",\"#269\",\"#270\",\"#271\",\"#272\",\"#273\",\"#274\",\"#275\",\"#276\",\"#277\",\"#278\",\"#279\",\"#280\",\"#281\",\"#282\",\"#283\",\"#284\",\"#285\",\"#286\",\"#287\",\"#288\",\"#289\",\"#290\",\"#291\",\"#292\",\"#293\",\"#294\",\"#295\",\"#296\",\"#297\",\"#298\",\"#299\",\"#300\",\"#301\",\"#302\",\"#303\",\"#304\",\"#305\",\"#306\",\"#307\",\"#308\",\"#309\",\"#310\",\"#311\",\"#312\",\"#313\",\"#314\",\"#315\",\"#316\",\"#317\",\"#318\",\"#319\",\"#320\",\"#321\",\"#322\",\"#323\",\"#324\",\"#325\",\"#326\",\"#327\",\"#328\",\"#329\",\"#330\",\"#331\",\"#332\",\"#333\",\"#334\",\"#335\",\"#336\",\"#337\",\"#338\",\"#339\",\"#340\",\"#341\",\"#342\",\"#343\",\"#344\",\"#345\",\"#346\",\"#347\",\"#348\",\"#349\",\"#350\",\"#351\",\"#352\",\"#353\",\"#354\",\"#355\",\"#356\",\"#357\",\"#358\",\"#359\",\"#360\",\"#361\",\"#362\",\"#363\",\"#364\",\"#365\",\"#366\",\"#367\",\"#368\",\"#369\",\"#370\",\"#371\",\"#372\",\"#373\",\"#374\",\"#375\",\"#376\",\"#377\",\"#378\",\"#379\",\"#380\",\"#381\",\"#382\",\"#383\",\"#384\",\"#385\",\"#386\",\"#387\",\"#388\",\"#389\",\"#390\",\"#391\",\"#392\",\"#393\",\"#394\",\"#395\",\"#396\",\"#397\",\"#398\",\"#399\",\"#400\",\"#401\",\"#402\",\"#403\",\"#404\",\"#405\",\"#406\",\"#407\",\"#408\",\"#409\",\"#410\",\"#411\",\"#412\",\"#413\",\"#414\",\"#415\",\"#416\",\"#417\",\"#418\",\"#419\",\"#420\",\"#421\",\"#422\",\"#423\",\"#424\",\"#425\",\"#426\",\"#427\",\"#428\",\"#429\",\"#430\",\"#431\",\"#432\",\"#433\",\"#434\",\"#435\",\"#436\",\"#437\",\"#438\",\"#439\",\"#440\",\"#441\",\"#442\",\"#443\",\"#444\",\"#445\",\"#446\",\"#447\",\"#448\",\"#449\",\"#450\",\"#451\",\"#452\",\"#453\",\"#454\",\"#455\",\"#456\",\"#457\",\"#458\",\"#459\",\"#460\",\"#461\",\"#462\",\"#463\",\"#464\",\"#465\",\"#466\",\"#467\",\"#468\",\"#469\",\"#470\",\"#471\",\"#472\",\"#473\",\"#474\",\"#475\",\"#476\",\"#477\",\"#478\",\"#479\",\"#480\",\"#481\",\"#482\",\"#483\",\"#484\",\"#485\",\"#486\",\"#487\",\"#488\",\"#489\",\"#490\",\"#491\",\"#492\",\"#493\",\"#494\",\"#495\",\"#496\",\"#497\",\"#498\",\"#499\",\"#500\",\"#501\",\"#502\",\"#503\",\"#504\",\"#505\",\"#506\",\"#507\",\"#508\",\"#509\",\"#510\",\"#511\",\"#512\",\"#513\",\"#514\",\"#515\",\"#516\",\"#517\",\"#518\",\"#519\",\"#520\",\"#521\",\"#522\",\"#523\",\"#524\",\"#525\",\"#526\",\"#527\",\"#528\",\"#529\",\"#530\",\"#531\",\"#532\",\"#533\",\"#534\",\"#535\",\"#536\",\"#537\",\"#538\",\"#539\",\"#540\",\"#541\",\"#542\",\"#543\",\"#544\",\"#545\",\"#546\",\"#547\",\"#548\",\"#549\",\"#550\",\"#551\",\"#552\",\"#553\",\"#554\",\"#555\",\"#556\",\"#557\",\"#558\",\"#559\",\"#560\",\"#561\",\"#562\",\"#563\",\"#564\",\"#565\",\"#566\",\"#567\",\"#568\",\"#569\",\"#570\",\"#571\",\"#572\",\"#573\",\"#574\",\"#575\",\"#576\",\"#577\",\"#578\",\"#579\",\"#580\",\"#581\",\"#582\",\"#583\",\"#584\",\"#585\",\"#586\",\"#587\",\"#588\",\"#589\",\"#590\",\"#591\",\"#592\",\"#593\",\"#594\",\"#595\",\"#596\",\"#597\",\"#598\",\"#599\",\"#600\",\"#601\",\"#602\",\"#603\",\"#604\",\"#605\",\"#606\",\"#607\",\"#608\",\"#609\",\"#610\",\"#611\",\"#612\",\"#613\",\"#614\",\"#615\",\"#616\",\"#617\",\"#618\",\"#619\",\"#620\",\"#621\",\"#622\",\"#623\",\"#624\",\"#625\",\"#626\",\"#627\",\"#628\",\"#629\",\"#630\",\"#631\",\"#632\",\"#633\",\"#634\",\"#635\",\"#636\",\"#637\",\"#638\",\"#639\",\"#640\",\"#641\",\"#642\",\"#643\",\"#644\",\"#645\",\"#646\",\"#647\",\"#648\",\"#649\",\"#650\",\"#651\",\"#652\",\"#653\",\"#654\",\"#655\",\"#656\",\"#657\",\"#658\",\"#659\",\"#660\",\"#661\",\"#662\",\"#663\",\"#664\",\"#665\",\"#666\",\"#667\",\"#668\",\"#669\",\"#670\",\"#671\",\"#672\",\"#673\",\"#674\",\"#675\",\"#676\",\"#677\",\"#678\",\"#679\",\"#680\",\"#681\",\"#682\",\"#683\",\"#684\",\"#685\",\"#686\",\"#687\",\"#688\",\"#689\",\"#690\",\"#691\",\"#692\",\"#693\",\"#694\",\"#695\",\"#696\",\"#697\",\"#698\",\"#699\",\"#700\",\"#701\",\"#702\",\"#703\",\"#704\",\"#705\",\"#706\",\"#707\",\"#708\",\"#709\",\"#710\",\"#711\",\"#712\",\"#713\",\"#714\",\"#715\",\"#716\",\"#717\",\"#718\",\"#719\",\"#720\",\"#721\",\"#722\",\"#723\",\"#724\",\"#725\",\"#726\",\"#727\",\"#728\",\"#729\",\"#730\",\"#731\",\"#732\",\"#733\",\"#734\",\"#735\",\"#736\",\"#737\",\"#738\",\"#739\",\"#740\",\"#741\",\"#742\",\"#743\",\"#744\",\"#745\",\"#746\",\"#747\",\"#748\",\"#749\",\"#750\",\"#751\",\"#752\",\"#753\",\"#754\",\"#755\",\"#756\",\"#757\",\"#758\",\"#759\",\"#760\",\"#761\",\"#762\",\"#763\",\"#764\",\"#765\",\"#766\",\"#767\",\"#768\",\"#769\",\"#770\",\"#771\",\"#772\",\"#773\",\"#774\",\"#775\",\"#776\",\"#777\",\"#778\",\"#779\",\"#780\",\"#781\",\"#782\",\"#783\",\"#784\",\"#785\",\"#786\",\"#787\",\"#788\",\"#789\",\"#790\",\"#791\",\"#792\",\"#793\",\"#794\",\"#795\",\"#796\",\"#797\",\"#798\",\"#799\",\"#800\",\"#801\",\"#802\",\"#803\",\"#804\",\"#805\",\"#806\",\"#807\",\"#808\",\"#809\",\"#810\",\"#811\",\"#812\",\"#813\",\"#814\",\"#815\",\"#816\",\"#817\",\"#818\",\"#819\",\"#820\",\"#821\",\"#822\",\"#823\",\"#824\",\"#825\",\"#826\",\"#827\",\"#828\",\"#829\",\"#830\",\"#831\",\"#832\",\"#833\",\"#834\",\"#835\",\"#836\",\"#837\",\"#838\",\"#839\",\"#840\",\"#841\",\"#842\",\"#843\",\"#844\",\"#845\",\"#846\",\"#847\",\"#848\",\"#849\",\"#850\",\"#851\",\"#852\",\"#853\",\"#854\",\"#855\",\"#856\",\"#857\",\"#858\",\"#859\",\"#860\",\"#861\",\"#862\",\"#863\",\"#864\",\"#865\",\"#866\",\"#867\",\"#868\",\"#869\",\"#870\",\"#871\",\"#872\",\"#873\",\"#874\",\"#875\",\"#876\",\"#877\",\"#878\",\"#879\",\"#880\",\"#881\",\"#882\",\"#883\",\"#884\",\"#885\",\"#886\",\"#887\",\"#888\",\"#889\",\"#890\",\"#891\",\"#892\",\"#893\",\"#894\",\"#895\",\"#896\",\"#897\",\"#898\",\"#899\",\"#900\",\"#901\",\"#902\",\"#903\",\"#904\",\"#905\",\"#906\",\"#907\",\"#908\",\"#909\",\"#910\",\"#911\",\"#912\",\"#913\",\"#914\",\"#915\",\"#916\",\"#917\",\"#918\",\"#919\",\"#920\",\"#921\",\"#922\",\"#923\",\"#924\",\"#925\",\"#926\",\"#927\",\"#928\",\"#929\",\"#930\",\"#931\",\"#932\",\"#933\",\"#934\",\"#935\",\"#936\",\"#937\",\"#938\",\"#939\",\"#940\",\"#941\",\"#942\",\"#943\",\"#944\",\"#945\",\"#946\",\"#947\",\"#948\",\"#949\",\"#950\",\"#951\",\"#952\",\"#953\",\"#954\",\"#955\",\"#956\",\"#957\",\"#958\",\"#959\",\"#960\",\"#961\",\"#962\",\"#963\",\"#964\",\"#965\",\"#966\",\"#967\",\"#968\",\"#969\",\"#970\",\"#971\",\"#972\",\"#973\",\"#974\",\"#975\",\"#976\",\"#977\",\"#978\",\"#979\",\"#980\",\"#981\",\"#982\",\"#983\",\"#984\",\"#985\",\"#986\",\"#987\",\"#988\",\"#989\",\"#990\",\"#991\",\"#992\",\"#993\",\"#994\",\"#995\",\"#996\",\"#997\",\"#998\",\"#999\"],\"y\":[95.4289651184082,90.37055743408203,89.33388391113282,89.25090075683593,87.66433575439453,82.218896484375,81.802345703125,80.95896047973633,80.60480368041992,79.09310131835937,78.73687298583984,77.16919458007813,76.931724609375,76.83486990356445,75.78750817871094,75.50454614257812,73.98928598022461,73.05777938842773,72.47374771118164,72.336228515625,72.27674127197265,70.82257501220703,70.8011287689209,70.44489840698242,69.79581408691406,69.22678875732421,69.13209002685547,69.1261053466797,68.92093627929688,68.92039277648925,68.78690689086915,68.77249877929688,68.40550469970704,68.1696552734375,68.11146380615234,68.02282769775391,67.83297204589844,67.23224359130859,66.90304681396485,66.75474475097656,66.65238473510742,66.31173773193359,66.11876751708985,65.92213827514648,65.8301577758789,65.79303020477295,65.46646685791016,65.36699786376953,65.23176443481445,64.72799685668946,64.64772625732422,63.79378582763672,63.512448486328125,62.79179248046875,62.44190606689453,62.35151281738281,62.15190362548828,62.03664288330078,61.99058096313477,61.672759635925296,61.6305498046875,61.62756832885742,61.41641416168213,61.264792510986325,61.229476379394534,60.8181921081543,60.289041320800784,58.83905462646484,58.7821882019043,58.475750205993656,58.26097351074219,58.12410864257812,57.76078108215332,57.287423095703126,57.18972540283203,56.65433526611328,56.57311141967774,56.50240026855469,55.728591812133786,55.48798101806641,55.39706747436524,55.20512168884277,54.8552776184082,54.506521484375,54.5038225402832,54.19453198242188,54.15593468475342,53.981206268310544,53.853137634277346,53.689394676208494,53.5553462524414,53.151678955078125,52.642782104492184,51.83779113769531,51.82102326202393,51.4541431427002,51.01358874511719,50.972242980957034,50.93437147521973,50.78548115539551,50.556372283935545,50.4479782409668,50.17111654663086,50.03859950256348,49.81199592590332,49.32980499267578,49.32423541259766,49.1906722946167,48.33843882751465,48.16989957427978,48.15348899078369,47.48606927490234,47.47078610229492,47.2150450592041,47.21488104248047,46.97715689086914,46.87897201538086,46.630374603271484,46.09887406921387,46.01092392730713,45.832703229904176,45.345898582458496,45.1195106048584,45.026859375,44.812682518005374,44.642739620208744,44.585449005126954,44.5313568725586,44.516817321777346,44.35342497253418,44.09761979675293,43.91593803405762,43.63200733184814,43.345819549560545,43.335400802612305,42.98401978302002,42.971193908691404,42.86106056976318,42.26275765991211,41.92299966430664,41.528521423339846,41.4342029876709,40.977011520385744,40.87450082397461,40.48162205505371,40.47263180541992,40.206232040405276,39.91085871887207,39.68749732971192,39.20927642822266,39.0588443145752,38.61466863059997,38.446883277893065,38.444845558166506,38.317090278625486,38.223189140319825,38.02244746398926,37.8808860168457,37.47782914352417,36.79895257568359,36.70558917236328,36.10132341766357,35.62112194824219,35.323348182678224,35.28072457885742,35.20794966125488,35.02558293151856,34.83536949920654,34.75788746643067,34.70227018737793,34.546613632202146,34.424012741088866,34.23332847595215,33.93303818511963,33.820891761779784,33.791660217285155,33.61846069717407,33.33627349090576,33.32907080841064,33.31501238250733,33.31331242370605,32.84073062133789,32.3642124710083,32.28965285491943,31.30359814453125,30.794884201049804,30.620787773132324,30.521925415039064,30.324405250549315,30.25061388015747,30.241710037231446,30.03846041870117,29.791846282958986,29.614824127197267,29.428308311462402,29.289018295288084,29.21949459075928,29.219354175567627,29.14760637664795,29.044880348205567,28.820702499389647,28.689159034729006,28.240657997131347,28.091689270019533,27.929177574157716,27.214344673156738,27.125213176727296,27.097485694885254,26.61593250274658,26.366078788757324,26.10263512992859,25.957569721221923,25.922443801879883,25.910788913726808,25.548912506103516,25.520004707336426,25.173147911071776,25.028467384338377,24.99940565490723,24.670268558502197,24.653873447418214,24.41777498626709,24.18789310836792,24.179437580108644,24.11297537231445,24.101068298339843,24.067562309265135,24.039510097503662,23.945262031555174,23.822068252563476,23.626537178039552,23.53837976837158,23.030142974853515,22.871373306274414,22.285943435668944,22.151464096069336,22.029614723205565,21.95216423034668,21.909361015319824,21.549561210632323,21.350568771362305,21.10936865615845,20.916673599243165,20.868253112792967,20.131147987365722,20.06124252319336,19.658044258117677,19.648331535339356,19.56305828857422,19.547367767333984,19.39114170074463,18.908525955200194,18.611837684631347,18.434003341674806,18.358584936141966,18.12548028564453,17.974274600982667,17.874773204803468,17.787929679870604,17.63832074356079,17.39637061691284,17.384409713745118,17.27834297180176,17.0890883102417,16.722126991271974,16.65845902633667,16.61971061325073,16.467609413146974,16.382699615478515,16.16492293548584,16.062441146850585,15.817521347045899,15.349772483825683,15.243107692718507,15.165420402526856,14.866489246368408,14.78422315979004,14.364519821166992,14.339660194396973,14.33889868927002,14.296664497375488,13.719080680847169,13.587047458648682,13.30723991394043,13.119360752105713,12.932337211608887,12.622369638442994,12.508466102600098,12.405568061828614,12.01580616760254,11.69291614151001,11.473668184280395,11.334290050506592,10.963002033233643,10.736045387268067,10.684428840637207,10.228629680633546,10.141254852294923,9.841149311065674,9.573542205810547,9.212966934204102,9.20711962890625,9.116756217956542,8.764822235107422,8.758484607696532,8.750790790557861,8.727879341125488,8.691016876220703,8.659072347640992,8.615096933364867,8.562337329864501,8.530459030151366,8.511537200927734,8.383608722686768,7.889677865982056,7.867766434669495,7.3082513389587405,7.146467858314514,6.828084156990052,6.772745040893555,6.707217952728271,6.523409118652344,6.370110496520996,6.2908341455459595,6.163750190734863,6.1523428153991695,6.093178153991699,5.993316019058228,5.96752733039856,5.894166206359864,5.813806907653809,5.752363204956055,5.676823921203614,5.667901840209961,5.652578508377075,5.523251997947693,5.4630690231323245,5.391850238800049,5.341525852203369,5.22793607711792,5.206910179138184,5.123920959472656,5.107540578842163,5.0701447095870975,5.06893660736084,4.955360343933106,4.948625247955322,4.947454397201538,4.904180154323578,4.889505779266357,4.861081508636475,4.755438241958618,4.745090705871582,4.718012687683106,4.678062126159668,4.6724422092437745,4.538424540042877,4.472776395797729,4.282561100006103,4.2645423059463505,4.243038908004761,4.213623794555664,4.175231705665588,4.153831886291504,4.137850714683533,4.059773637771606,3.999785270690918,3.9946680574417113,3.876045142173767,3.82050346326828,3.804029622554779,3.7618273229599,3.666436360359192,3.6475232944488525,3.6140606372356414,3.5901290926933287,3.5397428073883055,3.5222564635276794,3.5052881679534913,3.499921619415283,3.499571430683136,3.4275419549942017,3.397847286224365,3.3759870772361755,3.301870431423187,3.280644268989563,3.175288053035736,3.103033676147461,3.084121777534485,2.997654929637909,2.9192716813087465,2.8538691711425783,2.831510516166687,2.813426206588745,2.8024575357437134,2.785014657020569,2.7847926750183105,2.74924444437027,2.656633771896362,2.6184661922454833,2.6116499195098877,2.592880295753479,2.5907305159568788,2.5663217742443085,2.5239927949905394,2.522777512550354,2.5163684186935424,2.450191615819931,2.39790434217453,2.3719428482055664,2.358004472732544,2.326816821575165,2.3075998644828797,2.294876260280609,2.2748411774635313,2.2732033383846284,2.245473228931427,2.1899704666137696,2.1862364311218263,2.148995931148529,2.1232981643676756,2.1097241916656495,2.073560465812683,2.0597473213672637,1.9977660682201386,1.942669345855713,1.9361323156356811,1.898620616197586,1.8948687489032745,1.836458490371704,1.7621553883552552,1.7491937856674193,1.7470836188793182,1.740718930363655,1.732532211303711,1.7125578532218932,1.698877067565918,1.6905855301618575,1.6702512628436088,1.634361801624298,1.615158263683319,1.6052048482894898,1.5959546132087707,1.5775228452682495,1.5470450897216796,1.5344534330368043,1.5244510750770568,1.5196548795700073,1.5189138479232789,1.5157498931884765,1.482710830450058,1.4595325303077697,1.4172297979593278,1.4161992288827896,1.414658086180687,1.3551192512512207,1.3419207634925843,1.3381508374214173,1.3136982336044312,1.3073273763656617,1.2951052292585372,1.27921018242836,1.259782329082489,1.2528103747367858,1.252714942932129,1.2484580600559712,1.2416716331243516,1.2396422913074494,1.2311215875148773,1.222578887939453,1.2018989748954774,1.1742505865097046,1.1700312268137931,1.1653256993293761,1.1057524299621582,1.0587202852964401,1.0497762105464936,1.0440719281435014,0.976894127368927,0.9129528653621674,0.8902292860746384,0.8884367128014564,0.8714957253932953,0.8328051080703736,0.823459315776825,0.8090962709188462,0.7873243079781532,0.77892098903656,0.7744632537364959,0.7707729663848877,0.7647236062288284,0.7391925054192543,0.7321733865737915,0.6952161794900894,0.6936784400939942,0.6729408578276634,0.6613223814368248,0.644683498620987,0.6411708798408509,0.6209188823699952,0.5928002773523331,0.5794129518270492,0.572803974032402,0.523907859325409,0.49838210558891294,0.49557564067840576,0.4781517241001129,0.4591459338665009,0.4322271032333374,0.42450223755836486,0.38180309677124025,0.37180165243148805,0.35747519254684446,0.33770700201392173,0.3307009599804878,0.32716231444478033,0.31738610339164736,0.29940300858020785,0.28580780667066574,0.2568687617778778,0.25450611126422884,0.25286127531528474,0.2442295014858246,0.23226194524765015,0.22854997944831848,0.221611753821373,0.2145821256637573,0.21334993395209312,0.21288771820068358,0.20636934351921082,0.1875578963458538,0.1726970738172531,0.16470608067512513,0.15541915893554686,0.15432868421077728,0.13167355236411094,0.10527889680862426,0.10395590256154537,0.10148867505788803,0.07407416486740112,0.0636715817451477,0.06053233337402344,0.050591691195964815,0.02236707901954651,0.020367775440216066,0.017445187747478486,0.012942274332046508,-0.020154692590236663,-0.04080291050672531,-0.06565645217895508,-0.06590371942520142,-0.07472225868701934,-0.08071858568489551,-0.08740657368302346,-0.0902454652786255,-0.14174189448356628,-0.14302405166625975,-0.1516971606016159,-0.16138363575935363,-0.18993125441670416,-0.19945712661743165,-0.2070806565284729,-0.22231917119026184,-0.2288340504169464,-0.23009043395519257,-0.241220529705286,-0.2652613508105278,-0.31799176931381223,-0.340665212392807,-0.34574552756547927,-0.3473145087957382,-0.41627614784240724,-0.45047136056423187,-0.4533648343086243,-0.47252143478393555,-0.47350625252723694,-0.47465807723999026,-0.47487075424194336,-0.4760395241379738,-0.48418861228227617,-0.48474486339092254,-0.4912482380270958,-0.5050829410552978,-0.5071541357040406,-0.5107231957316398,-0.5507740664482117,-0.5564555543661117,-0.5823321444988251,-0.6415190458297729,-0.6511148492097855,-0.651575004696846,-0.6699313930273056,-0.6718937798738479,-0.6798668599128723,-0.6855787880420685,-0.7122948247194291,-0.7475807700157165,-0.7635506365299225,-0.7810615849494934,-0.7832677053809166,-0.7856910643577576,-0.7893626333475113,-0.7936939567327499,-0.7946612565517426,-0.8296333105564118,-0.8450393445491791,-0.8488653802871704,-0.8755981712341309,-0.8980301380753517,-0.9113164670467376,-0.9115048339366912,-0.9159354557991027,-0.929650988459587,-0.9368883829116821,-0.9494938061237336,-0.9950437355041504,-1.0003918223381043,-1.0036116421222687,-1.0185085972547532,-1.03338629424572,-1.037287035226822,-1.047177536547184,-1.0475154342651367,-1.087132742524147,-1.0928760759830476,-1.1095518615841866,-1.165619390964508,-1.1785448725223542,-1.1787249965667725,-1.2279340324401855,-1.2325020544528962,-1.2687620396614074,-1.330269541501999,-1.3896826002597809,-1.3985266137123107,-1.4358932826519013,-1.4889209396839143,-1.489860511302948,-1.5239897487163543,-1.5306358413696288,-1.5365836384296416,-1.5505695724487305,-1.5594023811817168,-1.5847773022651672,-1.5981624813079833,-1.603719678401947,-1.6521425058841706,-1.6908157631158829,-1.6915339679718018,-1.7269533190727233,-1.7695728917121887,-1.7802769508361815,-1.7915887579917908,-1.7960936747193337,-1.813672110080719,-1.8359579448699952,-1.8463378708362579,-1.8830178773403168,-1.9152377407550811,-1.9489586632251739,-1.9501922447681428,-1.9647899575233458,-1.9808957796096802,-1.983546169281006,-2.008742569446564,-2.0175235855579374,-2.060721458673477,-2.0759850406646727,-2.1148378858566286,-2.1253556784391403,-2.144038131713867,-2.1508230217695234,-2.2051783303022385,-2.2309221992492674,-2.253336260318756,-2.2821394169330596,-2.2828306541442873,-2.314746804475784,-2.3153673136234283,-2.4429581129550932,-2.5602415163516996,-2.60773064661026,-2.6425151264667512,-2.6792511863708497,-2.6878825845718386,-2.7323093502521516,-2.7324711670875548,-2.7679658765792845,-2.798724654197693,-2.9184716703891755,-2.9321051511764527,-2.934433709979057,-2.940283899784088,-2.9504596407413484,-2.9890861237049102,-3.012960411071777,-3.1183451273441314,-3.1245127577781675,-3.163804485321045,-3.2066043317317963,-3.2090148804187772,-3.2129086265563966,-3.2593100290298462,-3.26857963180542,-3.2802953324317934,-3.285200843811035,-3.3115913701057433,-3.3266622378826143,-3.342039475440979,-3.346536201715469,-3.42664173412323,-3.5441666193008423,-3.5798654778003693,-3.6917839288711547,-3.7308797991275786,-3.9168605394363403,-4.062912749767303,-4.067371438980103,-4.069719045400619,-4.096343982696533,-4.1335046072006225,-4.167631722211838,-4.1909200401306155,-4.201336692810059,-4.231955020904541,-4.258938007354736,-4.317106694221496,-4.340937072753906,-4.348442450046539,-4.419045127868652,-4.57113157081604,-4.612492017745971,-4.639318877696991,-4.676877977848053,-4.695341887950897,-4.781912338495254,-4.785682693481445,-4.875723257541656,-4.905726840972901,-4.912179664611816,-4.96185099029541,-4.965763618588448,-5.052232079982757,-5.229871130943298,-5.340439967632293,-5.3948760044574735,-5.415411883354187,-5.438705786466598,-5.520595712661743,-5.573915504455567,-5.579439819335938,-5.600876792192459,-5.715922290802002,-5.738800246715545,-5.766741180419922,-5.790677475452423,-5.8174111213684085,-5.818364283561706,-5.845622746944428,-6.0080690741539,-6.01121065044403,-6.062285469055176,-6.066434889316559,-6.076092147827149,-6.107827850341797,-6.24781814956665,-6.288539709568024,-6.298977319478989,-6.420263121843338,-6.5181331615447995,-6.527817407608032,-6.530517829418183,-6.540150022983551,-6.61707539176941,-6.830706961631775,-6.908744430541992,-6.935400440216064,-6.967354987859726,-7.015421321868897,-7.081837085723877,-7.086080108642578,-7.196715087890625,-7.205955104827881,-7.3173488464355465,-7.342370188236236,-7.35007874417305,-7.407536051750183,-7.414419866085052,-7.462567916870118,-7.467317977428436,-7.622751968383789,-7.718338681221009,-7.794228731155395,-7.848239944458008,-7.987608858108521,-8.008163903236388,-8.040126213550568,-8.071638977050782,-8.190516792297363,-8.223572438240051,-8.530185836315155,-8.594520306587219,-8.8411071434021,-9.037976192474366,-9.062868282318115,-9.066565654754639,-9.124607830047607,-9.32003991508484,-9.365560522556304,-9.441865250110625,-9.577179497718811,-9.606749374389649,-9.732737125396728,-9.823096862077714,-10.124711280822753,-10.215149267196654,-10.2424460439682,-10.244849296569825,-10.337215791225434,-10.3492112159729,-10.382792320251465,-10.409428485870361,-10.425976276397705,-10.449292552947998,-10.52830026960373,-10.556091697692871,-10.613878374099732,-11.1636946849823,-11.352098782539368,-11.508255499362946,-11.533061225891114,-11.662750605583192,-11.662794582366944,-11.776800659179688,-11.789836078643798,-11.796787466049194,-11.912976557254792,-12.062431344509125,-12.791192874908447,-12.84148936843872,-12.948514099121093,-12.958643184900284,-13.03275802898407,-13.057977203369141,-13.100669445037841,-13.168916850090026,-13.628933332920074,-13.652248843193053,-13.703073817253113,-13.761722801208496,-13.798823863983154,-13.86181360244751,-14.026485954284668,-14.064635522842407,-14.150361000061036,-14.197399002075196,-14.328333618164063,-14.60123747253418,-15.048908660888673,-15.051044687271117,-15.182759712219239,-15.211710540771485,-15.24143506526947,-15.265646427154541,-15.50993647956848,-15.544746486663819,-15.660958061218262,-15.675900583267213,-16.41521533203125,-16.72249722290039,-17.203171350479128,-17.225850649356843,-17.2849055839777,-18.044473121643065,-18.126417949676515,-18.423533939361572,-18.480768262863158,-18.615956676483155,-19.12593235397339,-19.245575216293336,-19.258566680908203,-19.508853635787965,-19.814758087158204,-20.113638229370117,-20.359784173965455,-20.399084032058717,-20.63333025741577,-20.84991215133667,-21.599256622314453,-21.768016313552856,-21.78223415660858,-22.00487497138977,-22.07393698310852,-22.08909218597412,-22.3246142539978,-22.582735424995423,-22.880843264579774,-22.994460887908936,-23.21498437690735,-23.337623212814332,-24.152019867897035,-24.289184520721435,-24.474642597198486,-24.58725778579712,-24.961473526000976,-25.014809695243834,-25.146849891662598,-25.356223258972168,-25.586708602905272,-25.62930115890503,-25.73133694267273,-25.899046484947206,-26.58018141746521,-26.647818284034727,-26.710804012298585,-26.853343695640564,-26.921542213439942,-26.924155389785767,-27.13667419242859,-27.844690291404724,-28.994562404632568,-29.063835626602174,-29.73139744567871,-29.941253242492675,-30.47730525970459,-30.610425760269166,-30.637159929275512,-30.973668796539307,-31.09669903373718,-31.96913751220703,-32.04394038105011,-32.162368927955626,-32.36425898361206,-32.692470539093016,-33.0679059343338,-33.68051300430298,-33.87852057647705,-34.013333784103395,-34.26657956123352,-34.34744107437134,-34.593008644104,-35.36259997749329,-35.42347177124024,-35.629915534973144,-35.75523022460938,-35.939338367462156,-36.09939532852173,-36.44433548164368,-36.49502592086792,-36.61625845336914,-36.87194172668457,-37.2829613494873,-38.17205982112885,-38.594085105896,-38.8225578289032,-39.60971277618408,-40.64761577606201,-40.68795061302185,-40.818321710586545,-41.40181144714356,-41.614942314147946,-41.70152715682983,-42.37023218154907,-42.42229664611816,-42.63125218009949,-43.455936721801756,-44.19516198348999,-44.61502576637268,-47.53115470695496,-47.91792207336426,-48.000219476699826,-48.03715140151978,-48.57764341545105,-48.81311037445068,-48.97639471817017,-49.75311089134216,-49.7967438545227,-53.09281264877319,-54.6739995880127,-55.05256126403808,-56.213299758911134,-56.59571976470947,-58.03406681823731,-58.80442178344727,-59.12192886352539,-61.07859064292908,-62.03099290466309,-64.19116162109376,-65.3230429763794,-65.40108087158202,-66.18817706298829,-67.12476425170898,-71.44405865478515,-72.00143618774415,-72.6482607574463,-91.64076065063476,-100.10920989990234,-107.72450512695312,-130.64685668945313,-131.7764916381836],\"type\":\"bar\"}],                        {\"template\":{\"data\":{\"histogram2dcontour\":[{\"type\":\"histogram2dcontour\",\"colorbar\":{\"outlinewidth\":0,\"ticks\":\"\"},\"colorscale\":[[0.0,\"#0d0887\"],[0.1111111111111111,\"#46039f\"],[0.2222222222222222,\"#7201a8\"],[0.3333333333333333,\"#9c179e\"],[0.4444444444444444,\"#bd3786\"],[0.5555555555555556,\"#d8576b\"],[0.6666666666666666,\"#ed7953\"],[0.7777777777777778,\"#fb9f3a\"],[0.8888888888888888,\"#fdca26\"],[1.0,\"#f0f921\"]]}],\"choropleth\":[{\"type\":\"choropleth\",\"colorbar\":{\"outlinewidth\":0,\"ticks\":\"\"}}],\"histogram2d\":[{\"type\":\"histogram2d\",\"colorbar\":{\"outlinewidth\":0,\"ticks\":\"\"},\"colorscale\":[[0.0,\"#0d0887\"],[0.1111111111111111,\"#46039f\"],[0.2222222222222222,\"#7201a8\"],[0.3333333333333333,\"#9c179e\"],[0.4444444444444444,\"#bd3786\"],[0.5555555555555556,\"#d8576b\"],[0.6666666666666666,\"#ed7953\"],[0.7777777777777778,\"#fb9f3a\"],[0.8888888888888888,\"#fdca26\"],[1.0,\"#f0f921\"]]}],\"heatmap\":[{\"type\":\"heatmap\",\"colorbar\":{\"outlinewidth\":0,\"ticks\":\"\"},\"colorscale\":[[0.0,\"#0d0887\"],[0.1111111111111111,\"#46039f\"],[0.2222222222222222,\"#7201a8\"],[0.3333333333333333,\"#9c179e\"],[0.4444444444444444,\"#bd3786\"],[0.5555555555555556,\"#d8576b\"],[0.6666666666666666,\"#ed7953\"],[0.7777777777777778,\"#fb9f3a\"],[0.8888888888888888,\"#fdca26\"],[1.0,\"#f0f921\"]]}],\"heatmapgl\":[{\"type\":\"heatmapgl\",\"colorbar\":{\"outlinewidth\":0,\"ticks\":\"\"},\"colorscale\":[[0.0,\"#0d0887\"],[0.1111111111111111,\"#46039f\"],[0.2222222222222222,\"#7201a8\"],[0.3333333333333333,\"#9c179e\"],[0.4444444444444444,\"#bd3786\"],[0.5555555555555556,\"#d8576b\"],[0.6666666666666666,\"#ed7953\"],[0.7777777777777778,\"#fb9f3a\"],[0.8888888888888888,\"#fdca26\"],[1.0,\"#f0f921\"]]}],\"contourcarpet\":[{\"type\":\"contourcarpet\",\"colorbar\":{\"outlinewidth\":0,\"ticks\":\"\"}}],\"contour\":[{\"type\":\"contour\",\"colorbar\":{\"outlinewidth\":0,\"ticks\":\"\"},\"colorscale\":[[0.0,\"#0d0887\"],[0.1111111111111111,\"#46039f\"],[0.2222222222222222,\"#7201a8\"],[0.3333333333333333,\"#9c179e\"],[0.4444444444444444,\"#bd3786\"],[0.5555555555555556,\"#d8576b\"],[0.6666666666666666,\"#ed7953\"],[0.7777777777777778,\"#fb9f3a\"],[0.8888888888888888,\"#fdca26\"],[1.0,\"#f0f921\"]]}],\"surface\":[{\"type\":\"surface\",\"colorbar\":{\"outlinewidth\":0,\"ticks\":\"\"},\"colorscale\":[[0.0,\"#0d0887\"],[0.1111111111111111,\"#46039f\"],[0.2222222222222222,\"#7201a8\"],[0.3333333333333333,\"#9c179e\"],[0.4444444444444444,\"#bd3786\"],[0.5555555555555556,\"#d8576b\"],[0.6666666666666666,\"#ed7953\"],[0.7777777777777778,\"#fb9f3a\"],[0.8888888888888888,\"#fdca26\"],[1.0,\"#f0f921\"]]}],\"mesh3d\":[{\"type\":\"mesh3d\",\"colorbar\":{\"outlinewidth\":0,\"ticks\":\"\"}}],\"scatter\":[{\"fillpattern\":{\"fillmode\":\"overlay\",\"size\":10,\"solidity\":0.2},\"type\":\"scatter\"}],\"parcoords\":[{\"type\":\"parcoords\",\"line\":{\"colorbar\":{\"outlinewidth\":0,\"ticks\":\"\"}}}],\"scatterpolargl\":[{\"type\":\"scatterpolargl\",\"marker\":{\"colorbar\":{\"outlinewidth\":0,\"ticks\":\"\"}}}],\"bar\":[{\"error_x\":{\"color\":\"#2a3f5f\"},\"error_y\":{\"color\":\"#2a3f5f\"},\"marker\":{\"line\":{\"color\":\"#E5ECF6\",\"width\":0.5},\"pattern\":{\"fillmode\":\"overlay\",\"size\":10,\"solidity\":0.2}},\"type\":\"bar\"}],\"scattergeo\":[{\"type\":\"scattergeo\",\"marker\":{\"colorbar\":{\"outlinewidth\":0,\"ticks\":\"\"}}}],\"scatterpolar\":[{\"type\":\"scatterpolar\",\"marker\":{\"colorbar\":{\"outlinewidth\":0,\"ticks\":\"\"}}}],\"histogram\":[{\"marker\":{\"pattern\":{\"fillmode\":\"overlay\",\"size\":10,\"solidity\":0.2}},\"type\":\"histogram\"}],\"scattergl\":[{\"type\":\"scattergl\",\"marker\":{\"colorbar\":{\"outlinewidth\":0,\"ticks\":\"\"}}}],\"scatter3d\":[{\"type\":\"scatter3d\",\"line\":{\"colorbar\":{\"outlinewidth\":0,\"ticks\":\"\"}},\"marker\":{\"colorbar\":{\"outlinewidth\":0,\"ticks\":\"\"}}}],\"scattermapbox\":[{\"type\":\"scattermapbox\",\"marker\":{\"colorbar\":{\"outlinewidth\":0,\"ticks\":\"\"}}}],\"scatterternary\":[{\"type\":\"scatterternary\",\"marker\":{\"colorbar\":{\"outlinewidth\":0,\"ticks\":\"\"}}}],\"scattercarpet\":[{\"type\":\"scattercarpet\",\"marker\":{\"colorbar\":{\"outlinewidth\":0,\"ticks\":\"\"}}}],\"carpet\":[{\"aaxis\":{\"endlinecolor\":\"#2a3f5f\",\"gridcolor\":\"white\",\"linecolor\":\"white\",\"minorgridcolor\":\"white\",\"startlinecolor\":\"#2a3f5f\"},\"baxis\":{\"endlinecolor\":\"#2a3f5f\",\"gridcolor\":\"white\",\"linecolor\":\"white\",\"minorgridcolor\":\"white\",\"startlinecolor\":\"#2a3f5f\"},\"type\":\"carpet\"}],\"table\":[{\"cells\":{\"fill\":{\"color\":\"#EBF0F8\"},\"line\":{\"color\":\"white\"}},\"header\":{\"fill\":{\"color\":\"#C8D4E3\"},\"line\":{\"color\":\"white\"}},\"type\":\"table\"}],\"barpolar\":[{\"marker\":{\"line\":{\"color\":\"#E5ECF6\",\"width\":0.5},\"pattern\":{\"fillmode\":\"overlay\",\"size\":10,\"solidity\":0.2}},\"type\":\"barpolar\"}],\"pie\":[{\"automargin\":true,\"type\":\"pie\"}]},\"layout\":{\"autotypenumbers\":\"strict\",\"colorway\":[\"#636efa\",\"#EF553B\",\"#00cc96\",\"#ab63fa\",\"#FFA15A\",\"#19d3f3\",\"#FF6692\",\"#B6E880\",\"#FF97FF\",\"#FECB52\"],\"font\":{\"color\":\"#2a3f5f\"},\"hovermode\":\"closest\",\"hoverlabel\":{\"align\":\"left\"},\"paper_bgcolor\":\"white\",\"plot_bgcolor\":\"#E5ECF6\",\"polar\":{\"bgcolor\":\"#E5ECF6\",\"angularaxis\":{\"gridcolor\":\"white\",\"linecolor\":\"white\",\"ticks\":\"\"},\"radialaxis\":{\"gridcolor\":\"white\",\"linecolor\":\"white\",\"ticks\":\"\"}},\"ternary\":{\"bgcolor\":\"#E5ECF6\",\"aaxis\":{\"gridcolor\":\"white\",\"linecolor\":\"white\",\"ticks\":\"\"},\"baxis\":{\"gridcolor\":\"white\",\"linecolor\":\"white\",\"ticks\":\"\"},\"caxis\":{\"gridcolor\":\"white\",\"linecolor\":\"white\",\"ticks\":\"\"}},\"coloraxis\":{\"colorbar\":{\"outlinewidth\":0,\"ticks\":\"\"}},\"colorscale\":{\"sequential\":[[0.0,\"#0d0887\"],[0.1111111111111111,\"#46039f\"],[0.2222222222222222,\"#7201a8\"],[0.3333333333333333,\"#9c179e\"],[0.4444444444444444,\"#bd3786\"],[0.5555555555555556,\"#d8576b\"],[0.6666666666666666,\"#ed7953\"],[0.7777777777777778,\"#fb9f3a\"],[0.8888888888888888,\"#fdca26\"],[1.0,\"#f0f921\"]],\"sequentialminus\":[[0.0,\"#0d0887\"],[0.1111111111111111,\"#46039f\"],[0.2222222222222222,\"#7201a8\"],[0.3333333333333333,\"#9c179e\"],[0.4444444444444444,\"#bd3786\"],[0.5555555555555556,\"#d8576b\"],[0.6666666666666666,\"#ed7953\"],[0.7777777777777778,\"#fb9f3a\"],[0.8888888888888888,\"#fdca26\"],[1.0,\"#f0f921\"]],\"diverging\":[[0,\"#8e0152\"],[0.1,\"#c51b7d\"],[0.2,\"#de77ae\"],[0.3,\"#f1b6da\"],[0.4,\"#fde0ef\"],[0.5,\"#f7f7f7\"],[0.6,\"#e6f5d0\"],[0.7,\"#b8e186\"],[0.8,\"#7fbc41\"],[0.9,\"#4d9221\"],[1,\"#276419\"]]},\"xaxis\":{\"gridcolor\":\"white\",\"linecolor\":\"white\",\"ticks\":\"\",\"title\":{\"standoff\":15},\"zerolinecolor\":\"white\",\"automargin\":true,\"zerolinewidth\":2},\"yaxis\":{\"gridcolor\":\"white\",\"linecolor\":\"white\",\"ticks\":\"\",\"title\":{\"standoff\":15},\"zerolinecolor\":\"white\",\"automargin\":true,\"zerolinewidth\":2},\"scene\":{\"xaxis\":{\"backgroundcolor\":\"#E5ECF6\",\"gridcolor\":\"white\",\"linecolor\":\"white\",\"showbackground\":true,\"ticks\":\"\",\"zerolinecolor\":\"white\",\"gridwidth\":2},\"yaxis\":{\"backgroundcolor\":\"#E5ECF6\",\"gridcolor\":\"white\",\"linecolor\":\"white\",\"showbackground\":true,\"ticks\":\"\",\"zerolinecolor\":\"white\",\"gridwidth\":2},\"zaxis\":{\"backgroundcolor\":\"#E5ECF6\",\"gridcolor\":\"white\",\"linecolor\":\"white\",\"showbackground\":true,\"ticks\":\"\",\"zerolinecolor\":\"white\",\"gridwidth\":2}},\"shapedefaults\":{\"line\":{\"color\":\"#2a3f5f\"}},\"annotationdefaults\":{\"arrowcolor\":\"#2a3f5f\",\"arrowhead\":0,\"arrowwidth\":1},\"geo\":{\"bgcolor\":\"white\",\"landcolor\":\"#E5ECF6\",\"subunitcolor\":\"white\",\"showland\":true,\"showlakes\":true,\"lakecolor\":\"white\"},\"title\":{\"x\":0.05},\"mapbox\":{\"style\":\"light\"}}},\"title\":{\"text\":\"Information Gain from first 1000 SAE features\"},\"plot_bgcolor\":\"white\",\"xaxis\":{\"title\":{\"text\":\"Feature #\"}},\"yaxis\":{\"title\":{\"text\":\"Information Gain\"},\"showgrid\":true,\"gridwidth\":2,\"gridcolor\":\"DarkGray\",\"zeroline\":true,\"zerolinewidth\":2,\"zerolinecolor\":\"Black\"},\"width\":800,\"height\":500},                        {\"responsive\": true}                    ).then(function(){\n",
       "                            \n",
       "var gd = document.getElementById('282b78db-be22-458c-8f48-e7dc107de15a');\n",
       "var x = new MutationObserver(function (mutations, observer) {{\n",
       "        var display = window.getComputedStyle(gd).display;\n",
       "        if (!display || display === 'none') {{\n",
       "            console.log([gd, 'removed!']);\n",
       "            Plotly.purge(gd);\n",
       "            observer.disconnect();\n",
       "        }}\n",
       "}});\n",
       "\n",
       "// Listen for the removal of the full notebook cells\n",
       "var notebookContainer = gd.closest('#notebook-container');\n",
       "if (notebookContainer) {{\n",
       "    x.observe(notebookContainer, {childList: true});\n",
       "}}\n",
       "\n",
       "// Listen for the clearing of the current output cell\n",
       "var outputEl = gd.closest('.output');\n",
       "if (outputEl) {{\n",
       "    x.observe(outputEl, {childList: true});\n",
       "}}\n",
       "\n",
       "                        })                };                });            </script>        </div>"
      ]
     },
     "metadata": {},
     "output_type": "display_data"
    }
   ],
   "source": [
    "fig = go.Figure()\n",
    "fig.add_trace(go.Bar(x=[f'#{i}' for i in range(1000)], y=sorted(information_gains_, reverse=True), marker_color='DarkRed', width=2))\n",
    "fig.update_layout(title='Information Gain from first 1000 SAE features')\n",
    "fig.update_layout(plot_bgcolor='white')\n",
    "fig.update_xaxes(title_text='Feature #')\n",
    "fig.update_yaxes(title_text='Information Gain')\n",
    "fig.update_layout(width=800, height=500)\n",
    "# y-axis grid lines\n",
    "fig.update_yaxes(showgrid=True, gridwidth=2, gridcolor='DarkGray')\n",
    "# show zero line\n",
    "fig.update_yaxes(zeroline=True, zerolinewidth=2, zerolinecolor='Black')\n",
    "fig.show()"
   ]
  },
  {
   "cell_type": "code",
   "execution_count": null,
   "metadata": {},
   "outputs": [],
   "source": []
  },
  {
   "cell_type": "code",
   "execution_count": 17,
   "metadata": {},
   "outputs": [],
   "source": [
    "top_100_features = sorted(range(len(information_gains_)), key=lambda i: information_gains_[i], reverse=True)[:100]"
   ]
  },
  {
   "cell_type": "code",
   "execution_count": 18,
   "metadata": {},
   "outputs": [
    {
     "data": {
      "application/vnd.plotly.v1+json": {
       "config": {
        "plotlyServerURL": "https://plot.ly"
       },
       "data": [
        {
         "marker": {
          "color": "DarkRed"
         },
         "type": "bar",
         "x": [
          "#646",
          "#578",
          "#58",
          "#479",
          "#868",
          "#901",
          "#651",
          "#622",
          "#307",
          "#680",
          "#889",
          "#503",
          "#438",
          "#184",
          "#859",
          "#275",
          "#379",
          "#436",
          "#174",
          "#363",
          "#127",
          "#918",
          "#140",
          "#78",
          "#652",
          "#754",
          "#764",
          "#7",
          "#922",
          "#796",
          "#468",
          "#677",
          "#584",
          "#962",
          "#93",
          "#33",
          "#10",
          "#911",
          "#872",
          "#726",
          "#596",
          "#138",
          "#975",
          "#734",
          "#780",
          "#961",
          "#84",
          "#168",
          "#300",
          "#306",
          "#694",
          "#866",
          "#461",
          "#836",
          "#491",
          "#665",
          "#329",
          "#165",
          "#202",
          "#927",
          "#579",
          "#654",
          "#428",
          "#599",
          "#632",
          "#242",
          "#172",
          "#682",
          "#130",
          "#416",
          "#111",
          "#614",
          "#433",
          "#563",
          "#250",
          "#475",
          "#978",
          "#47",
          "#443",
          "#616",
          "#148",
          "#519",
          "#575",
          "#146",
          "#73",
          "#434",
          "#589",
          "#286",
          "#196",
          "#710",
          "#907",
          "#511",
          "#152",
          "#827",
          "#83",
          "#323",
          "#874",
          "#844",
          "#852",
          "#531"
         ],
         "y": [
          95.4289651184082,
          90.37055743408203,
          89.33388391113282,
          89.25090075683593,
          87.66433575439453,
          82.218896484375,
          81.802345703125,
          80.95896047973633,
          80.60480368041992,
          79.09310131835937,
          78.73687298583984,
          77.16919458007813,
          76.931724609375,
          76.83486990356445,
          75.78750817871094,
          75.50454614257812,
          73.98928598022461,
          73.05777938842773,
          72.47374771118164,
          72.336228515625,
          72.27674127197265,
          70.82257501220703,
          70.8011287689209,
          70.44489840698242,
          69.79581408691406,
          69.22678875732421,
          69.13209002685547,
          69.1261053466797,
          68.92093627929688,
          68.92039277648925,
          68.78690689086915,
          68.77249877929688,
          68.40550469970704,
          68.1696552734375,
          68.11146380615234,
          68.02282769775391,
          67.83297204589844,
          67.23224359130859,
          66.90304681396485,
          66.75474475097656,
          66.65238473510742,
          66.31173773193359,
          66.11876751708985,
          65.92213827514648,
          65.8301577758789,
          65.79303020477295,
          65.46646685791016,
          65.36699786376953,
          65.23176443481445,
          64.72799685668946,
          64.64772625732422,
          63.79378582763672,
          63.512448486328125,
          62.79179248046875,
          62.44190606689453,
          62.35151281738281,
          62.15190362548828,
          62.03664288330078,
          61.99058096313477,
          61.672759635925296,
          61.6305498046875,
          61.62756832885742,
          61.41641416168213,
          61.264792510986325,
          61.229476379394534,
          60.8181921081543,
          60.289041320800784,
          58.83905462646484,
          58.7821882019043,
          58.475750205993656,
          58.26097351074219,
          58.12410864257812,
          57.76078108215332,
          57.287423095703126,
          57.18972540283203,
          56.65433526611328,
          56.57311141967774,
          56.50240026855469,
          55.728591812133786,
          55.48798101806641,
          55.39706747436524,
          55.20512168884277,
          54.8552776184082,
          54.506521484375,
          54.5038225402832,
          54.19453198242188,
          54.15593468475342,
          53.981206268310544,
          53.853137634277346,
          53.689394676208494,
          53.5553462524414,
          53.151678955078125,
          52.642782104492184,
          51.83779113769531,
          51.82102326202393,
          51.4541431427002,
          51.01358874511719,
          50.972242980957034,
          50.93437147521973,
          50.78548115539551
         ]
        }
       ],
       "layout": {
        "height": 500,
        "plot_bgcolor": "white",
        "template": {
         "data": {
          "bar": [
           {
            "error_x": {
             "color": "#2a3f5f"
            },
            "error_y": {
             "color": "#2a3f5f"
            },
            "marker": {
             "line": {
              "color": "#E5ECF6",
              "width": 0.5
             },
             "pattern": {
              "fillmode": "overlay",
              "size": 10,
              "solidity": 0.2
             }
            },
            "type": "bar"
           }
          ],
          "barpolar": [
           {
            "marker": {
             "line": {
              "color": "#E5ECF6",
              "width": 0.5
             },
             "pattern": {
              "fillmode": "overlay",
              "size": 10,
              "solidity": 0.2
             }
            },
            "type": "barpolar"
           }
          ],
          "carpet": [
           {
            "aaxis": {
             "endlinecolor": "#2a3f5f",
             "gridcolor": "white",
             "linecolor": "white",
             "minorgridcolor": "white",
             "startlinecolor": "#2a3f5f"
            },
            "baxis": {
             "endlinecolor": "#2a3f5f",
             "gridcolor": "white",
             "linecolor": "white",
             "minorgridcolor": "white",
             "startlinecolor": "#2a3f5f"
            },
            "type": "carpet"
           }
          ],
          "choropleth": [
           {
            "colorbar": {
             "outlinewidth": 0,
             "ticks": ""
            },
            "type": "choropleth"
           }
          ],
          "contour": [
           {
            "colorbar": {
             "outlinewidth": 0,
             "ticks": ""
            },
            "colorscale": [
             [
              0,
              "#0d0887"
             ],
             [
              0.1111111111111111,
              "#46039f"
             ],
             [
              0.2222222222222222,
              "#7201a8"
             ],
             [
              0.3333333333333333,
              "#9c179e"
             ],
             [
              0.4444444444444444,
              "#bd3786"
             ],
             [
              0.5555555555555556,
              "#d8576b"
             ],
             [
              0.6666666666666666,
              "#ed7953"
             ],
             [
              0.7777777777777778,
              "#fb9f3a"
             ],
             [
              0.8888888888888888,
              "#fdca26"
             ],
             [
              1,
              "#f0f921"
             ]
            ],
            "type": "contour"
           }
          ],
          "contourcarpet": [
           {
            "colorbar": {
             "outlinewidth": 0,
             "ticks": ""
            },
            "type": "contourcarpet"
           }
          ],
          "heatmap": [
           {
            "colorbar": {
             "outlinewidth": 0,
             "ticks": ""
            },
            "colorscale": [
             [
              0,
              "#0d0887"
             ],
             [
              0.1111111111111111,
              "#46039f"
             ],
             [
              0.2222222222222222,
              "#7201a8"
             ],
             [
              0.3333333333333333,
              "#9c179e"
             ],
             [
              0.4444444444444444,
              "#bd3786"
             ],
             [
              0.5555555555555556,
              "#d8576b"
             ],
             [
              0.6666666666666666,
              "#ed7953"
             ],
             [
              0.7777777777777778,
              "#fb9f3a"
             ],
             [
              0.8888888888888888,
              "#fdca26"
             ],
             [
              1,
              "#f0f921"
             ]
            ],
            "type": "heatmap"
           }
          ],
          "heatmapgl": [
           {
            "colorbar": {
             "outlinewidth": 0,
             "ticks": ""
            },
            "colorscale": [
             [
              0,
              "#0d0887"
             ],
             [
              0.1111111111111111,
              "#46039f"
             ],
             [
              0.2222222222222222,
              "#7201a8"
             ],
             [
              0.3333333333333333,
              "#9c179e"
             ],
             [
              0.4444444444444444,
              "#bd3786"
             ],
             [
              0.5555555555555556,
              "#d8576b"
             ],
             [
              0.6666666666666666,
              "#ed7953"
             ],
             [
              0.7777777777777778,
              "#fb9f3a"
             ],
             [
              0.8888888888888888,
              "#fdca26"
             ],
             [
              1,
              "#f0f921"
             ]
            ],
            "type": "heatmapgl"
           }
          ],
          "histogram": [
           {
            "marker": {
             "pattern": {
              "fillmode": "overlay",
              "size": 10,
              "solidity": 0.2
             }
            },
            "type": "histogram"
           }
          ],
          "histogram2d": [
           {
            "colorbar": {
             "outlinewidth": 0,
             "ticks": ""
            },
            "colorscale": [
             [
              0,
              "#0d0887"
             ],
             [
              0.1111111111111111,
              "#46039f"
             ],
             [
              0.2222222222222222,
              "#7201a8"
             ],
             [
              0.3333333333333333,
              "#9c179e"
             ],
             [
              0.4444444444444444,
              "#bd3786"
             ],
             [
              0.5555555555555556,
              "#d8576b"
             ],
             [
              0.6666666666666666,
              "#ed7953"
             ],
             [
              0.7777777777777778,
              "#fb9f3a"
             ],
             [
              0.8888888888888888,
              "#fdca26"
             ],
             [
              1,
              "#f0f921"
             ]
            ],
            "type": "histogram2d"
           }
          ],
          "histogram2dcontour": [
           {
            "colorbar": {
             "outlinewidth": 0,
             "ticks": ""
            },
            "colorscale": [
             [
              0,
              "#0d0887"
             ],
             [
              0.1111111111111111,
              "#46039f"
             ],
             [
              0.2222222222222222,
              "#7201a8"
             ],
             [
              0.3333333333333333,
              "#9c179e"
             ],
             [
              0.4444444444444444,
              "#bd3786"
             ],
             [
              0.5555555555555556,
              "#d8576b"
             ],
             [
              0.6666666666666666,
              "#ed7953"
             ],
             [
              0.7777777777777778,
              "#fb9f3a"
             ],
             [
              0.8888888888888888,
              "#fdca26"
             ],
             [
              1,
              "#f0f921"
             ]
            ],
            "type": "histogram2dcontour"
           }
          ],
          "mesh3d": [
           {
            "colorbar": {
             "outlinewidth": 0,
             "ticks": ""
            },
            "type": "mesh3d"
           }
          ],
          "parcoords": [
           {
            "line": {
             "colorbar": {
              "outlinewidth": 0,
              "ticks": ""
             }
            },
            "type": "parcoords"
           }
          ],
          "pie": [
           {
            "automargin": true,
            "type": "pie"
           }
          ],
          "scatter": [
           {
            "fillpattern": {
             "fillmode": "overlay",
             "size": 10,
             "solidity": 0.2
            },
            "type": "scatter"
           }
          ],
          "scatter3d": [
           {
            "line": {
             "colorbar": {
              "outlinewidth": 0,
              "ticks": ""
             }
            },
            "marker": {
             "colorbar": {
              "outlinewidth": 0,
              "ticks": ""
             }
            },
            "type": "scatter3d"
           }
          ],
          "scattercarpet": [
           {
            "marker": {
             "colorbar": {
              "outlinewidth": 0,
              "ticks": ""
             }
            },
            "type": "scattercarpet"
           }
          ],
          "scattergeo": [
           {
            "marker": {
             "colorbar": {
              "outlinewidth": 0,
              "ticks": ""
             }
            },
            "type": "scattergeo"
           }
          ],
          "scattergl": [
           {
            "marker": {
             "colorbar": {
              "outlinewidth": 0,
              "ticks": ""
             }
            },
            "type": "scattergl"
           }
          ],
          "scattermapbox": [
           {
            "marker": {
             "colorbar": {
              "outlinewidth": 0,
              "ticks": ""
             }
            },
            "type": "scattermapbox"
           }
          ],
          "scatterpolar": [
           {
            "marker": {
             "colorbar": {
              "outlinewidth": 0,
              "ticks": ""
             }
            },
            "type": "scatterpolar"
           }
          ],
          "scatterpolargl": [
           {
            "marker": {
             "colorbar": {
              "outlinewidth": 0,
              "ticks": ""
             }
            },
            "type": "scatterpolargl"
           }
          ],
          "scatterternary": [
           {
            "marker": {
             "colorbar": {
              "outlinewidth": 0,
              "ticks": ""
             }
            },
            "type": "scatterternary"
           }
          ],
          "surface": [
           {
            "colorbar": {
             "outlinewidth": 0,
             "ticks": ""
            },
            "colorscale": [
             [
              0,
              "#0d0887"
             ],
             [
              0.1111111111111111,
              "#46039f"
             ],
             [
              0.2222222222222222,
              "#7201a8"
             ],
             [
              0.3333333333333333,
              "#9c179e"
             ],
             [
              0.4444444444444444,
              "#bd3786"
             ],
             [
              0.5555555555555556,
              "#d8576b"
             ],
             [
              0.6666666666666666,
              "#ed7953"
             ],
             [
              0.7777777777777778,
              "#fb9f3a"
             ],
             [
              0.8888888888888888,
              "#fdca26"
             ],
             [
              1,
              "#f0f921"
             ]
            ],
            "type": "surface"
           }
          ],
          "table": [
           {
            "cells": {
             "fill": {
              "color": "#EBF0F8"
             },
             "line": {
              "color": "white"
             }
            },
            "header": {
             "fill": {
              "color": "#C8D4E3"
             },
             "line": {
              "color": "white"
             }
            },
            "type": "table"
           }
          ]
         },
         "layout": {
          "annotationdefaults": {
           "arrowcolor": "#2a3f5f",
           "arrowhead": 0,
           "arrowwidth": 1
          },
          "autotypenumbers": "strict",
          "coloraxis": {
           "colorbar": {
            "outlinewidth": 0,
            "ticks": ""
           }
          },
          "colorscale": {
           "diverging": [
            [
             0,
             "#8e0152"
            ],
            [
             0.1,
             "#c51b7d"
            ],
            [
             0.2,
             "#de77ae"
            ],
            [
             0.3,
             "#f1b6da"
            ],
            [
             0.4,
             "#fde0ef"
            ],
            [
             0.5,
             "#f7f7f7"
            ],
            [
             0.6,
             "#e6f5d0"
            ],
            [
             0.7,
             "#b8e186"
            ],
            [
             0.8,
             "#7fbc41"
            ],
            [
             0.9,
             "#4d9221"
            ],
            [
             1,
             "#276419"
            ]
           ],
           "sequential": [
            [
             0,
             "#0d0887"
            ],
            [
             0.1111111111111111,
             "#46039f"
            ],
            [
             0.2222222222222222,
             "#7201a8"
            ],
            [
             0.3333333333333333,
             "#9c179e"
            ],
            [
             0.4444444444444444,
             "#bd3786"
            ],
            [
             0.5555555555555556,
             "#d8576b"
            ],
            [
             0.6666666666666666,
             "#ed7953"
            ],
            [
             0.7777777777777778,
             "#fb9f3a"
            ],
            [
             0.8888888888888888,
             "#fdca26"
            ],
            [
             1,
             "#f0f921"
            ]
           ],
           "sequentialminus": [
            [
             0,
             "#0d0887"
            ],
            [
             0.1111111111111111,
             "#46039f"
            ],
            [
             0.2222222222222222,
             "#7201a8"
            ],
            [
             0.3333333333333333,
             "#9c179e"
            ],
            [
             0.4444444444444444,
             "#bd3786"
            ],
            [
             0.5555555555555556,
             "#d8576b"
            ],
            [
             0.6666666666666666,
             "#ed7953"
            ],
            [
             0.7777777777777778,
             "#fb9f3a"
            ],
            [
             0.8888888888888888,
             "#fdca26"
            ],
            [
             1,
             "#f0f921"
            ]
           ]
          },
          "colorway": [
           "#636efa",
           "#EF553B",
           "#00cc96",
           "#ab63fa",
           "#FFA15A",
           "#19d3f3",
           "#FF6692",
           "#B6E880",
           "#FF97FF",
           "#FECB52"
          ],
          "font": {
           "color": "#2a3f5f"
          },
          "geo": {
           "bgcolor": "white",
           "lakecolor": "white",
           "landcolor": "#E5ECF6",
           "showlakes": true,
           "showland": true,
           "subunitcolor": "white"
          },
          "hoverlabel": {
           "align": "left"
          },
          "hovermode": "closest",
          "mapbox": {
           "style": "light"
          },
          "paper_bgcolor": "white",
          "plot_bgcolor": "#E5ECF6",
          "polar": {
           "angularaxis": {
            "gridcolor": "white",
            "linecolor": "white",
            "ticks": ""
           },
           "bgcolor": "#E5ECF6",
           "radialaxis": {
            "gridcolor": "white",
            "linecolor": "white",
            "ticks": ""
           }
          },
          "scene": {
           "xaxis": {
            "backgroundcolor": "#E5ECF6",
            "gridcolor": "white",
            "gridwidth": 2,
            "linecolor": "white",
            "showbackground": true,
            "ticks": "",
            "zerolinecolor": "white"
           },
           "yaxis": {
            "backgroundcolor": "#E5ECF6",
            "gridcolor": "white",
            "gridwidth": 2,
            "linecolor": "white",
            "showbackground": true,
            "ticks": "",
            "zerolinecolor": "white"
           },
           "zaxis": {
            "backgroundcolor": "#E5ECF6",
            "gridcolor": "white",
            "gridwidth": 2,
            "linecolor": "white",
            "showbackground": true,
            "ticks": "",
            "zerolinecolor": "white"
           }
          },
          "shapedefaults": {
           "line": {
            "color": "#2a3f5f"
           }
          },
          "ternary": {
           "aaxis": {
            "gridcolor": "white",
            "linecolor": "white",
            "ticks": ""
           },
           "baxis": {
            "gridcolor": "white",
            "linecolor": "white",
            "ticks": ""
           },
           "bgcolor": "#E5ECF6",
           "caxis": {
            "gridcolor": "white",
            "linecolor": "white",
            "ticks": ""
           }
          },
          "title": {
           "x": 0.05
          },
          "xaxis": {
           "automargin": true,
           "gridcolor": "white",
           "linecolor": "white",
           "ticks": "",
           "title": {
            "standoff": 15
           },
           "zerolinecolor": "white",
           "zerolinewidth": 2
          },
          "yaxis": {
           "automargin": true,
           "gridcolor": "white",
           "linecolor": "white",
           "ticks": "",
           "title": {
            "standoff": 15
           },
           "zerolinecolor": "white",
           "zerolinewidth": 2
          }
         }
        },
        "title": {
         "text": "Information Gain from top 100 SAE features"
        },
        "width": 800,
        "xaxis": {
         "title": {
          "text": "Feature #"
         }
        },
        "yaxis": {
         "gridcolor": "DarkGray",
         "gridwidth": 2,
         "showgrid": true,
         "title": {
          "text": "Information Gain"
         },
         "zeroline": true,
         "zerolinecolor": "Black",
         "zerolinewidth": 2
        }
       }
      },
      "text/html": [
       "<div>                            <div id=\"f5ccfa2b-08cb-48a5-ac6c-d671ff2445a5\" class=\"plotly-graph-div\" style=\"height:500px; width:800px;\"></div>            <script type=\"text/javascript\">                require([\"plotly\"], function(Plotly) {                    window.PLOTLYENV=window.PLOTLYENV || {};                                    if (document.getElementById(\"f5ccfa2b-08cb-48a5-ac6c-d671ff2445a5\")) {                    Plotly.newPlot(                        \"f5ccfa2b-08cb-48a5-ac6c-d671ff2445a5\",                        [{\"marker\":{\"color\":\"DarkRed\"},\"x\":[\"#646\",\"#578\",\"#58\",\"#479\",\"#868\",\"#901\",\"#651\",\"#622\",\"#307\",\"#680\",\"#889\",\"#503\",\"#438\",\"#184\",\"#859\",\"#275\",\"#379\",\"#436\",\"#174\",\"#363\",\"#127\",\"#918\",\"#140\",\"#78\",\"#652\",\"#754\",\"#764\",\"#7\",\"#922\",\"#796\",\"#468\",\"#677\",\"#584\",\"#962\",\"#93\",\"#33\",\"#10\",\"#911\",\"#872\",\"#726\",\"#596\",\"#138\",\"#975\",\"#734\",\"#780\",\"#961\",\"#84\",\"#168\",\"#300\",\"#306\",\"#694\",\"#866\",\"#461\",\"#836\",\"#491\",\"#665\",\"#329\",\"#165\",\"#202\",\"#927\",\"#579\",\"#654\",\"#428\",\"#599\",\"#632\",\"#242\",\"#172\",\"#682\",\"#130\",\"#416\",\"#111\",\"#614\",\"#433\",\"#563\",\"#250\",\"#475\",\"#978\",\"#47\",\"#443\",\"#616\",\"#148\",\"#519\",\"#575\",\"#146\",\"#73\",\"#434\",\"#589\",\"#286\",\"#196\",\"#710\",\"#907\",\"#511\",\"#152\",\"#827\",\"#83\",\"#323\",\"#874\",\"#844\",\"#852\",\"#531\"],\"y\":[95.4289651184082,90.37055743408203,89.33388391113282,89.25090075683593,87.66433575439453,82.218896484375,81.802345703125,80.95896047973633,80.60480368041992,79.09310131835937,78.73687298583984,77.16919458007813,76.931724609375,76.83486990356445,75.78750817871094,75.50454614257812,73.98928598022461,73.05777938842773,72.47374771118164,72.336228515625,72.27674127197265,70.82257501220703,70.8011287689209,70.44489840698242,69.79581408691406,69.22678875732421,69.13209002685547,69.1261053466797,68.92093627929688,68.92039277648925,68.78690689086915,68.77249877929688,68.40550469970704,68.1696552734375,68.11146380615234,68.02282769775391,67.83297204589844,67.23224359130859,66.90304681396485,66.75474475097656,66.65238473510742,66.31173773193359,66.11876751708985,65.92213827514648,65.8301577758789,65.79303020477295,65.46646685791016,65.36699786376953,65.23176443481445,64.72799685668946,64.64772625732422,63.79378582763672,63.512448486328125,62.79179248046875,62.44190606689453,62.35151281738281,62.15190362548828,62.03664288330078,61.99058096313477,61.672759635925296,61.6305498046875,61.62756832885742,61.41641416168213,61.264792510986325,61.229476379394534,60.8181921081543,60.289041320800784,58.83905462646484,58.7821882019043,58.475750205993656,58.26097351074219,58.12410864257812,57.76078108215332,57.287423095703126,57.18972540283203,56.65433526611328,56.57311141967774,56.50240026855469,55.728591812133786,55.48798101806641,55.39706747436524,55.20512168884277,54.8552776184082,54.506521484375,54.5038225402832,54.19453198242188,54.15593468475342,53.981206268310544,53.853137634277346,53.689394676208494,53.5553462524414,53.151678955078125,52.642782104492184,51.83779113769531,51.82102326202393,51.4541431427002,51.01358874511719,50.972242980957034,50.93437147521973,50.78548115539551],\"type\":\"bar\"}],                        {\"template\":{\"data\":{\"histogram2dcontour\":[{\"type\":\"histogram2dcontour\",\"colorbar\":{\"outlinewidth\":0,\"ticks\":\"\"},\"colorscale\":[[0.0,\"#0d0887\"],[0.1111111111111111,\"#46039f\"],[0.2222222222222222,\"#7201a8\"],[0.3333333333333333,\"#9c179e\"],[0.4444444444444444,\"#bd3786\"],[0.5555555555555556,\"#d8576b\"],[0.6666666666666666,\"#ed7953\"],[0.7777777777777778,\"#fb9f3a\"],[0.8888888888888888,\"#fdca26\"],[1.0,\"#f0f921\"]]}],\"choropleth\":[{\"type\":\"choropleth\",\"colorbar\":{\"outlinewidth\":0,\"ticks\":\"\"}}],\"histogram2d\":[{\"type\":\"histogram2d\",\"colorbar\":{\"outlinewidth\":0,\"ticks\":\"\"},\"colorscale\":[[0.0,\"#0d0887\"],[0.1111111111111111,\"#46039f\"],[0.2222222222222222,\"#7201a8\"],[0.3333333333333333,\"#9c179e\"],[0.4444444444444444,\"#bd3786\"],[0.5555555555555556,\"#d8576b\"],[0.6666666666666666,\"#ed7953\"],[0.7777777777777778,\"#fb9f3a\"],[0.8888888888888888,\"#fdca26\"],[1.0,\"#f0f921\"]]}],\"heatmap\":[{\"type\":\"heatmap\",\"colorbar\":{\"outlinewidth\":0,\"ticks\":\"\"},\"colorscale\":[[0.0,\"#0d0887\"],[0.1111111111111111,\"#46039f\"],[0.2222222222222222,\"#7201a8\"],[0.3333333333333333,\"#9c179e\"],[0.4444444444444444,\"#bd3786\"],[0.5555555555555556,\"#d8576b\"],[0.6666666666666666,\"#ed7953\"],[0.7777777777777778,\"#fb9f3a\"],[0.8888888888888888,\"#fdca26\"],[1.0,\"#f0f921\"]]}],\"heatmapgl\":[{\"type\":\"heatmapgl\",\"colorbar\":{\"outlinewidth\":0,\"ticks\":\"\"},\"colorscale\":[[0.0,\"#0d0887\"],[0.1111111111111111,\"#46039f\"],[0.2222222222222222,\"#7201a8\"],[0.3333333333333333,\"#9c179e\"],[0.4444444444444444,\"#bd3786\"],[0.5555555555555556,\"#d8576b\"],[0.6666666666666666,\"#ed7953\"],[0.7777777777777778,\"#fb9f3a\"],[0.8888888888888888,\"#fdca26\"],[1.0,\"#f0f921\"]]}],\"contourcarpet\":[{\"type\":\"contourcarpet\",\"colorbar\":{\"outlinewidth\":0,\"ticks\":\"\"}}],\"contour\":[{\"type\":\"contour\",\"colorbar\":{\"outlinewidth\":0,\"ticks\":\"\"},\"colorscale\":[[0.0,\"#0d0887\"],[0.1111111111111111,\"#46039f\"],[0.2222222222222222,\"#7201a8\"],[0.3333333333333333,\"#9c179e\"],[0.4444444444444444,\"#bd3786\"],[0.5555555555555556,\"#d8576b\"],[0.6666666666666666,\"#ed7953\"],[0.7777777777777778,\"#fb9f3a\"],[0.8888888888888888,\"#fdca26\"],[1.0,\"#f0f921\"]]}],\"surface\":[{\"type\":\"surface\",\"colorbar\":{\"outlinewidth\":0,\"ticks\":\"\"},\"colorscale\":[[0.0,\"#0d0887\"],[0.1111111111111111,\"#46039f\"],[0.2222222222222222,\"#7201a8\"],[0.3333333333333333,\"#9c179e\"],[0.4444444444444444,\"#bd3786\"],[0.5555555555555556,\"#d8576b\"],[0.6666666666666666,\"#ed7953\"],[0.7777777777777778,\"#fb9f3a\"],[0.8888888888888888,\"#fdca26\"],[1.0,\"#f0f921\"]]}],\"mesh3d\":[{\"type\":\"mesh3d\",\"colorbar\":{\"outlinewidth\":0,\"ticks\":\"\"}}],\"scatter\":[{\"fillpattern\":{\"fillmode\":\"overlay\",\"size\":10,\"solidity\":0.2},\"type\":\"scatter\"}],\"parcoords\":[{\"type\":\"parcoords\",\"line\":{\"colorbar\":{\"outlinewidth\":0,\"ticks\":\"\"}}}],\"scatterpolargl\":[{\"type\":\"scatterpolargl\",\"marker\":{\"colorbar\":{\"outlinewidth\":0,\"ticks\":\"\"}}}],\"bar\":[{\"error_x\":{\"color\":\"#2a3f5f\"},\"error_y\":{\"color\":\"#2a3f5f\"},\"marker\":{\"line\":{\"color\":\"#E5ECF6\",\"width\":0.5},\"pattern\":{\"fillmode\":\"overlay\",\"size\":10,\"solidity\":0.2}},\"type\":\"bar\"}],\"scattergeo\":[{\"type\":\"scattergeo\",\"marker\":{\"colorbar\":{\"outlinewidth\":0,\"ticks\":\"\"}}}],\"scatterpolar\":[{\"type\":\"scatterpolar\",\"marker\":{\"colorbar\":{\"outlinewidth\":0,\"ticks\":\"\"}}}],\"histogram\":[{\"marker\":{\"pattern\":{\"fillmode\":\"overlay\",\"size\":10,\"solidity\":0.2}},\"type\":\"histogram\"}],\"scattergl\":[{\"type\":\"scattergl\",\"marker\":{\"colorbar\":{\"outlinewidth\":0,\"ticks\":\"\"}}}],\"scatter3d\":[{\"type\":\"scatter3d\",\"line\":{\"colorbar\":{\"outlinewidth\":0,\"ticks\":\"\"}},\"marker\":{\"colorbar\":{\"outlinewidth\":0,\"ticks\":\"\"}}}],\"scattermapbox\":[{\"type\":\"scattermapbox\",\"marker\":{\"colorbar\":{\"outlinewidth\":0,\"ticks\":\"\"}}}],\"scatterternary\":[{\"type\":\"scatterternary\",\"marker\":{\"colorbar\":{\"outlinewidth\":0,\"ticks\":\"\"}}}],\"scattercarpet\":[{\"type\":\"scattercarpet\",\"marker\":{\"colorbar\":{\"outlinewidth\":0,\"ticks\":\"\"}}}],\"carpet\":[{\"aaxis\":{\"endlinecolor\":\"#2a3f5f\",\"gridcolor\":\"white\",\"linecolor\":\"white\",\"minorgridcolor\":\"white\",\"startlinecolor\":\"#2a3f5f\"},\"baxis\":{\"endlinecolor\":\"#2a3f5f\",\"gridcolor\":\"white\",\"linecolor\":\"white\",\"minorgridcolor\":\"white\",\"startlinecolor\":\"#2a3f5f\"},\"type\":\"carpet\"}],\"table\":[{\"cells\":{\"fill\":{\"color\":\"#EBF0F8\"},\"line\":{\"color\":\"white\"}},\"header\":{\"fill\":{\"color\":\"#C8D4E3\"},\"line\":{\"color\":\"white\"}},\"type\":\"table\"}],\"barpolar\":[{\"marker\":{\"line\":{\"color\":\"#E5ECF6\",\"width\":0.5},\"pattern\":{\"fillmode\":\"overlay\",\"size\":10,\"solidity\":0.2}},\"type\":\"barpolar\"}],\"pie\":[{\"automargin\":true,\"type\":\"pie\"}]},\"layout\":{\"autotypenumbers\":\"strict\",\"colorway\":[\"#636efa\",\"#EF553B\",\"#00cc96\",\"#ab63fa\",\"#FFA15A\",\"#19d3f3\",\"#FF6692\",\"#B6E880\",\"#FF97FF\",\"#FECB52\"],\"font\":{\"color\":\"#2a3f5f\"},\"hovermode\":\"closest\",\"hoverlabel\":{\"align\":\"left\"},\"paper_bgcolor\":\"white\",\"plot_bgcolor\":\"#E5ECF6\",\"polar\":{\"bgcolor\":\"#E5ECF6\",\"angularaxis\":{\"gridcolor\":\"white\",\"linecolor\":\"white\",\"ticks\":\"\"},\"radialaxis\":{\"gridcolor\":\"white\",\"linecolor\":\"white\",\"ticks\":\"\"}},\"ternary\":{\"bgcolor\":\"#E5ECF6\",\"aaxis\":{\"gridcolor\":\"white\",\"linecolor\":\"white\",\"ticks\":\"\"},\"baxis\":{\"gridcolor\":\"white\",\"linecolor\":\"white\",\"ticks\":\"\"},\"caxis\":{\"gridcolor\":\"white\",\"linecolor\":\"white\",\"ticks\":\"\"}},\"coloraxis\":{\"colorbar\":{\"outlinewidth\":0,\"ticks\":\"\"}},\"colorscale\":{\"sequential\":[[0.0,\"#0d0887\"],[0.1111111111111111,\"#46039f\"],[0.2222222222222222,\"#7201a8\"],[0.3333333333333333,\"#9c179e\"],[0.4444444444444444,\"#bd3786\"],[0.5555555555555556,\"#d8576b\"],[0.6666666666666666,\"#ed7953\"],[0.7777777777777778,\"#fb9f3a\"],[0.8888888888888888,\"#fdca26\"],[1.0,\"#f0f921\"]],\"sequentialminus\":[[0.0,\"#0d0887\"],[0.1111111111111111,\"#46039f\"],[0.2222222222222222,\"#7201a8\"],[0.3333333333333333,\"#9c179e\"],[0.4444444444444444,\"#bd3786\"],[0.5555555555555556,\"#d8576b\"],[0.6666666666666666,\"#ed7953\"],[0.7777777777777778,\"#fb9f3a\"],[0.8888888888888888,\"#fdca26\"],[1.0,\"#f0f921\"]],\"diverging\":[[0,\"#8e0152\"],[0.1,\"#c51b7d\"],[0.2,\"#de77ae\"],[0.3,\"#f1b6da\"],[0.4,\"#fde0ef\"],[0.5,\"#f7f7f7\"],[0.6,\"#e6f5d0\"],[0.7,\"#b8e186\"],[0.8,\"#7fbc41\"],[0.9,\"#4d9221\"],[1,\"#276419\"]]},\"xaxis\":{\"gridcolor\":\"white\",\"linecolor\":\"white\",\"ticks\":\"\",\"title\":{\"standoff\":15},\"zerolinecolor\":\"white\",\"automargin\":true,\"zerolinewidth\":2},\"yaxis\":{\"gridcolor\":\"white\",\"linecolor\":\"white\",\"ticks\":\"\",\"title\":{\"standoff\":15},\"zerolinecolor\":\"white\",\"automargin\":true,\"zerolinewidth\":2},\"scene\":{\"xaxis\":{\"backgroundcolor\":\"#E5ECF6\",\"gridcolor\":\"white\",\"linecolor\":\"white\",\"showbackground\":true,\"ticks\":\"\",\"zerolinecolor\":\"white\",\"gridwidth\":2},\"yaxis\":{\"backgroundcolor\":\"#E5ECF6\",\"gridcolor\":\"white\",\"linecolor\":\"white\",\"showbackground\":true,\"ticks\":\"\",\"zerolinecolor\":\"white\",\"gridwidth\":2},\"zaxis\":{\"backgroundcolor\":\"#E5ECF6\",\"gridcolor\":\"white\",\"linecolor\":\"white\",\"showbackground\":true,\"ticks\":\"\",\"zerolinecolor\":\"white\",\"gridwidth\":2}},\"shapedefaults\":{\"line\":{\"color\":\"#2a3f5f\"}},\"annotationdefaults\":{\"arrowcolor\":\"#2a3f5f\",\"arrowhead\":0,\"arrowwidth\":1},\"geo\":{\"bgcolor\":\"white\",\"landcolor\":\"#E5ECF6\",\"subunitcolor\":\"white\",\"showland\":true,\"showlakes\":true,\"lakecolor\":\"white\"},\"title\":{\"x\":0.05},\"mapbox\":{\"style\":\"light\"}}},\"title\":{\"text\":\"Information Gain from top 100 SAE features\"},\"plot_bgcolor\":\"white\",\"xaxis\":{\"title\":{\"text\":\"Feature #\"}},\"yaxis\":{\"title\":{\"text\":\"Information Gain\"},\"showgrid\":true,\"gridwidth\":2,\"gridcolor\":\"DarkGray\",\"zeroline\":true,\"zerolinewidth\":2,\"zerolinecolor\":\"Black\"},\"width\":800,\"height\":500},                        {\"responsive\": true}                    ).then(function(){\n",
       "                            \n",
       "var gd = document.getElementById('f5ccfa2b-08cb-48a5-ac6c-d671ff2445a5');\n",
       "var x = new MutationObserver(function (mutations, observer) {{\n",
       "        var display = window.getComputedStyle(gd).display;\n",
       "        if (!display || display === 'none') {{\n",
       "            console.log([gd, 'removed!']);\n",
       "            Plotly.purge(gd);\n",
       "            observer.disconnect();\n",
       "        }}\n",
       "}});\n",
       "\n",
       "// Listen for the removal of the full notebook cells\n",
       "var notebookContainer = gd.closest('#notebook-container');\n",
       "if (notebookContainer) {{\n",
       "    x.observe(notebookContainer, {childList: true});\n",
       "}}\n",
       "\n",
       "// Listen for the clearing of the current output cell\n",
       "var outputEl = gd.closest('.output');\n",
       "if (outputEl) {{\n",
       "    x.observe(outputEl, {childList: true});\n",
       "}}\n",
       "\n",
       "                        })                };                });            </script>        </div>"
      ]
     },
     "metadata": {},
     "output_type": "display_data"
    }
   ],
   "source": [
    "fig = go.Figure()\n",
    "fig.add_trace(go.Bar(x=[f'#{i}' for i in top_100_features], y=[information_gains_[i] for i in top_100_features], marker_color='DarkRed'))\n",
    "fig.update_layout(title='Information Gain from top 100 SAE features')\n",
    "fig.update_layout(plot_bgcolor='white')\n",
    "fig.update_xaxes(title_text='Feature #')\n",
    "fig.update_yaxes(title_text='Information Gain')\n",
    "fig.update_layout(width=800, height=500)\n",
    "# y-axis grid lines\n",
    "fig.update_yaxes(showgrid=True, gridwidth=2, gridcolor='DarkGray')\n",
    "# show zero line\n",
    "fig.update_yaxes(zeroline=True, zerolinewidth=2, zerolinecolor='Black')\n",
    "fig.show()"
   ]
  }
 ],
 "metadata": {
  "kernelspec": {
   "display_name": "alignment",
   "language": "python",
   "name": "python3"
  },
  "language_info": {
   "codemirror_mode": {
    "name": "ipython",
    "version": 3
   },
   "file_extension": ".py",
   "mimetype": "text/x-python",
   "name": "python",
   "nbconvert_exporter": "python",
   "pygments_lexer": "ipython3",
   "version": "3.11.9"
  }
 },
 "nbformat": 4,
 "nbformat_minor": 2
}
